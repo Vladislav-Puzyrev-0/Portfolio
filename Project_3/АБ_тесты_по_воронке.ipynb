{
 "cells": [
  {
   "cell_type": "markdown",
   "metadata": {
    "id": "Ij5L6ccasNx9"
   },
   "source": [
    "# Описание действий :\n",
    "- Нужно разобраться, как ведут себя пользователи мобильного приложения.\n",
    "- Изучить воронку продаж.\n",
    "- Узнать, как пользователи доходят до покупки.\n",
    "- Сколько пользователей доходит до покупки, а сколько — «застревает» на предыдущих шагах? На каких именно?\n",
    "- После этого исследовать результаты A/A/B-эксперимента. Дизайнеры захотели поменять шрифты во всём приложении, а менеджеры испугались, что пользователям будет непривычно. Договорились принять решение по результатам A/A/B-теста. Пользователей разбили на 3 группы: 2 контрольные со старыми шрифтами и одну экспериментальную — с новыми.\n",
    "- Создать две группы A вместо одной имеет определённые преимущества. Если две контрольные группы окажутся равны, то можно быть увереным в точности проведенного тестирования. Если же между значениями A и A будут существенные различия, это поможет обнаружить факторы, которые привели к искажению результатов.\n",
    "- В случае общей аналитики и A/A/B-эксперимента работать с одними и теми же данными."
   ]
  },
  {
   "cell_type": "markdown",
   "metadata": {
    "id": "YgyajLY9sNx-"
   },
   "source": [
    "## Шаг 1. Открыть файл с данными и изучить общую информацию"
   ]
  },
  {
   "cell_type": "code",
   "execution_count": 5,
   "metadata": {
    "id": "F3UmkHxXsNx_"
   },
   "outputs": [],
   "source": [
    "import pandas as pd\n",
    "import datetime\n",
    "from matplotlib import pyplot as plt\n",
    "import numpy as np\n",
    "from scipy import stats\n",
    "from scipy.stats import ttest_ind\n",
    "from statsmodels.stats.proportion import proportions_ztest"
   ]
  },
  {
   "cell_type": "code",
   "execution_count": 6,
   "metadata": {
    "id": "0Kak5WwasNyI"
   },
   "outputs": [],
   "source": [
    "df = pd.read_csv('Data/logs_exp.csv',sep='\\t')"
   ]
  },
  {
   "cell_type": "code",
   "execution_count": 7,
   "metadata": {
    "id": "j8-ZN_49sNyJ",
    "outputId": "c0aa4b5f-6e5d-48ea-c5fc-35a97b02004b",
    "scrolled": true
   },
   "outputs": [
    {
     "data": {
      "text/html": [
       "<div>\n",
       "<style scoped>\n",
       "    .dataframe tbody tr th:only-of-type {\n",
       "        vertical-align: middle;\n",
       "    }\n",
       "\n",
       "    .dataframe tbody tr th {\n",
       "        vertical-align: top;\n",
       "    }\n",
       "\n",
       "    .dataframe thead th {\n",
       "        text-align: right;\n",
       "    }\n",
       "</style>\n",
       "<table border=\"1\" class=\"dataframe\">\n",
       "  <thead>\n",
       "    <tr style=\"text-align: right;\">\n",
       "      <th></th>\n",
       "      <th>EventName</th>\n",
       "      <th>DeviceIDHash</th>\n",
       "      <th>EventTimestamp</th>\n",
       "      <th>ExpId</th>\n",
       "    </tr>\n",
       "  </thead>\n",
       "  <tbody>\n",
       "    <tr>\n",
       "      <th>0</th>\n",
       "      <td>MainScreenAppear</td>\n",
       "      <td>4575588528974610257</td>\n",
       "      <td>1564029816</td>\n",
       "      <td>246</td>\n",
       "    </tr>\n",
       "    <tr>\n",
       "      <th>1</th>\n",
       "      <td>MainScreenAppear</td>\n",
       "      <td>7416695313311560658</td>\n",
       "      <td>1564053102</td>\n",
       "      <td>246</td>\n",
       "    </tr>\n",
       "    <tr>\n",
       "      <th>2</th>\n",
       "      <td>PaymentScreenSuccessful</td>\n",
       "      <td>3518123091307005509</td>\n",
       "      <td>1564054127</td>\n",
       "      <td>248</td>\n",
       "    </tr>\n",
       "    <tr>\n",
       "      <th>3</th>\n",
       "      <td>CartScreenAppear</td>\n",
       "      <td>3518123091307005509</td>\n",
       "      <td>1564054127</td>\n",
       "      <td>248</td>\n",
       "    </tr>\n",
       "    <tr>\n",
       "      <th>4</th>\n",
       "      <td>PaymentScreenSuccessful</td>\n",
       "      <td>6217807653094995999</td>\n",
       "      <td>1564055322</td>\n",
       "      <td>248</td>\n",
       "    </tr>\n",
       "  </tbody>\n",
       "</table>\n",
       "</div>"
      ],
      "text/plain": [
       "                 EventName         DeviceIDHash  EventTimestamp  ExpId\n",
       "0         MainScreenAppear  4575588528974610257      1564029816    246\n",
       "1         MainScreenAppear  7416695313311560658      1564053102    246\n",
       "2  PaymentScreenSuccessful  3518123091307005509      1564054127    248\n",
       "3         CartScreenAppear  3518123091307005509      1564054127    248\n",
       "4  PaymentScreenSuccessful  6217807653094995999      1564055322    248"
      ]
     },
     "execution_count": 7,
     "metadata": {},
     "output_type": "execute_result"
    }
   ],
   "source": [
    "df.head()"
   ]
  },
  {
   "cell_type": "markdown",
   "metadata": {
    "id": "-98uRd0nsNyN"
   },
   "source": [
    "## Шаг 2. Подготовить данные\n",
    "- Заменить названия столбцов на удобные для вас;\n",
    "- Проверить пропуски и типы данных. Откорректировать, если нужно;\n",
    "- Добавить столбец даты и времени, а также отдельный столбец дат;"
   ]
  },
  {
   "cell_type": "code",
   "execution_count": 8,
   "metadata": {
    "id": "k2wDpZtJsNyN"
   },
   "outputs": [],
   "source": [
    "df.columns = ['event','device_id','datetime','group']"
   ]
  },
  {
   "cell_type": "markdown",
   "metadata": {
    "id": "qJt25-1psNyO"
   },
   "source": [
    "### Посмотрел пропуски"
   ]
  },
  {
   "cell_type": "code",
   "execution_count": 9,
   "metadata": {
    "id": "hmr0JM5jsNyP",
    "outputId": "2cb7071b-bf8f-42ec-aa46-3ba39ab9af49"
   },
   "outputs": [
    {
     "data": {
      "text/plain": [
       "event        0\n",
       "device_id    0\n",
       "datetime     0\n",
       "group        0\n",
       "dtype: int64"
      ]
     },
     "execution_count": 9,
     "metadata": {},
     "output_type": "execute_result"
    }
   ],
   "source": [
    "df.isna().sum()"
   ]
  },
  {
   "cell_type": "markdown",
   "metadata": {
    "id": "znI8DeL6sNyP"
   },
   "source": [
    "### Типы данных"
   ]
  },
  {
   "cell_type": "code",
   "execution_count": 10,
   "metadata": {
    "id": "zWus3IfGsNyS",
    "outputId": "9b6a6798-4f12-4e69-82b4-005034c78b55"
   },
   "outputs": [
    {
     "name": "stdout",
     "output_type": "stream",
     "text": [
      "<class 'pandas.core.frame.DataFrame'>\n",
      "RangeIndex: 244126 entries, 0 to 244125\n",
      "Data columns (total 4 columns):\n",
      " #   Column     Non-Null Count   Dtype \n",
      "---  ------     --------------   ----- \n",
      " 0   event      244126 non-null  object\n",
      " 1   device_id  244126 non-null  int64 \n",
      " 2   datetime   244126 non-null  int64 \n",
      " 3   group      244126 non-null  int64 \n",
      "dtypes: int64(3), object(1)\n",
      "memory usage: 7.5+ MB\n"
     ]
    }
   ],
   "source": [
    "df.info()"
   ]
  },
  {
   "cell_type": "markdown",
   "metadata": {
    "id": "suW3oB7IsNyT"
   },
   "source": [
    "### Заменил числовой формат на формат datetime"
   ]
  },
  {
   "cell_type": "code",
   "execution_count": 11,
   "metadata": {
    "id": "sIW1gydzsNyU"
   },
   "outputs": [],
   "source": [
    "df['datetime'] = pd.to_datetime(df['datetime'], unit='s')"
   ]
  },
  {
   "cell_type": "code",
   "execution_count": 12,
   "metadata": {
    "id": "JVqTlXhVsNyW",
    "outputId": "056dba30-2e55-4cb7-acc1-1823b14fadf7"
   },
   "outputs": [
    {
     "data": {
      "text/html": [
       "<div>\n",
       "<style scoped>\n",
       "    .dataframe tbody tr th:only-of-type {\n",
       "        vertical-align: middle;\n",
       "    }\n",
       "\n",
       "    .dataframe tbody tr th {\n",
       "        vertical-align: top;\n",
       "    }\n",
       "\n",
       "    .dataframe thead th {\n",
       "        text-align: right;\n",
       "    }\n",
       "</style>\n",
       "<table border=\"1\" class=\"dataframe\">\n",
       "  <thead>\n",
       "    <tr style=\"text-align: right;\">\n",
       "      <th></th>\n",
       "      <th>event</th>\n",
       "      <th>device_id</th>\n",
       "      <th>datetime</th>\n",
       "      <th>group</th>\n",
       "    </tr>\n",
       "  </thead>\n",
       "  <tbody>\n",
       "    <tr>\n",
       "      <th>0</th>\n",
       "      <td>MainScreenAppear</td>\n",
       "      <td>4575588528974610257</td>\n",
       "      <td>2019-07-25 04:43:36</td>\n",
       "      <td>246</td>\n",
       "    </tr>\n",
       "    <tr>\n",
       "      <th>1</th>\n",
       "      <td>MainScreenAppear</td>\n",
       "      <td>7416695313311560658</td>\n",
       "      <td>2019-07-25 11:11:42</td>\n",
       "      <td>246</td>\n",
       "    </tr>\n",
       "    <tr>\n",
       "      <th>2</th>\n",
       "      <td>PaymentScreenSuccessful</td>\n",
       "      <td>3518123091307005509</td>\n",
       "      <td>2019-07-25 11:28:47</td>\n",
       "      <td>248</td>\n",
       "    </tr>\n",
       "    <tr>\n",
       "      <th>3</th>\n",
       "      <td>CartScreenAppear</td>\n",
       "      <td>3518123091307005509</td>\n",
       "      <td>2019-07-25 11:28:47</td>\n",
       "      <td>248</td>\n",
       "    </tr>\n",
       "    <tr>\n",
       "      <th>4</th>\n",
       "      <td>PaymentScreenSuccessful</td>\n",
       "      <td>6217807653094995999</td>\n",
       "      <td>2019-07-25 11:48:42</td>\n",
       "      <td>248</td>\n",
       "    </tr>\n",
       "  </tbody>\n",
       "</table>\n",
       "</div>"
      ],
      "text/plain": [
       "                     event            device_id            datetime  group\n",
       "0         MainScreenAppear  4575588528974610257 2019-07-25 04:43:36    246\n",
       "1         MainScreenAppear  7416695313311560658 2019-07-25 11:11:42    246\n",
       "2  PaymentScreenSuccessful  3518123091307005509 2019-07-25 11:28:47    248\n",
       "3         CartScreenAppear  3518123091307005509 2019-07-25 11:28:47    248\n",
       "4  PaymentScreenSuccessful  6217807653094995999 2019-07-25 11:48:42    248"
      ]
     },
     "execution_count": 12,
     "metadata": {},
     "output_type": "execute_result"
    }
   ],
   "source": [
    "df.head()"
   ]
  },
  {
   "cell_type": "markdown",
   "metadata": {
    "id": "AbF0Q3vCsNyZ"
   },
   "source": [
    "### Посмотрел полные дупликаты и исключил"
   ]
  },
  {
   "cell_type": "code",
   "execution_count": 13,
   "metadata": {
    "id": "PBpyEWQ1sNyZ",
    "outputId": "43422839-4060-490b-bd9f-5b3e05a62a6e"
   },
   "outputs": [
    {
     "data": {
      "text/plain": [
       "413"
      ]
     },
     "execution_count": 13,
     "metadata": {},
     "output_type": "execute_result"
    }
   ],
   "source": [
    "df.duplicated().sum()"
   ]
  },
  {
   "cell_type": "code",
   "execution_count": 14,
   "metadata": {
    "id": "VaRJwju8sNya"
   },
   "outputs": [],
   "source": [
    "df = df.drop_duplicates()"
   ]
  },
  {
   "cell_type": "code",
   "execution_count": 15,
   "metadata": {
    "id": "RiEpV_atsNya",
    "outputId": "41682b1a-b831-4aab-c975-68c53169096a"
   },
   "outputs": [
    {
     "data": {
      "text/html": [
       "<div>\n",
       "<style scoped>\n",
       "    .dataframe tbody tr th:only-of-type {\n",
       "        vertical-align: middle;\n",
       "    }\n",
       "\n",
       "    .dataframe tbody tr th {\n",
       "        vertical-align: top;\n",
       "    }\n",
       "\n",
       "    .dataframe thead th {\n",
       "        text-align: right;\n",
       "    }\n",
       "</style>\n",
       "<table border=\"1\" class=\"dataframe\">\n",
       "  <thead>\n",
       "    <tr style=\"text-align: right;\">\n",
       "      <th></th>\n",
       "      <th>event</th>\n",
       "      <th>device_id</th>\n",
       "      <th>datetime</th>\n",
       "      <th>group</th>\n",
       "    </tr>\n",
       "  </thead>\n",
       "  <tbody>\n",
       "    <tr>\n",
       "      <th>0</th>\n",
       "      <td>MainScreenAppear</td>\n",
       "      <td>4575588528974610257</td>\n",
       "      <td>2019-07-25 04:43:36</td>\n",
       "      <td>246</td>\n",
       "    </tr>\n",
       "    <tr>\n",
       "      <th>1</th>\n",
       "      <td>MainScreenAppear</td>\n",
       "      <td>7416695313311560658</td>\n",
       "      <td>2019-07-25 11:11:42</td>\n",
       "      <td>246</td>\n",
       "    </tr>\n",
       "    <tr>\n",
       "      <th>2</th>\n",
       "      <td>PaymentScreenSuccessful</td>\n",
       "      <td>3518123091307005509</td>\n",
       "      <td>2019-07-25 11:28:47</td>\n",
       "      <td>248</td>\n",
       "    </tr>\n",
       "    <tr>\n",
       "      <th>3</th>\n",
       "      <td>CartScreenAppear</td>\n",
       "      <td>3518123091307005509</td>\n",
       "      <td>2019-07-25 11:28:47</td>\n",
       "      <td>248</td>\n",
       "    </tr>\n",
       "    <tr>\n",
       "      <th>4</th>\n",
       "      <td>PaymentScreenSuccessful</td>\n",
       "      <td>6217807653094995999</td>\n",
       "      <td>2019-07-25 11:48:42</td>\n",
       "      <td>248</td>\n",
       "    </tr>\n",
       "  </tbody>\n",
       "</table>\n",
       "</div>"
      ],
      "text/plain": [
       "                     event            device_id            datetime  group\n",
       "0         MainScreenAppear  4575588528974610257 2019-07-25 04:43:36    246\n",
       "1         MainScreenAppear  7416695313311560658 2019-07-25 11:11:42    246\n",
       "2  PaymentScreenSuccessful  3518123091307005509 2019-07-25 11:28:47    248\n",
       "3         CartScreenAppear  3518123091307005509 2019-07-25 11:28:47    248\n",
       "4  PaymentScreenSuccessful  6217807653094995999 2019-07-25 11:48:42    248"
      ]
     },
     "execution_count": 15,
     "metadata": {},
     "output_type": "execute_result"
    }
   ],
   "source": [
    "df.head()"
   ]
  },
  {
   "cell_type": "markdown",
   "metadata": {
    "id": "0vlNn0m-sNyb"
   },
   "source": [
    "### Добавил столбец даты"
   ]
  },
  {
   "cell_type": "code",
   "execution_count": 16,
   "metadata": {
    "id": "qf4NL5cTsNyb"
   },
   "outputs": [],
   "source": [
    "df['date'] = df['datetime'].dt.date"
   ]
  },
  {
   "cell_type": "code",
   "execution_count": 17,
   "metadata": {
    "id": "0lDKhtLSsNyb",
    "outputId": "d07b1851-a0be-4b30-9ee6-fed9ae7059b5"
   },
   "outputs": [
    {
     "data": {
      "text/html": [
       "<div>\n",
       "<style scoped>\n",
       "    .dataframe tbody tr th:only-of-type {\n",
       "        vertical-align: middle;\n",
       "    }\n",
       "\n",
       "    .dataframe tbody tr th {\n",
       "        vertical-align: top;\n",
       "    }\n",
       "\n",
       "    .dataframe thead th {\n",
       "        text-align: right;\n",
       "    }\n",
       "</style>\n",
       "<table border=\"1\" class=\"dataframe\">\n",
       "  <thead>\n",
       "    <tr style=\"text-align: right;\">\n",
       "      <th></th>\n",
       "      <th>event</th>\n",
       "      <th>device_id</th>\n",
       "      <th>datetime</th>\n",
       "      <th>group</th>\n",
       "      <th>date</th>\n",
       "    </tr>\n",
       "  </thead>\n",
       "  <tbody>\n",
       "    <tr>\n",
       "      <th>0</th>\n",
       "      <td>MainScreenAppear</td>\n",
       "      <td>4575588528974610257</td>\n",
       "      <td>2019-07-25 04:43:36</td>\n",
       "      <td>246</td>\n",
       "      <td>2019-07-25</td>\n",
       "    </tr>\n",
       "    <tr>\n",
       "      <th>1</th>\n",
       "      <td>MainScreenAppear</td>\n",
       "      <td>7416695313311560658</td>\n",
       "      <td>2019-07-25 11:11:42</td>\n",
       "      <td>246</td>\n",
       "      <td>2019-07-25</td>\n",
       "    </tr>\n",
       "    <tr>\n",
       "      <th>2</th>\n",
       "      <td>PaymentScreenSuccessful</td>\n",
       "      <td>3518123091307005509</td>\n",
       "      <td>2019-07-25 11:28:47</td>\n",
       "      <td>248</td>\n",
       "      <td>2019-07-25</td>\n",
       "    </tr>\n",
       "    <tr>\n",
       "      <th>3</th>\n",
       "      <td>CartScreenAppear</td>\n",
       "      <td>3518123091307005509</td>\n",
       "      <td>2019-07-25 11:28:47</td>\n",
       "      <td>248</td>\n",
       "      <td>2019-07-25</td>\n",
       "    </tr>\n",
       "    <tr>\n",
       "      <th>4</th>\n",
       "      <td>PaymentScreenSuccessful</td>\n",
       "      <td>6217807653094995999</td>\n",
       "      <td>2019-07-25 11:48:42</td>\n",
       "      <td>248</td>\n",
       "      <td>2019-07-25</td>\n",
       "    </tr>\n",
       "  </tbody>\n",
       "</table>\n",
       "</div>"
      ],
      "text/plain": [
       "                     event            device_id            datetime  group  \\\n",
       "0         MainScreenAppear  4575588528974610257 2019-07-25 04:43:36    246   \n",
       "1         MainScreenAppear  7416695313311560658 2019-07-25 11:11:42    246   \n",
       "2  PaymentScreenSuccessful  3518123091307005509 2019-07-25 11:28:47    248   \n",
       "3         CartScreenAppear  3518123091307005509 2019-07-25 11:28:47    248   \n",
       "4  PaymentScreenSuccessful  6217807653094995999 2019-07-25 11:48:42    248   \n",
       "\n",
       "         date  \n",
       "0  2019-07-25  \n",
       "1  2019-07-25  \n",
       "2  2019-07-25  \n",
       "3  2019-07-25  \n",
       "4  2019-07-25  "
      ]
     },
     "execution_count": 17,
     "metadata": {},
     "output_type": "execute_result"
    }
   ],
   "source": [
    "df.head()"
   ]
  },
  {
   "cell_type": "markdown",
   "metadata": {
    "id": "xjHQFXN4sNyc"
   },
   "source": [
    "## Шаг 3. Изучить и проверить данные"
   ]
  },
  {
   "cell_type": "markdown",
   "metadata": {
    "id": "LFz66xC-sNyd"
   },
   "source": [
    "- Данными за какой период есть?\n",
    "- Какой максимальная и минимальная дата.\n",
    "- Сделать гистограмму по дате и времени.\n",
    "- Можно ли быть уверенным, что у вас одинаково полные данные за весь период?\n",
    "\n",
    "Определить, с какого момента данные полные и отбросить более старые.\n",
    "- Данные за какой период времени имеются на самом деле?\n",
    "\n",
    "- Много ли событий и пользователей потеряно, отбросив старые данные?\n",
    "- Проверить, что есть пользователи из всех трёх экспериментальных групп."
   ]
  },
  {
   "cell_type": "markdown",
   "metadata": {
    "id": "bZ2InoVOsNyd"
   },
   "source": [
    "### Подсчёт событий"
   ]
  },
  {
   "cell_type": "code",
   "execution_count": 18,
   "metadata": {
    "id": "GowOcPGmsNyd",
    "outputId": "6d77e41b-e8bf-45f4-db7e-9375fd45390a"
   },
   "outputs": [
    {
     "name": "stdout",
     "output_type": "stream",
     "text": [
      "Количество уникальных событий = 5\n"
     ]
    }
   ],
   "source": [
    "print('Количество уникальных событий =',df['event'].nunique())"
   ]
  },
  {
   "cell_type": "code",
   "execution_count": 19,
   "metadata": {
    "id": "BsNfF_pusNye",
    "outputId": "59a435a0-f884-443f-aa1d-319815133c43"
   },
   "outputs": [
    {
     "name": "stdout",
     "output_type": "stream",
     "text": [
      "После удаления дубликатов, количество событий = 243713\n"
     ]
    }
   ],
   "source": [
    "print('После удаления дубликатов, количество событий =', len(df))"
   ]
  },
  {
   "cell_type": "markdown",
   "metadata": {
    "id": "cFYaz8kssNyf"
   },
   "source": [
    "### Подсчёт пользователей"
   ]
  },
  {
   "cell_type": "code",
   "execution_count": 20,
   "metadata": {
    "id": "2mnmdcu3sNyf",
    "outputId": "076c64ab-dd2c-4a99-9835-1e147ebb9469"
   },
   "outputs": [
    {
     "name": "stdout",
     "output_type": "stream",
     "text": [
      "Количество уникальных ползователей = 7551\n"
     ]
    }
   ],
   "source": [
    "print('Количество уникальных ползователей =', df['device_id'].nunique())"
   ]
  },
  {
   "cell_type": "markdown",
   "metadata": {
    "id": "QHT938cTsNyg"
   },
   "source": [
    "### Среднее кол-во событий на пользователя"
   ]
  },
  {
   "cell_type": "code",
   "execution_count": 21,
   "metadata": {
    "id": "bsPNatGusNyl",
    "outputId": "bd5c942b-5b5a-4b09-c168-290124d01015"
   },
   "outputs": [
    {
     "data": {
      "text/html": [
       "<div>\n",
       "<style scoped>\n",
       "    .dataframe tbody tr th:only-of-type {\n",
       "        vertical-align: middle;\n",
       "    }\n",
       "\n",
       "    .dataframe tbody tr th {\n",
       "        vertical-align: top;\n",
       "    }\n",
       "\n",
       "    .dataframe thead th {\n",
       "        text-align: right;\n",
       "    }\n",
       "</style>\n",
       "<table border=\"1\" class=\"dataframe\">\n",
       "  <thead>\n",
       "    <tr style=\"text-align: right;\">\n",
       "      <th></th>\n",
       "      <th>device_id</th>\n",
       "      <th>event</th>\n",
       "    </tr>\n",
       "  </thead>\n",
       "  <tbody>\n",
       "    <tr>\n",
       "      <th>0</th>\n",
       "      <td>6888746892508752</td>\n",
       "      <td>1</td>\n",
       "    </tr>\n",
       "    <tr>\n",
       "      <th>1</th>\n",
       "      <td>6909561520679493</td>\n",
       "      <td>5</td>\n",
       "    </tr>\n",
       "    <tr>\n",
       "      <th>2</th>\n",
       "      <td>6922444491712477</td>\n",
       "      <td>47</td>\n",
       "    </tr>\n",
       "    <tr>\n",
       "      <th>3</th>\n",
       "      <td>7435777799948366</td>\n",
       "      <td>6</td>\n",
       "    </tr>\n",
       "    <tr>\n",
       "      <th>4</th>\n",
       "      <td>7702139951469979</td>\n",
       "      <td>137</td>\n",
       "    </tr>\n",
       "    <tr>\n",
       "      <th>...</th>\n",
       "      <td>...</td>\n",
       "      <td>...</td>\n",
       "    </tr>\n",
       "    <tr>\n",
       "      <th>7546</th>\n",
       "      <td>9217594193087726423</td>\n",
       "      <td>9</td>\n",
       "    </tr>\n",
       "    <tr>\n",
       "      <th>7547</th>\n",
       "      <td>9219463515465815368</td>\n",
       "      <td>17</td>\n",
       "    </tr>\n",
       "    <tr>\n",
       "      <th>7548</th>\n",
       "      <td>9220879493065341500</td>\n",
       "      <td>7</td>\n",
       "    </tr>\n",
       "    <tr>\n",
       "      <th>7549</th>\n",
       "      <td>9221926045299980007</td>\n",
       "      <td>7</td>\n",
       "    </tr>\n",
       "    <tr>\n",
       "      <th>7550</th>\n",
       "      <td>9222603179720523844</td>\n",
       "      <td>59</td>\n",
       "    </tr>\n",
       "  </tbody>\n",
       "</table>\n",
       "<p>7551 rows × 2 columns</p>\n",
       "</div>"
      ],
      "text/plain": [
       "                device_id  event\n",
       "0        6888746892508752      1\n",
       "1        6909561520679493      5\n",
       "2        6922444491712477     47\n",
       "3        7435777799948366      6\n",
       "4        7702139951469979    137\n",
       "...                   ...    ...\n",
       "7546  9217594193087726423      9\n",
       "7547  9219463515465815368     17\n",
       "7548  9220879493065341500      7\n",
       "7549  9221926045299980007      7\n",
       "7550  9222603179720523844     59\n",
       "\n",
       "[7551 rows x 2 columns]"
      ]
     },
     "execution_count": 21,
     "metadata": {},
     "output_type": "execute_result"
    }
   ],
   "source": [
    "df.groupby('device_id')['event'].count().reset_index()"
   ]
  },
  {
   "cell_type": "code",
   "execution_count": 22,
   "metadata": {
    "id": "NCfetfUCsNym",
    "outputId": "b3be0e72-5a50-462f-f3f0-38e14d0a48cf"
   },
   "outputs": [
    {
     "data": {
      "image/png": "[encoded data removed]",
      "text/plain": [
       "<Figure size 640x480 with 1 Axes>"
      ]
     },
     "metadata": {},
     "output_type": "display_data"
    }
   ],
   "source": [
    "count_events = df.groupby('device_id', as_index=False)['event'].count()\n",
    "count_events.groupby('event')['device_id'].count().hist(bins = 50)\n",
    "plt.xlabel('Количество пользователей')\n",
    "plt.ylabel('Количество событий')\n",
    "plt.title('Распределение количества событий')\n",
    "plt.show()"
   ]
  },
  {
   "cell_type": "code",
   "execution_count": 23,
   "metadata": {
    "id": "Ji7bP6z9sNyn",
    "outputId": "9d11a0f3-f2bb-4312-d57c-97ae11117618"
   },
   "outputs": [
    {
     "name": "stdout",
     "output_type": "stream",
     "text": [
      "Пользователь в среднем совершает 32 действия\n",
      "Медиана количества действия = 20.0\n",
      "Мнимальное количество действий = 1\n",
      "Максимальное количество действий = 2307\n"
     ]
    }
   ],
   "source": [
    "print('Пользователь в среднем совершает', round(len(df)/df['device_id'].nunique()), 'действия')\n",
    "print('Медиана количества действия =', df.groupby('device_id')['event'].count().median())\n",
    "print('Мнимальное количество действий =', df.groupby('device_id')['event'].count().min())\n",
    "print('Максимальное количество действий =', df.groupby('device_id')['event'].count().max())"
   ]
  },
  {
   "cell_type": "code",
   "execution_count": 24,
   "metadata": {
    "id": "ju8bdyT6sNyo",
    "outputId": "a2f26e85-2c92-4086-8c90-64be4b0946d1"
   },
   "outputs": [
    {
     "data": {
      "image/png": "[encoded data removed]",
      "text/plain": [
       "<Figure size 640x480 with 1 Axes>"
      ]
     },
     "metadata": {},
     "output_type": "display_data"
    }
   ],
   "source": [
    "plt.scatter(y=df.groupby('device_id')['event'].count(), x=df['device_id'].unique())\n",
    "plt.xlabel('Пользователь')\n",
    "plt.ylabel('Количество заказов')\n",
    "plt.title('Точечный график')\n",
    "plt.show()"
   ]
  },
  {
   "cell_type": "code",
   "execution_count": 25,
   "metadata": {
    "id": "MEommUATsNyo",
    "outputId": "21eac8df-908f-4d47-c811-274bfe90c2d5"
   },
   "outputs": [
    {
     "data": {
      "text/plain": [
       "array([ 64. ,  89. , 100. , 115.5, 136. , 200.5])"
      ]
     },
     "execution_count": 25,
     "metadata": {},
     "output_type": "execute_result"
    }
   ],
   "source": [
    "np.percentile(df.groupby('device_id')['event'].count(), [90,95,96,97,98,99])"
   ]
  },
  {
   "cell_type": "markdown",
   "metadata": {
    "id": "UJLaJ3qAsNyo"
   },
   "source": [
    "На скатере видно, что очень много невероятно больших выбросов - исключим все значения по 99 перцентиль"
   ]
  },
  {
   "cell_type": "code",
   "execution_count": 26,
   "metadata": {
    "id": "Fnosr56UsNyo"
   },
   "outputs": [],
   "source": [
    "not_many = df.groupby('device_id')['event'].count().reset_index()\n",
    "not_many = not_many[not_many['event'] <= np.percentile(df.groupby('device_id')['event'].count(), 99)]\n",
    "not_many = not_many.drop(columns='event')"
   ]
  },
  {
   "cell_type": "code",
   "execution_count": 27,
   "metadata": {
    "id": "MQwlFoDPsNyp"
   },
   "outputs": [],
   "source": [
    "df = df[df['device_id'].isin(not_many['device_id'].unique())]"
   ]
  },
  {
   "cell_type": "markdown",
   "metadata": {
    "id": "ZuBxRTmAsNyr"
   },
   "source": [
    "### Период эксперимента"
   ]
  },
  {
   "cell_type": "code",
   "execution_count": 28,
   "metadata": {
    "id": "_VA9TV28sNyr",
    "outputId": "6b20dfcc-de00-4d50-bd14-e39ac0ec0824"
   },
   "outputs": [
    {
     "name": "stdout",
     "output_type": "stream",
     "text": [
      "Начало- 2019-07-25 04:43:36 \n",
      "Конец- 2019-08-07 21:15:17\n",
      "Временной интервал эксперимента = 13 days 16:31:41\n"
     ]
    }
   ],
   "source": [
    "print('Начало-', min(df['datetime']),'\\nКонец-', max(df['datetime']))\n",
    "print('Временной интервал эксперимента =',max(df['datetime']) - min(df['datetime']))"
   ]
  },
  {
   "cell_type": "code",
   "execution_count": 29,
   "metadata": {
    "id": "NDNfA1R-sNys"
   },
   "outputs": [],
   "source": [
    "names_event = df.pivot_table(index = ['event', 'date'], values = ['device_id'], aggfunc='count').reset_index()"
   ]
  },
  {
   "cell_type": "code",
   "execution_count": 30,
   "metadata": {
    "id": "0hD9i0HhsNys",
    "outputId": "4f1a4265-81a6-437f-bd56-b0ea9e2556dc"
   },
   "outputs": [
    {
     "data": {
      "text/plain": [
       "array(['CartScreenAppear', 'MainScreenAppear', 'OffersScreenAppear',\n",
       "       'PaymentScreenSuccessful', 'Tutorial'], dtype=object)"
      ]
     },
     "execution_count": 30,
     "metadata": {},
     "output_type": "execute_result"
    }
   ],
   "source": [
    "names_event['event'].unique()"
   ]
  },
  {
   "cell_type": "code",
   "execution_count": 31,
   "metadata": {
    "id": "A0HofLWJsNyt"
   },
   "outputs": [],
   "source": [
    "users_per_day = df.pivot_table(index = 'date', values = 'device_id', aggfunc = 'nunique').reset_index()"
   ]
  },
  {
   "cell_type": "markdown",
   "metadata": {
    "id": "r254cBa6sNyu"
   },
   "source": [
    "### Гистаграма поситителей по датам"
   ]
  },
  {
   "cell_type": "code",
   "execution_count": 32,
   "metadata": {
    "id": "eylpawolsNyu"
   },
   "outputs": [],
   "source": [
    "CartScreenAppear = names_event[names_event['event'] == 'CartScreenAppear']\n",
    "MainScreenAppear = names_event[names_event['event'] == 'MainScreenAppear']\n",
    "OffersScreenAppear = names_event[names_event['event'] == 'OffersScreenAppear']\n",
    "PaymentScreenSuccessful = names_event[names_event['event'] == 'PaymentScreenSuccessful']\n",
    "Tutorial = names_event[names_event['event'] == 'Tutorial']"
   ]
  },
  {
   "cell_type": "code",
   "execution_count": 33,
   "metadata": {
    "id": "8TEUadC3sNyu",
    "outputId": "29e111f7-07f1-4057-aae9-ddb60baa166d"
   },
   "outputs": [
    {
     "data": {
      "image/png": "[encoded data removed]",
      "text/plain": [
       "<Figure size 800x1200 with 6 Axes>"
      ]
     },
     "metadata": {},
     "output_type": "display_data"
    }
   ],
   "source": [
    "# создание области для рисования с двумя субграфиками\n",
    "fig, axs = plt.subplots(2, 3, figsize=(8, 12))\n",
    "\n",
    "ax1 = users_per_day.plot(x='date', y='device_id', ax=axs[0][0], kind='bar', label = 'total')\n",
    "ax1.set_xlabel('Дата')\n",
    "ax1.set_ylabel('Дневное общее посещение пользователями')\n",
    "ax1.set_title('Общее посещение')\n",
    "\n",
    "ax2 = MainScreenAppear.plot(x='date', y='device_id', ax=axs[0][1], kind='bar', label = 'MainScreenAppear', color='pink')\n",
    "ax2.set_xlabel('Дата')\n",
    "ax2.set_ylabel('Количество событий')\n",
    "ax2.set_title('MainScreenAppear')\n",
    "\n",
    "ax3 = OffersScreenAppear.plot(x='date', y='device_id', ax=axs[0][2], kind='bar', label = 'OffersScreenAppear', color='yellow')\n",
    "ax3.set_xlabel('Дата')\n",
    "ax3.set_ylabel('Количество событий')\n",
    "ax3.set_title('OffersScreenAppear')\n",
    "\n",
    "ax4 = PaymentScreenSuccessful.plot(x='date', y='device_id', ax=axs[1][0], kind='bar', label = 'PaymentScreenSuccessful', color='black')\n",
    "ax4.set_xlabel('Дата')\n",
    "ax4.set_ylabel('Количество событий')\n",
    "ax4.set_title('PaymentScreenSuccessful')\n",
    "\n",
    "ax5 = Tutorial.plot(x='date', y='device_id', ax=axs[1][1], kind='bar', label = 'Tutorial', color='red')\n",
    "ax5.set_xlabel('Дата')\n",
    "ax5.set_ylabel('Количество событий')\n",
    "ax5.set_title('Tutorial')\n",
    "\n",
    "ax6 = CartScreenAppear.plot(x='date', y='device_id', ax=axs[1][2], kind='bar', label = 'CartScreenAppear', color='green')\n",
    "ax6.set_xlabel('Дата')\n",
    "ax6.set_ylabel('Количество событий')\n",
    "ax6.set_title('CartScreenAppear')\n",
    "\n",
    "plt.tight_layout()\n",
    "plt.subplots_adjust(hspace = 0.5)\n",
    "plt.show()"
   ]
  },
  {
   "cell_type": "markdown",
   "metadata": {
    "id": "cFi6HjbtsNy4"
   },
   "source": [
    "# Вывод\n",
    "На всех графиках видно, что основная масса действий происходила после 31 июля.\n",
    "\n",
    "На основе имеющихся данных, можно сделать вывод, что реально можно оценить всю информацию только с начала августа."
   ]
  },
  {
   "cell_type": "markdown",
   "metadata": {
    "id": "YI3SiHSDsNy6"
   },
   "source": [
    "### Создание чистой таблицы"
   ]
  },
  {
   "cell_type": "code",
   "execution_count": 34,
   "metadata": {
    "id": "XVAD0R5usNy6"
   },
   "outputs": [],
   "source": [
    "# Созадам копию имеющего датасета\n",
    "df_copy = df.copy()"
   ]
  },
  {
   "cell_type": "code",
   "execution_count": 35,
   "metadata": {
    "id": "YjHDPAkwsNy7"
   },
   "outputs": [
    {
     "name": "stderr",
     "output_type": "stream",
     "text": [
      "D:\\Anaconda\\lib\\site-packages\\pandas\\core\\ops\\array_ops.py:73: FutureWarning: Comparison of Timestamp with datetime.date is deprecated in order to match the standard library behavior. In a future version these will be considered non-comparable. Use 'ts == pd.Timestamp(date)' or 'ts.date() == date' instead.\n",
      "  result = libops.scalar_compare(x.ravel(), y, op)\n"
     ]
    }
   ],
   "source": [
    "# Исключю отсюда пользователей до 1 августа\n",
    "df_copy = df_copy[df_copy['date'] > pd.to_datetime('2019-07-31')]"
   ]
  },
  {
   "cell_type": "code",
   "execution_count": 36,
   "metadata": {
    "id": "qKlyQJSosNy7",
    "outputId": "33ef1b06-9170-4cf3-d9f3-6005f269f89f"
   },
   "outputs": [
    {
     "name": "stdout",
     "output_type": "stream",
     "text": [
      "Уменьшение количества событий на 2718\n",
      "Уменьшение количества событий в процентах 1.315\n",
      "Количество пользователей выпало = 17\n",
      "Количество пользователей выпало в процентах = 0.228\n"
     ]
    }
   ],
   "source": [
    "# Столько событий выпало\n",
    "print('Уменьшение количества событий на',len(df) - len(df_copy))\n",
    "print( 'Уменьшение количества событий в процентах',round((len(df) / len(df_copy) - 1)*100, 3))\n",
    "print('Количество пользователей выпало =',df['device_id'].nunique() - df_copy['device_id'].nunique())\n",
    "print('Количество пользователей выпало в процентах =',round((df['device_id'].nunique()/ df_copy['device_id'].nunique()-1)*100, 3))"
   ]
  },
  {
   "cell_type": "code",
   "execution_count": 37,
   "metadata": {
    "id": "aXqAcL5lsNy-",
    "outputId": "d80ee06d-8f64-43d5-da69-03376e8b8047"
   },
   "outputs": [
    {
     "data": {
      "text/plain": [
       "array([246, 247, 248], dtype=int64)"
      ]
     },
     "execution_count": 37,
     "metadata": {},
     "output_type": "execute_result"
    }
   ],
   "source": [
    "df_copy['group'].unique()"
   ]
  },
  {
   "cell_type": "code",
   "execution_count": 38,
   "metadata": {
    "id": "fcfQSdmosNy_",
    "outputId": "544c0bb1-98e3-4530-c4cb-1f83f83c70ea"
   },
   "outputs": [
    {
     "data": {
      "text/plain": [
       "group\n",
       "246    2456\n",
       "247    2491\n",
       "248    2511\n",
       "Name: device_id, dtype: int64"
      ]
     },
     "execution_count": 38,
     "metadata": {},
     "output_type": "execute_result"
    }
   ],
   "source": [
    "df_copy.groupby('group')['device_id'].nunique()"
   ]
  },
  {
   "cell_type": "code",
   "execution_count": 39,
   "metadata": {
    "id": "g2obnlbBsNzE"
   },
   "outputs": [],
   "source": [
    "old_groups = df.groupby('group')['device_id'].count().reset_index()"
   ]
  },
  {
   "cell_type": "code",
   "execution_count": 40,
   "metadata": {
    "id": "ZsCLlQ0xsNzE"
   },
   "outputs": [],
   "source": [
    "old_groups['total'] = len(df)"
   ]
  },
  {
   "cell_type": "code",
   "execution_count": 41,
   "metadata": {
    "id": "2hH38TKUsNzE"
   },
   "outputs": [],
   "source": [
    "old_groups['percent'] = old_groups['device_id']/old_groups['total']"
   ]
  },
  {
   "cell_type": "code",
   "execution_count": 42,
   "metadata": {
    "id": "6trLaG5_sNzF"
   },
   "outputs": [],
   "source": [
    "new_groups = df_copy.groupby('group')['device_id'].count().reset_index()"
   ]
  },
  {
   "cell_type": "code",
   "execution_count": 43,
   "metadata": {
    "id": "v-6Mt71rsNzG"
   },
   "outputs": [],
   "source": [
    "new_groups['total'] = len(df_copy)"
   ]
  },
  {
   "cell_type": "code",
   "execution_count": 44,
   "metadata": {
    "id": "ANCqLB_3sNzG"
   },
   "outputs": [],
   "source": [
    "new_groups['percent'] = new_groups['device_id']/new_groups['total']"
   ]
  },
  {
   "cell_type": "code",
   "execution_count": 45,
   "metadata": {
    "id": "6jwhqGvQsNzG",
    "outputId": "12abddc5-f4d1-4a41-b19a-86e8724122f2"
   },
   "outputs": [
    {
     "data": {
      "text/html": [
       "<div>\n",
       "<style scoped>\n",
       "    .dataframe tbody tr th:only-of-type {\n",
       "        vertical-align: middle;\n",
       "    }\n",
       "\n",
       "    .dataframe tbody tr th {\n",
       "        vertical-align: top;\n",
       "    }\n",
       "\n",
       "    .dataframe thead th {\n",
       "        text-align: right;\n",
       "    }\n",
       "</style>\n",
       "<table border=\"1\" class=\"dataframe\">\n",
       "  <thead>\n",
       "    <tr style=\"text-align: right;\">\n",
       "      <th></th>\n",
       "      <th>0</th>\n",
       "      <th>1</th>\n",
       "      <th>2</th>\n",
       "    </tr>\n",
       "  </thead>\n",
       "  <tbody>\n",
       "    <tr>\n",
       "      <th>group</th>\n",
       "      <td>246.00000</td>\n",
       "      <td>247.000000</td>\n",
       "      <td>248.000000</td>\n",
       "    </tr>\n",
       "    <tr>\n",
       "      <th>percent</th>\n",
       "      <td>0.32604</td>\n",
       "      <td>0.330536</td>\n",
       "      <td>0.343424</td>\n",
       "    </tr>\n",
       "  </tbody>\n",
       "</table>\n",
       "</div>"
      ],
      "text/plain": [
       "                 0           1           2\n",
       "group    246.00000  247.000000  248.000000\n",
       "percent    0.32604    0.330536    0.343424"
      ]
     },
     "metadata": {},
     "output_type": "display_data"
    },
    {
     "data": {
      "text/html": [
       "<div>\n",
       "<style scoped>\n",
       "    .dataframe tbody tr th:only-of-type {\n",
       "        vertical-align: middle;\n",
       "    }\n",
       "\n",
       "    .dataframe tbody tr th {\n",
       "        vertical-align: top;\n",
       "    }\n",
       "\n",
       "    .dataframe thead th {\n",
       "        text-align: right;\n",
       "    }\n",
       "</style>\n",
       "<table border=\"1\" class=\"dataframe\">\n",
       "  <thead>\n",
       "    <tr style=\"text-align: right;\">\n",
       "      <th></th>\n",
       "      <th>0</th>\n",
       "      <th>1</th>\n",
       "      <th>2</th>\n",
       "    </tr>\n",
       "  </thead>\n",
       "  <tbody>\n",
       "    <tr>\n",
       "      <th>group</th>\n",
       "      <td>246.000000</td>\n",
       "      <td>247.000000</td>\n",
       "      <td>248.000000</td>\n",
       "    </tr>\n",
       "    <tr>\n",
       "      <th>percent</th>\n",
       "      <td>0.326269</td>\n",
       "      <td>0.330542</td>\n",
       "      <td>0.343189</td>\n",
       "    </tr>\n",
       "  </tbody>\n",
       "</table>\n",
       "</div>"
      ],
      "text/plain": [
       "                  0           1           2\n",
       "group    246.000000  247.000000  248.000000\n",
       "percent    0.326269    0.330542    0.343189"
      ]
     },
     "execution_count": 45,
     "metadata": {},
     "output_type": "execute_result"
    }
   ],
   "source": [
    "display(old_groups.drop(columns = ['device_id', 'total']).T)\n",
    "new_groups.drop(columns = ['device_id', 'total']).T"
   ]
  },
  {
   "cell_type": "markdown",
   "metadata": {
    "id": "825MasXSsNzH"
   },
   "source": [
    "# Вывод\n",
    "Снижение общего количества строк чуть более чем на 1 процент, я думаю, не понесёт серьёзных последствий.\n",
    "\n",
    "Все группы остались и процентное соотношение практически не изменилось"
   ]
  },
  {
   "cell_type": "markdown",
   "metadata": {
    "id": "IHfFRG8XsNzI"
   },
   "source": [
    "## Шаг 4. Изучить воронку событий"
   ]
  },
  {
   "cell_type": "markdown",
   "metadata": {
    "id": "gEqbpGKysNzI"
   },
   "source": [
    "### Сортировка по частоте в порядке убывания"
   ]
  },
  {
   "cell_type": "code",
   "execution_count": 46,
   "metadata": {
    "id": "GZ_Ono4ksNzJ"
   },
   "outputs": [],
   "source": [
    "# Сгруппирую события по частоте\n",
    "event_groups = df_copy.groupby('event')['device_id'].count().reset_index().sort_values(by='device_id', ascending=False)"
   ]
  },
  {
   "cell_type": "code",
   "execution_count": 47,
   "metadata": {
    "id": "UhQ7F8iUsNzJ"
   },
   "outputs": [],
   "source": [
    "# Мы видим, что туториал появляется крайне редко - посчитаю проценты\n",
    "event_groups['total'] = len(df_copy)\n",
    "event_groups['percent'] = event_groups['device_id'] / event_groups['total']\n",
    "event_groups = event_groups.drop(columns = 'total')"
   ]
  },
  {
   "cell_type": "code",
   "execution_count": 48,
   "metadata": {
    "id": "etMnshMXsNzK"
   },
   "outputs": [],
   "source": [
    "event_groups = event_groups.rename(columns = {'device_id':'count'})"
   ]
  },
  {
   "cell_type": "code",
   "execution_count": 49,
   "metadata": {
    "id": "3MAgW36FsNzK"
   },
   "outputs": [],
   "source": [
    "event_groups = event_groups.reset_index().drop(columns='index')"
   ]
  },
  {
   "cell_type": "code",
   "execution_count": 50,
   "metadata": {
    "id": "7vZmx2zasNzL",
    "outputId": "bc1ad46b-00b4-4325-fe0b-7799faaca202"
   },
   "outputs": [
    {
     "data": {
      "text/plain": [
       "113264"
      ]
     },
     "execution_count": 50,
     "metadata": {},
     "output_type": "execute_result"
    }
   ],
   "source": [
    "event_groups['count'][0]"
   ]
  },
  {
   "cell_type": "code",
   "execution_count": 51,
   "metadata": {
    "id": "VtT0tjF5sNzL"
   },
   "outputs": [
    {
     "name": "stderr",
     "output_type": "stream",
     "text": [
      "C:\\Users\\Admin\\AppData\\Local\\Temp\\ipykernel_10404\\2922386471.py:2: SettingWithCopyWarning: \n",
      "A value is trying to be set on a copy of a slice from a DataFrame\n",
      "\n",
      "See the caveats in the documentation: https://pandas.pydata.org/pandas-docs/stable/user_guide/indexing.html#returning-a-view-versus-a-copy\n",
      "  event_groups['diff_previouse'].iloc[0] = 0\n"
     ]
    }
   ],
   "source": [
    "event_groups['diff_previouse'] = 1 - event_groups['count'] / event_groups['count'].shift()\n",
    "event_groups['diff_previouse'].iloc[0] = 0"
   ]
  },
  {
   "cell_type": "code",
   "execution_count": 52,
   "metadata": {
    "id": "S5_jXY62sNzN",
    "outputId": "2ae7d2a6-b384-47f5-c42e-ae8108ed7467"
   },
   "outputs": [
    {
     "data": {
      "text/html": [
       "<div>\n",
       "<style scoped>\n",
       "    .dataframe tbody tr th:only-of-type {\n",
       "        vertical-align: middle;\n",
       "    }\n",
       "\n",
       "    .dataframe tbody tr th {\n",
       "        vertical-align: top;\n",
       "    }\n",
       "\n",
       "    .dataframe thead th {\n",
       "        text-align: right;\n",
       "    }\n",
       "</style>\n",
       "<table border=\"1\" class=\"dataframe\">\n",
       "  <thead>\n",
       "    <tr style=\"text-align: right;\">\n",
       "      <th></th>\n",
       "      <th>event</th>\n",
       "      <th>count</th>\n",
       "      <th>percent</th>\n",
       "      <th>diff_previouse</th>\n",
       "    </tr>\n",
       "  </thead>\n",
       "  <tbody>\n",
       "    <tr>\n",
       "      <th>0</th>\n",
       "      <td>MainScreenAppear</td>\n",
       "      <td>113264</td>\n",
       "      <td>0.548189</td>\n",
       "      <td>0.000000</td>\n",
       "    </tr>\n",
       "    <tr>\n",
       "      <th>1</th>\n",
       "      <td>OffersScreenAppear</td>\n",
       "      <td>40956</td>\n",
       "      <td>0.198224</td>\n",
       "      <td>0.638402</td>\n",
       "    </tr>\n",
       "    <tr>\n",
       "      <th>2</th>\n",
       "      <td>CartScreenAppear</td>\n",
       "      <td>29250</td>\n",
       "      <td>0.141568</td>\n",
       "      <td>0.285819</td>\n",
       "    </tr>\n",
       "    <tr>\n",
       "      <th>3</th>\n",
       "      <td>PaymentScreenSuccessful</td>\n",
       "      <td>22164</td>\n",
       "      <td>0.107272</td>\n",
       "      <td>0.242256</td>\n",
       "    </tr>\n",
       "    <tr>\n",
       "      <th>4</th>\n",
       "      <td>Tutorial</td>\n",
       "      <td>981</td>\n",
       "      <td>0.004748</td>\n",
       "      <td>0.955739</td>\n",
       "    </tr>\n",
       "  </tbody>\n",
       "</table>\n",
       "</div>"
      ],
      "text/plain": [
       "                     event   count   percent  diff_previouse\n",
       "0         MainScreenAppear  113264  0.548189        0.000000\n",
       "1       OffersScreenAppear   40956  0.198224        0.638402\n",
       "2         CartScreenAppear   29250  0.141568        0.285819\n",
       "3  PaymentScreenSuccessful   22164  0.107272        0.242256\n",
       "4                 Tutorial     981  0.004748        0.955739"
      ]
     },
     "execution_count": 52,
     "metadata": {},
     "output_type": "execute_result"
    }
   ],
   "source": [
    "event_groups"
   ]
  },
  {
   "cell_type": "markdown",
   "metadata": {
    "id": "BY1fbyUDsNzU"
   },
   "source": [
    "### Просмотр сколько ползователей прошли каждый этап"
   ]
  },
  {
   "cell_type": "code",
   "execution_count": 53,
   "metadata": {
    "id": "6Q7fYMk9sNzV",
    "outputId": "afe85b47-4a05-40ae-fb36-9867a15f10f0"
   },
   "outputs": [
    {
     "data": {
      "text/html": [
       "<div>\n",
       "<style scoped>\n",
       "    .dataframe tbody tr th:only-of-type {\n",
       "        vertical-align: middle;\n",
       "    }\n",
       "\n",
       "    .dataframe tbody tr th {\n",
       "        vertical-align: top;\n",
       "    }\n",
       "\n",
       "    .dataframe thead th {\n",
       "        text-align: right;\n",
       "    }\n",
       "</style>\n",
       "<table border=\"1\" class=\"dataframe\">\n",
       "  <thead>\n",
       "    <tr style=\"text-align: right;\">\n",
       "      <th></th>\n",
       "      <th>event</th>\n",
       "      <th>device_id</th>\n",
       "    </tr>\n",
       "  </thead>\n",
       "  <tbody>\n",
       "    <tr>\n",
       "      <th>1</th>\n",
       "      <td>MainScreenAppear</td>\n",
       "      <td>7344</td>\n",
       "    </tr>\n",
       "    <tr>\n",
       "      <th>2</th>\n",
       "      <td>OffersScreenAppear</td>\n",
       "      <td>4517</td>\n",
       "    </tr>\n",
       "    <tr>\n",
       "      <th>0</th>\n",
       "      <td>CartScreenAppear</td>\n",
       "      <td>3658</td>\n",
       "    </tr>\n",
       "    <tr>\n",
       "      <th>3</th>\n",
       "      <td>PaymentScreenSuccessful</td>\n",
       "      <td>3463</td>\n",
       "    </tr>\n",
       "    <tr>\n",
       "      <th>4</th>\n",
       "      <td>Tutorial</td>\n",
       "      <td>824</td>\n",
       "    </tr>\n",
       "  </tbody>\n",
       "</table>\n",
       "</div>"
      ],
      "text/plain": [
       "                     event  device_id\n",
       "1         MainScreenAppear       7344\n",
       "2       OffersScreenAppear       4517\n",
       "0         CartScreenAppear       3658\n",
       "3  PaymentScreenSuccessful       3463\n",
       "4                 Tutorial        824"
      ]
     },
     "execution_count": 53,
     "metadata": {},
     "output_type": "execute_result"
    }
   ],
   "source": [
    "event_users = df_copy.groupby('event')['device_id'].nunique().reset_index().sort_values(by='device_id', ascending=False)\n",
    "event_users"
   ]
  },
  {
   "cell_type": "code",
   "execution_count": 54,
   "metadata": {
    "id": "9ZftXD9hsNzW"
   },
   "outputs": [],
   "source": [
    "event_users = event_users.rename(columns = {'device_id':'count'})\n",
    "event_users['persents'] = event_users['count'] / df_copy['device_id'].nunique()\n",
    "event_users['diff_prev'] = 1 - event_users['count'] / event_users['count'].shift()\n",
    "event_users = event_users.drop(index=4)\n",
    "event_users = event_users.fillna(0)"
   ]
  },
  {
   "cell_type": "code",
   "execution_count": 55,
   "metadata": {
    "id": "iLSNr-I-sNzW",
    "outputId": "ff5b2fe5-1559-4ddb-bcdd-e592890916f0"
   },
   "outputs": [
    {
     "data": {
      "text/plain": [
       "7458"
      ]
     },
     "execution_count": 55,
     "metadata": {},
     "output_type": "execute_result"
    }
   ],
   "source": [
    "df_copy['device_id'].nunique()"
   ]
  },
  {
   "cell_type": "code",
   "execution_count": 56,
   "metadata": {
    "id": "2YrETVLEsNzX",
    "outputId": "d88edbc0-6d13-4a10-f94b-09919feee1ac"
   },
   "outputs": [
    {
     "data": {
      "text/html": [
       "<div>\n",
       "<style scoped>\n",
       "    .dataframe tbody tr th:only-of-type {\n",
       "        vertical-align: middle;\n",
       "    }\n",
       "\n",
       "    .dataframe tbody tr th {\n",
       "        vertical-align: top;\n",
       "    }\n",
       "\n",
       "    .dataframe thead th {\n",
       "        text-align: right;\n",
       "    }\n",
       "</style>\n",
       "<table border=\"1\" class=\"dataframe\">\n",
       "  <thead>\n",
       "    <tr style=\"text-align: right;\">\n",
       "      <th></th>\n",
       "      <th>event</th>\n",
       "      <th>count</th>\n",
       "      <th>persents</th>\n",
       "      <th>diff_prev</th>\n",
       "    </tr>\n",
       "  </thead>\n",
       "  <tbody>\n",
       "    <tr>\n",
       "      <th>1</th>\n",
       "      <td>MainScreenAppear</td>\n",
       "      <td>7344</td>\n",
       "      <td>0.984714</td>\n",
       "      <td>0.000000</td>\n",
       "    </tr>\n",
       "    <tr>\n",
       "      <th>2</th>\n",
       "      <td>OffersScreenAppear</td>\n",
       "      <td>4517</td>\n",
       "      <td>0.605658</td>\n",
       "      <td>0.384940</td>\n",
       "    </tr>\n",
       "    <tr>\n",
       "      <th>0</th>\n",
       "      <td>CartScreenAppear</td>\n",
       "      <td>3658</td>\n",
       "      <td>0.490480</td>\n",
       "      <td>0.190170</td>\n",
       "    </tr>\n",
       "    <tr>\n",
       "      <th>3</th>\n",
       "      <td>PaymentScreenSuccessful</td>\n",
       "      <td>3463</td>\n",
       "      <td>0.464334</td>\n",
       "      <td>0.053308</td>\n",
       "    </tr>\n",
       "  </tbody>\n",
       "</table>\n",
       "</div>"
      ],
      "text/plain": [
       "                     event  count  persents  diff_prev\n",
       "1         MainScreenAppear   7344  0.984714   0.000000\n",
       "2       OffersScreenAppear   4517  0.605658   0.384940\n",
       "0         CartScreenAppear   3658  0.490480   0.190170\n",
       "3  PaymentScreenSuccessful   3463  0.464334   0.053308"
      ]
     },
     "execution_count": 56,
     "metadata": {},
     "output_type": "execute_result"
    }
   ],
   "source": [
    "event_users\n",
    "# колонка percent показывает какой процент пользователей хотя бы раз выполнили то или иное действие\n",
    "# колонка count показывает количество пользователей прошедших событие"
   ]
  },
  {
   "cell_type": "markdown",
   "metadata": {
    "id": "aP_HV5wusNzZ"
   },
   "source": [
    "### Если предположить, что все этапы обязательны и последовательны друг за другом, кроме туториала, то необходимо обозначить"
   ]
  },
  {
   "cell_type": "markdown",
   "metadata": {
    "id": "Qw5AOb11sNzb"
   },
   "source": [
    "### Доля пользователей, у которых какое-либо событие было достигнуто"
   ]
  },
  {
   "cell_type": "code",
   "execution_count": 57,
   "metadata": {
    "id": "r4HW6yBQsNzb",
    "outputId": "44353aea-724a-45f3-e284-9de0c7d88422"
   },
   "outputs": [
    {
     "data": {
      "text/html": [
       "<div>\n",
       "<style scoped>\n",
       "    .dataframe tbody tr th:only-of-type {\n",
       "        vertical-align: middle;\n",
       "    }\n",
       "\n",
       "    .dataframe tbody tr th {\n",
       "        vertical-align: top;\n",
       "    }\n",
       "\n",
       "    .dataframe thead th {\n",
       "        text-align: right;\n",
       "    }\n",
       "</style>\n",
       "<table border=\"1\" class=\"dataframe\">\n",
       "  <thead>\n",
       "    <tr style=\"text-align: right;\">\n",
       "      <th></th>\n",
       "      <th>device_id</th>\n",
       "      <th>event</th>\n",
       "    </tr>\n",
       "  </thead>\n",
       "  <tbody>\n",
       "    <tr>\n",
       "      <th>0</th>\n",
       "      <td>6888746892508752</td>\n",
       "      <td>[MainScreenAppear]</td>\n",
       "    </tr>\n",
       "    <tr>\n",
       "      <th>1</th>\n",
       "      <td>6909561520679493</td>\n",
       "      <td>[MainScreenAppear, PaymentScreenSuccessful, CartScreenAppear, OffersScreenAppear]</td>\n",
       "    </tr>\n",
       "    <tr>\n",
       "      <th>2</th>\n",
       "      <td>6922444491712477</td>\n",
       "      <td>[MainScreenAppear, PaymentScreenSuccessful, CartScreenAppear, OffersScreenAppear]</td>\n",
       "    </tr>\n",
       "    <tr>\n",
       "      <th>3</th>\n",
       "      <td>7435777799948366</td>\n",
       "      <td>[MainScreenAppear]</td>\n",
       "    </tr>\n",
       "    <tr>\n",
       "      <th>4</th>\n",
       "      <td>7702139951469979</td>\n",
       "      <td>[MainScreenAppear, OffersScreenAppear, CartScreenAppear, PaymentScreenSuccessful]</td>\n",
       "    </tr>\n",
       "    <tr>\n",
       "      <th>5</th>\n",
       "      <td>8486814028069281</td>\n",
       "      <td>[OffersScreenAppear, CartScreenAppear, MainScreenAppear]</td>\n",
       "    </tr>\n",
       "    <tr>\n",
       "      <th>6</th>\n",
       "      <td>8740973466195562</td>\n",
       "      <td>[MainScreenAppear, OffersScreenAppear]</td>\n",
       "    </tr>\n",
       "    <tr>\n",
       "      <th>7</th>\n",
       "      <td>9841258664663090</td>\n",
       "      <td>[Tutorial, MainScreenAppear, OffersScreenAppear, CartScreenAppear, PaymentScreenSuccessful]</td>\n",
       "    </tr>\n",
       "    <tr>\n",
       "      <th>8</th>\n",
       "      <td>12692216027168046</td>\n",
       "      <td>[MainScreenAppear, OffersScreenAppear]</td>\n",
       "    </tr>\n",
       "    <tr>\n",
       "      <th>9</th>\n",
       "      <td>15708180189885246</td>\n",
       "      <td>[OffersScreenAppear, CartScreenAppear, PaymentScreenSuccessful, MainScreenAppear]</td>\n",
       "    </tr>\n",
       "    <tr>\n",
       "      <th>10</th>\n",
       "      <td>18658818197810381</td>\n",
       "      <td>[OffersScreenAppear, CartScreenAppear, MainScreenAppear, PaymentScreenSuccessful]</td>\n",
       "    </tr>\n",
       "    <tr>\n",
       "      <th>11</th>\n",
       "      <td>20449203507642281</td>\n",
       "      <td>[MainScreenAppear]</td>\n",
       "    </tr>\n",
       "    <tr>\n",
       "      <th>12</th>\n",
       "      <td>20795828045873027</td>\n",
       "      <td>[MainScreenAppear, OffersScreenAppear, PaymentScreenSuccessful, CartScreenAppear]</td>\n",
       "    </tr>\n",
       "    <tr>\n",
       "      <th>13</th>\n",
       "      <td>24144092107925848</td>\n",
       "      <td>[MainScreenAppear]</td>\n",
       "    </tr>\n",
       "    <tr>\n",
       "      <th>14</th>\n",
       "      <td>26317307137967461</td>\n",
       "      <td>[MainScreenAppear]</td>\n",
       "    </tr>\n",
       "    <tr>\n",
       "      <th>15</th>\n",
       "      <td>27899413433550864</td>\n",
       "      <td>[MainScreenAppear]</td>\n",
       "    </tr>\n",
       "    <tr>\n",
       "      <th>16</th>\n",
       "      <td>28534696657485531</td>\n",
       "      <td>[MainScreenAppear, PaymentScreenSuccessful, CartScreenAppear, OffersScreenAppear]</td>\n",
       "    </tr>\n",
       "    <tr>\n",
       "      <th>17</th>\n",
       "      <td>28755862496905658</td>\n",
       "      <td>[MainScreenAppear, CartScreenAppear]</td>\n",
       "    </tr>\n",
       "    <tr>\n",
       "      <th>18</th>\n",
       "      <td>29094035245869447</td>\n",
       "      <td>[Tutorial, MainScreenAppear, OffersScreenAppear, CartScreenAppear, PaymentScreenSuccessful]</td>\n",
       "    </tr>\n",
       "    <tr>\n",
       "      <th>19</th>\n",
       "      <td>31467376676344061</td>\n",
       "      <td>[MainScreenAppear, CartScreenAppear, PaymentScreenSuccessful, OffersScreenAppear]</td>\n",
       "    </tr>\n",
       "  </tbody>\n",
       "</table>\n",
       "</div>"
      ],
      "text/plain": [
       "            device_id  \\\n",
       "0    6888746892508752   \n",
       "1    6909561520679493   \n",
       "2    6922444491712477   \n",
       "3    7435777799948366   \n",
       "4    7702139951469979   \n",
       "5    8486814028069281   \n",
       "6    8740973466195562   \n",
       "7    9841258664663090   \n",
       "8   12692216027168046   \n",
       "9   15708180189885246   \n",
       "10  18658818197810381   \n",
       "11  20449203507642281   \n",
       "12  20795828045873027   \n",
       "13  24144092107925848   \n",
       "14  26317307137967461   \n",
       "15  27899413433550864   \n",
       "16  28534696657485531   \n",
       "17  28755862496905658   \n",
       "18  29094035245869447   \n",
       "19  31467376676344061   \n",
       "\n",
       "                                                                                          event  \n",
       "0                                                                            [MainScreenAppear]  \n",
       "1             [MainScreenAppear, PaymentScreenSuccessful, CartScreenAppear, OffersScreenAppear]  \n",
       "2             [MainScreenAppear, PaymentScreenSuccessful, CartScreenAppear, OffersScreenAppear]  \n",
       "3                                                                            [MainScreenAppear]  \n",
       "4             [MainScreenAppear, OffersScreenAppear, CartScreenAppear, PaymentScreenSuccessful]  \n",
       "5                                      [OffersScreenAppear, CartScreenAppear, MainScreenAppear]  \n",
       "6                                                        [MainScreenAppear, OffersScreenAppear]  \n",
       "7   [Tutorial, MainScreenAppear, OffersScreenAppear, CartScreenAppear, PaymentScreenSuccessful]  \n",
       "8                                                        [MainScreenAppear, OffersScreenAppear]  \n",
       "9             [OffersScreenAppear, CartScreenAppear, PaymentScreenSuccessful, MainScreenAppear]  \n",
       "10            [OffersScreenAppear, CartScreenAppear, MainScreenAppear, PaymentScreenSuccessful]  \n",
       "11                                                                           [MainScreenAppear]  \n",
       "12            [MainScreenAppear, OffersScreenAppear, PaymentScreenSuccessful, CartScreenAppear]  \n",
       "13                                                                           [MainScreenAppear]  \n",
       "14                                                                           [MainScreenAppear]  \n",
       "15                                                                           [MainScreenAppear]  \n",
       "16            [MainScreenAppear, PaymentScreenSuccessful, CartScreenAppear, OffersScreenAppear]  \n",
       "17                                                         [MainScreenAppear, CartScreenAppear]  \n",
       "18  [Tutorial, MainScreenAppear, OffersScreenAppear, CartScreenAppear, PaymentScreenSuccessful]  \n",
       "19            [MainScreenAppear, CartScreenAppear, PaymentScreenSuccessful, OffersScreenAppear]  "
      ]
     },
     "execution_count": 57,
     "metadata": {},
     "output_type": "execute_result"
    }
   ],
   "source": [
    "pd.set_option('display.max_colwidth', None)\n",
    "events_per_users = df_copy.groupby('device_id')['event'].nunique().reset_index()\n",
    "events_per_users = events_per_users.groupby('event')['device_id'].count().reset_index().rename(columns={'event':'events', 'device_id':'count'})\n",
    "df_copy.groupby('device_id')['event'].unique().reset_index().head(20)"
   ]
  },
  {
   "cell_type": "code",
   "execution_count": 58,
   "metadata": {
    "id": "UocXxWthsNzb",
    "outputId": "780f1b79-fc92-4c41-b85b-f9843a3e34a5"
   },
   "outputs": [
    {
     "name": "stdout",
     "output_type": "stream",
     "text": [
      "Количество пользователей, которые прошли определенное количество уникальных событий:\n",
      "\n",
      "ЛЕГЕНДА (указано последние событие по воронке)\n",
      "Количество уникальных пользователей = 7458\n",
      "                        0                   1                 2  \\\n",
      "events   MainScreenAppear  OffersScreenAppear  CartScreenAppear   \n",
      "count                2717                1004               317   \n",
      "percent         36.430678           13.462054          4.250469   \n",
      "\n",
      "                               3         4  \n",
      "events   PaymentScreenSuccessful  Tutorial  \n",
      "count                       2970       450  \n",
      "percent                39.823009  6.033789  \n"
     ]
    },
    {
     "data": {
      "image/png": "[encoded data removed]",
      "text/plain": [
       "<Figure size 900x600 with 1 Axes>"
      ]
     },
     "metadata": {},
     "output_type": "display_data"
    }
   ],
   "source": [
    "events_per_users = df_copy.groupby('device_id')['event'].nunique().reset_index()\n",
    "events_per_users = events_per_users.groupby('event')['device_id'].count().reset_index().rename(columns={'event':'events', 'device_id':'count'})\n",
    "sum_count = sum(events_per_users['count'])\n",
    "events_per_users['percent'] = events_per_users['count'] / sum_count * 100\n",
    "events_per_users['events'] = ['MainScreenAppear','OffersScreenAppear','CartScreenAppear','PaymentScreenSuccessful', 'Tutorial']\n",
    "\n",
    "print('Количество пользователей, которые прошли определенное количество уникальных событий:\\n')\n",
    "print('ЛЕГЕНДА (указано последние событие по воронке)')\n",
    "print(f'Количество уникальных пользователей = {sum_count}\\n{events_per_users.T}')\n",
    "\n",
    "plt.figure(figsize=(9,6))\n",
    "plt.plot(events_per_users['events'],events_per_users['percent'])\n",
    "plt.xlabel('События')\n",
    "plt.ylabel('Процент достижения')\n",
    "plt.show()"
   ]
  },
  {
   "cell_type": "markdown",
   "metadata": {
    "id": "oLgebqN0sNzd"
   },
   "source": [
    "- Tutorial: Пользователь сначала может проходить обучение или руководство по использованию приложения. Этот шаг не всегда является обязательным и может быть пропущен некоторыми пользователями.\n",
    "\n",
    "- MainScreenAppear: После или вместо обучения пользователь переходит на главный экран приложения, где он может просмотреть доступные продукты или категории продуктов.\n",
    "\n",
    "- OffersScreenAppear: Затем пользователь может перейти к экрану с предложениями или выбрать конкретный продукт для просмотра деталей.\n",
    "\n",
    "- CartScreenAppear: После выбора товаров пользователь переходит в корзину, где может просмотреть свой выбор и подтвердить намерение совершить покупку.\n",
    "\n",
    "- PaymentScreenSuccessful: Наконец, пользователь переходит к экрану оплаты, где он вводит свои данные для оплаты. Успешное завершение этого этапа означает, что покупка была совершена успешно."
   ]
  },
  {
   "cell_type": "code",
   "execution_count": 59,
   "metadata": {
    "id": "5KelCmeqsNzd",
    "outputId": "4565ffdb-6adb-45b0-d225-d24aedb5b27b"
   },
   "outputs": [
    {
     "data": {
      "text/html": [
       "<div>\n",
       "<style scoped>\n",
       "    .dataframe tbody tr th:only-of-type {\n",
       "        vertical-align: middle;\n",
       "    }\n",
       "\n",
       "    .dataframe tbody tr th {\n",
       "        vertical-align: top;\n",
       "    }\n",
       "\n",
       "    .dataframe thead th {\n",
       "        text-align: right;\n",
       "    }\n",
       "</style>\n",
       "<table border=\"1\" class=\"dataframe\">\n",
       "  <thead>\n",
       "    <tr style=\"text-align: right;\">\n",
       "      <th></th>\n",
       "      <th>event</th>\n",
       "      <th>count</th>\n",
       "      <th>persents</th>\n",
       "      <th>diff_prev</th>\n",
       "    </tr>\n",
       "  </thead>\n",
       "  <tbody>\n",
       "    <tr>\n",
       "      <th>1</th>\n",
       "      <td>MainScreenAppear</td>\n",
       "      <td>7344</td>\n",
       "      <td>0.984714</td>\n",
       "      <td>0.000000</td>\n",
       "    </tr>\n",
       "    <tr>\n",
       "      <th>2</th>\n",
       "      <td>OffersScreenAppear</td>\n",
       "      <td>4517</td>\n",
       "      <td>0.605658</td>\n",
       "      <td>0.384940</td>\n",
       "    </tr>\n",
       "    <tr>\n",
       "      <th>0</th>\n",
       "      <td>CartScreenAppear</td>\n",
       "      <td>3658</td>\n",
       "      <td>0.490480</td>\n",
       "      <td>0.190170</td>\n",
       "    </tr>\n",
       "    <tr>\n",
       "      <th>3</th>\n",
       "      <td>PaymentScreenSuccessful</td>\n",
       "      <td>3463</td>\n",
       "      <td>0.464334</td>\n",
       "      <td>0.053308</td>\n",
       "    </tr>\n",
       "  </tbody>\n",
       "</table>\n",
       "</div>"
      ],
      "text/plain": [
       "                     event  count  persents  diff_prev\n",
       "1         MainScreenAppear   7344  0.984714   0.000000\n",
       "2       OffersScreenAppear   4517  0.605658   0.384940\n",
       "0         CartScreenAppear   3658  0.490480   0.190170\n",
       "3  PaymentScreenSuccessful   3463  0.464334   0.053308"
      ]
     },
     "execution_count": 59,
     "metadata": {},
     "output_type": "execute_result"
    }
   ],
   "source": [
    "event_users"
   ]
  },
  {
   "cell_type": "markdown",
   "metadata": {
    "id": "LHhB-EhHsNzf"
   },
   "source": [
    "#### A - MainScreenAppear\n",
    "#### B - OffersScreenAppear\n",
    "#### C - CartScreenAppear\n",
    "#### D - PaymentScreenSuccessful"
   ]
  },
  {
   "cell_type": "markdown",
   "metadata": {
    "id": "Sy1VN8-YsNzf"
   },
   "source": [
    "До оплаты дошло ~40% пользователей."
   ]
  },
  {
   "cell_type": "markdown",
   "metadata": {
    "id": "0qyZqHSssNzh"
   },
   "source": [
    "# Вывод\n",
    "Видна логика - сначала главный экран => страница с предложениями => содержание корзины => выполненная оплата.\n",
    "Однако есть ещё одно событие под названием туториал. Могу предположить, что это необязательное событие для выполнения логики.\n",
    "\n",
    "БОльшие потери идут на этапе А-В ~ 38%, затем B-C ~ 19%, C-D ~ 5 %.\n",
    "\n",
    "До оплаты доходит 46% пользователей."
   ]
  },
  {
   "cell_type": "markdown",
   "metadata": {
    "id": "pNl65lL2sNzk"
   },
   "source": [
    "## Шаг 5. Изучить результаты эксперимента"
   ]
  },
  {
   "cell_type": "markdown",
   "metadata": {
    "id": "Th8kG1_msNzk"
   },
   "source": [
    "- Аналогично поступить с группой с изменённым шрифтом. Сравнить результаты с каждой из контрольных групп в отдельности по каждому событию. Сравнить результаты с объединённой контрольной группой. Какие выводы из эксперимента можно сделать?\n",
    "\n",
    "- Какой уровень значимости выбрал при проверке статистических гипотез выше? Посчитать, сколько проверок статистических гипотез было сделано. При уровне значимости 0.1 каждый десятый раз можно получать ложный результат. Какой уровень значимости стоит применить?"
   ]
  },
  {
   "cell_type": "markdown",
   "metadata": {
    "id": "QUEOVpRusNzk"
   },
   "source": [
    "### Сколько пользователей в каждой экспериментальной группе?"
   ]
  },
  {
   "cell_type": "code",
   "execution_count": 60,
   "metadata": {
    "id": "14jHjvstsNzl",
    "outputId": "b765b61e-8db6-4ee8-d200-497614f9fef7"
   },
   "outputs": [
    {
     "data": {
      "text/html": [
       "<div>\n",
       "<style scoped>\n",
       "    .dataframe tbody tr th:only-of-type {\n",
       "        vertical-align: middle;\n",
       "    }\n",
       "\n",
       "    .dataframe tbody tr th {\n",
       "        vertical-align: top;\n",
       "    }\n",
       "\n",
       "    .dataframe thead th {\n",
       "        text-align: right;\n",
       "    }\n",
       "</style>\n",
       "<table border=\"1\" class=\"dataframe\">\n",
       "  <thead>\n",
       "    <tr style=\"text-align: right;\">\n",
       "      <th></th>\n",
       "      <th>group</th>\n",
       "      <th>device_id</th>\n",
       "    </tr>\n",
       "  </thead>\n",
       "  <tbody>\n",
       "    <tr>\n",
       "      <th>0</th>\n",
       "      <td>246</td>\n",
       "      <td>2456</td>\n",
       "    </tr>\n",
       "    <tr>\n",
       "      <th>1</th>\n",
       "      <td>247</td>\n",
       "      <td>2491</td>\n",
       "    </tr>\n",
       "    <tr>\n",
       "      <th>2</th>\n",
       "      <td>248</td>\n",
       "      <td>2511</td>\n",
       "    </tr>\n",
       "  </tbody>\n",
       "</table>\n",
       "</div>"
      ],
      "text/plain": [
       "   group  device_id\n",
       "0    246       2456\n",
       "1    247       2491\n",
       "2    248       2511"
      ]
     },
     "execution_count": 60,
     "metadata": {},
     "output_type": "execute_result"
    }
   ],
   "source": [
    "df_copy.groupby('group')['device_id'].nunique().reset_index()"
   ]
  },
  {
   "cell_type": "code",
   "execution_count": 61,
   "metadata": {
    "id": "j87xnufLsNzl",
    "outputId": "ddc0a7ef-0c86-4299-f7af-9907e40eaef2"
   },
   "outputs": [
    {
     "data": {
      "text/html": [
       "<div>\n",
       "<style scoped>\n",
       "    .dataframe tbody tr th:only-of-type {\n",
       "        vertical-align: middle;\n",
       "    }\n",
       "\n",
       "    .dataframe tbody tr th {\n",
       "        vertical-align: top;\n",
       "    }\n",
       "\n",
       "    .dataframe thead th {\n",
       "        text-align: right;\n",
       "    }\n",
       "</style>\n",
       "<table border=\"1\" class=\"dataframe\">\n",
       "  <thead>\n",
       "    <tr style=\"text-align: right;\">\n",
       "      <th></th>\n",
       "      <th>device_id</th>\n",
       "      <th>group</th>\n",
       "    </tr>\n",
       "  </thead>\n",
       "  <tbody>\n",
       "    <tr>\n",
       "      <th>0</th>\n",
       "      <td>6888746892508752</td>\n",
       "      <td>1</td>\n",
       "    </tr>\n",
       "    <tr>\n",
       "      <th>4967</th>\n",
       "      <td>6207091767962101846</td>\n",
       "      <td>1</td>\n",
       "    </tr>\n",
       "    <tr>\n",
       "      <th>4979</th>\n",
       "      <td>6217295124800833842</td>\n",
       "      <td>1</td>\n",
       "    </tr>\n",
       "    <tr>\n",
       "      <th>4978</th>\n",
       "      <td>6216080220799726690</td>\n",
       "      <td>1</td>\n",
       "    </tr>\n",
       "    <tr>\n",
       "      <th>4977</th>\n",
       "      <td>6215559225876063378</td>\n",
       "      <td>1</td>\n",
       "    </tr>\n",
       "    <tr>\n",
       "      <th>...</th>\n",
       "      <td>...</td>\n",
       "      <td>...</td>\n",
       "    </tr>\n",
       "    <tr>\n",
       "      <th>2482</th>\n",
       "      <td>3171891164497446149</td>\n",
       "      <td>1</td>\n",
       "    </tr>\n",
       "    <tr>\n",
       "      <th>2481</th>\n",
       "      <td>3171454373076660766</td>\n",
       "      <td>1</td>\n",
       "    </tr>\n",
       "    <tr>\n",
       "      <th>2480</th>\n",
       "      <td>3170212200647575044</td>\n",
       "      <td>1</td>\n",
       "    </tr>\n",
       "    <tr>\n",
       "      <th>2479</th>\n",
       "      <td>3167974726645136146</td>\n",
       "      <td>1</td>\n",
       "    </tr>\n",
       "    <tr>\n",
       "      <th>7457</th>\n",
       "      <td>9222603179720523844</td>\n",
       "      <td>1</td>\n",
       "    </tr>\n",
       "  </tbody>\n",
       "</table>\n",
       "<p>7458 rows × 2 columns</p>\n",
       "</div>"
      ],
      "text/plain": [
       "                device_id  group\n",
       "0        6888746892508752      1\n",
       "4967  6207091767962101846      1\n",
       "4979  6217295124800833842      1\n",
       "4978  6216080220799726690      1\n",
       "4977  6215559225876063378      1\n",
       "...                   ...    ...\n",
       "2482  3171891164497446149      1\n",
       "2481  3171454373076660766      1\n",
       "2480  3170212200647575044      1\n",
       "2479  3167974726645136146      1\n",
       "7457  9222603179720523844      1\n",
       "\n",
       "[7458 rows x 2 columns]"
      ]
     },
     "execution_count": 61,
     "metadata": {},
     "output_type": "execute_result"
    }
   ],
   "source": [
    "df_copy.groupby('device_id')['group'].nunique().reset_index().sort_values(by='group', ascending=False)"
   ]
  },
  {
   "cell_type": "markdown",
   "metadata": {
    "id": "rzt2hOLdsNzn"
   },
   "source": [
    "### Есть 2 контрольные группы для А/А-эксперимента, чтобы проверить корректность всех механизмов и расчётов. Проверьте, находят ли статистические критерии разницу между выборками 246 и 247."
   ]
  },
  {
   "cell_type": "markdown",
   "metadata": {
    "id": "if2GawBpsNzo"
   },
   "source": [
    "Если мы хотим определить, есть ли значимая разница между долей пользователей, совершивших определенное действие, в двух разных экспериментальных группах, мы можем использовать z-test для оценки равенства пропорций"
   ]
  },
  {
   "cell_type": "markdown",
   "metadata": {
    "id": "bP871upZsNzp"
   },
   "source": [
    "H0 - группы идентичны и пропорции имеют высокую схожесть\n",
    "\n",
    "Н1 - группы неидентичны и пропорции низкую степень схожести\n",
    "\n",
    "альфа = 0.05"
   ]
  },
  {
   "cell_type": "code",
   "execution_count": 62,
   "metadata": {
    "id": "gfNRKe7LsNzq"
   },
   "outputs": [],
   "source": [
    "alpha = .05"
   ]
  },
  {
   "cell_type": "code",
   "execution_count": 63,
   "metadata": {
    "id": "rC9gwkmFsNzr",
    "outputId": "c09cf9b9-0606-4a67-bf8d-77eb1a8c64c9"
   },
   "outputs": [
    {
     "data": {
      "text/plain": [
       "0    1172\n",
       "Name: device_id, dtype: int64"
      ]
     },
     "execution_count": 63,
     "metadata": {},
     "output_type": "execute_result"
    }
   ],
   "source": [
    "a = df_copy[df_copy['event'] == 'PaymentScreenSuccessful'].groupby('group')['device_id'].nunique().reset_index()\n",
    "a[a['group']==246]['device_id']"
   ]
  },
  {
   "cell_type": "code",
   "execution_count": 64,
   "metadata": {
    "id": "vBEWdBYFsNzs",
    "outputId": "1cfa54c5-1771-4de1-aefa-f1782f8fea52"
   },
   "outputs": [
    {
     "data": {
      "text/plain": [
       "group\n",
       "246    1174\n",
       "247    1138\n",
       "248    1159\n",
       "Name: device_id, dtype: int64"
      ]
     },
     "execution_count": 64,
     "metadata": {},
     "output_type": "execute_result"
    }
   ],
   "source": [
    "df[df['event'] == 'PaymentScreenSuccessful'].groupby('group')['device_id'].nunique()"
   ]
  },
  {
   "cell_type": "code",
   "execution_count": 65,
   "metadata": {
    "id": "VLoONFG6sNzs",
    "outputId": "d4e3adce-657f-4607-b04f-410db797eaaf"
   },
   "outputs": [
    {
     "name": "stdout",
     "output_type": "stream",
     "text": [
      "z-statistic: 1.4913768456314167\n",
      "p-value: 0.13586258367273996\n",
      "Не получилось отклонить нулевую гипотезу, нет оснований считать группы разными\n"
     ]
    }
   ],
   "source": [
    "successes = df_copy[df_copy['event'] == 'PaymentScreenSuccessful'].groupby('group')['device_id'].nunique()\n",
    "\n",
    "totals = df_copy.groupby('group')['device_id'].nunique()\n",
    "\n",
    "successes_array = [successes[246], successes[247]]\n",
    "totals_array = [totals[246], totals[247]]\n",
    "\n",
    "zstat, pval = proportions_ztest(successes_array, totals_array)\n",
    "\n",
    "print('z-statistic:', zstat)\n",
    "print('p-value:', pval)\n",
    "\n",
    "if pval < alpha:\n",
    "    print('Отклоняем нулевую гипотезу: между группами есть статистически значимые различия')\n",
    "else:\n",
    "    print('Не получилось отклонить нулевую гипотезу, нет оснований считать группы разными')"
   ]
  },
  {
   "cell_type": "markdown",
   "metadata": {
    "id": "yqSXVCoZsNzs"
   },
   "source": [
    "# Вывод\n",
    "На основании z-test можно сделать вывод о том, что группы имеют разные пропорции"
   ]
  },
  {
   "cell_type": "markdown",
   "metadata": {
    "id": "llqXqq2LsNzv"
   },
   "source": [
    "### Выбрать самое популярное событие. Посчитать число пользователей, совершивших это событие в каждой из контрольных групп. Посчитать долю пользователей, совершивших это событие. Проверить, будет ли отличие между группами статистически достоверным. Проделать то же самое для всех других событий (удобно обернуть проверку в отдельную функцию). Можно ли сказать, что разбиение на группы работает корректно?"
   ]
  },
  {
   "cell_type": "code",
   "execution_count": 66,
   "metadata": {
    "id": "er3rPA-csNzv"
   },
   "outputs": [],
   "source": [
    "group246 = df_copy[(df_copy['group'] == 246)]\n",
    "group247 = df_copy[(df_copy['group'] == 247)]\n",
    "group248 = df_copy[(df_copy['group'] == 248)]"
   ]
  },
  {
   "cell_type": "code",
   "execution_count": 67,
   "metadata": {
    "id": "9KDehzmtsNzv",
    "outputId": "e28e1d8a-131d-49b1-e94a-858b0b4b0922"
   },
   "outputs": [
    {
     "data": {
      "text/html": [
       "<div>\n",
       "<style scoped>\n",
       "    .dataframe tbody tr th:only-of-type {\n",
       "        vertical-align: middle;\n",
       "    }\n",
       "\n",
       "    .dataframe tbody tr th {\n",
       "        vertical-align: top;\n",
       "    }\n",
       "\n",
       "    .dataframe thead th {\n",
       "        text-align: right;\n",
       "    }\n",
       "</style>\n",
       "<table border=\"1\" class=\"dataframe\">\n",
       "  <thead>\n",
       "    <tr style=\"text-align: right;\">\n",
       "      <th></th>\n",
       "      <th>event</th>\n",
       "      <th>device_id</th>\n",
       "      <th>total</th>\n",
       "      <th>percente</th>\n",
       "    </tr>\n",
       "  </thead>\n",
       "  <tbody>\n",
       "    <tr>\n",
       "      <th>1</th>\n",
       "      <td>MainScreenAppear</td>\n",
       "      <td>2423</td>\n",
       "      <td>2456</td>\n",
       "      <td>0.987</td>\n",
       "    </tr>\n",
       "    <tr>\n",
       "      <th>2</th>\n",
       "      <td>OffersScreenAppear</td>\n",
       "      <td>1514</td>\n",
       "      <td>2456</td>\n",
       "      <td>0.616</td>\n",
       "    </tr>\n",
       "    <tr>\n",
       "      <th>0</th>\n",
       "      <td>CartScreenAppear</td>\n",
       "      <td>1238</td>\n",
       "      <td>2456</td>\n",
       "      <td>0.504</td>\n",
       "    </tr>\n",
       "    <tr>\n",
       "      <th>3</th>\n",
       "      <td>PaymentScreenSuccessful</td>\n",
       "      <td>1172</td>\n",
       "      <td>2456</td>\n",
       "      <td>0.477</td>\n",
       "    </tr>\n",
       "    <tr>\n",
       "      <th>4</th>\n",
       "      <td>Tutorial</td>\n",
       "      <td>269</td>\n",
       "      <td>2456</td>\n",
       "      <td>0.110</td>\n",
       "    </tr>\n",
       "  </tbody>\n",
       "</table>\n",
       "</div>"
      ],
      "text/plain": [
       "                     event  device_id  total  percente\n",
       "1         MainScreenAppear       2423   2456     0.987\n",
       "2       OffersScreenAppear       1514   2456     0.616\n",
       "0         CartScreenAppear       1238   2456     0.504\n",
       "3  PaymentScreenSuccessful       1172   2456     0.477\n",
       "4                 Tutorial        269   2456     0.110"
      ]
     },
     "execution_count": 67,
     "metadata": {},
     "output_type": "execute_result"
    }
   ],
   "source": [
    "piv246 = group246.pivot_table(index = 'event', values = 'device_id', aggfunc = 'nunique').reset_index().sort_values(by='device_id',ascending = False)\n",
    "piv246['total'] = df_copy[(df_copy['group'] == 246)]['device_id'].nunique()\n",
    "piv246['percente'] = round(piv246['device_id'] / piv246['total'], 3)\n",
    "piv246"
   ]
  },
  {
   "cell_type": "code",
   "execution_count": 68,
   "metadata": {
    "id": "C978nVnlsNzx",
    "outputId": "fc5bdc18-51a7-457d-8a36-186a2d309804"
   },
   "outputs": [
    {
     "data": {
      "text/html": [
       "<div>\n",
       "<style scoped>\n",
       "    .dataframe tbody tr th:only-of-type {\n",
       "        vertical-align: middle;\n",
       "    }\n",
       "\n",
       "    .dataframe tbody tr th {\n",
       "        vertical-align: top;\n",
       "    }\n",
       "\n",
       "    .dataframe thead th {\n",
       "        text-align: right;\n",
       "    }\n",
       "</style>\n",
       "<table border=\"1\" class=\"dataframe\">\n",
       "  <thead>\n",
       "    <tr style=\"text-align: right;\">\n",
       "      <th></th>\n",
       "      <th>event</th>\n",
       "      <th>device_id</th>\n",
       "      <th>total</th>\n",
       "      <th>percente</th>\n",
       "    </tr>\n",
       "  </thead>\n",
       "  <tbody>\n",
       "    <tr>\n",
       "      <th>1</th>\n",
       "      <td>MainScreenAppear</td>\n",
       "      <td>2454</td>\n",
       "      <td>2491</td>\n",
       "      <td>0.985</td>\n",
       "    </tr>\n",
       "    <tr>\n",
       "      <th>2</th>\n",
       "      <td>OffersScreenAppear</td>\n",
       "      <td>1498</td>\n",
       "      <td>2491</td>\n",
       "      <td>0.601</td>\n",
       "    </tr>\n",
       "    <tr>\n",
       "      <th>0</th>\n",
       "      <td>CartScreenAppear</td>\n",
       "      <td>1216</td>\n",
       "      <td>2491</td>\n",
       "      <td>0.488</td>\n",
       "    </tr>\n",
       "    <tr>\n",
       "      <th>3</th>\n",
       "      <td>PaymentScreenSuccessful</td>\n",
       "      <td>1136</td>\n",
       "      <td>2491</td>\n",
       "      <td>0.456</td>\n",
       "    </tr>\n",
       "    <tr>\n",
       "      <th>4</th>\n",
       "      <td>Tutorial</td>\n",
       "      <td>279</td>\n",
       "      <td>2491</td>\n",
       "      <td>0.112</td>\n",
       "    </tr>\n",
       "  </tbody>\n",
       "</table>\n",
       "</div>"
      ],
      "text/plain": [
       "                     event  device_id  total  percente\n",
       "1         MainScreenAppear       2454   2491     0.985\n",
       "2       OffersScreenAppear       1498   2491     0.601\n",
       "0         CartScreenAppear       1216   2491     0.488\n",
       "3  PaymentScreenSuccessful       1136   2491     0.456\n",
       "4                 Tutorial        279   2491     0.112"
      ]
     },
     "execution_count": 68,
     "metadata": {},
     "output_type": "execute_result"
    }
   ],
   "source": [
    "piv247 = group247.pivot_table(index = 'event', values = 'device_id', aggfunc = 'nunique').reset_index().sort_values(by='device_id',ascending = False)\n",
    "piv247['total'] = df_copy[(df_copy['group'] == 247)]['device_id'].nunique()\n",
    "piv247['percente'] = round(piv247['device_id'] / piv247['total'], 3)\n",
    "piv247"
   ]
  },
  {
   "cell_type": "code",
   "execution_count": 69,
   "metadata": {
    "id": "0WhY8RdqsNzz",
    "outputId": "0104fb1e-d8ff-4760-9aeb-664b886f7fdd"
   },
   "outputs": [
    {
     "name": "stdout",
     "output_type": "stream",
     "text": [
      "Для события Tutorial, p-value = 0.7814899141660463.\n",
      "H0 - статзначимость есть среди события Tutorial групп 246 и 247\n",
      "Не отклоняем нулевую\n",
      "Доля пользователей из 246, которые прошли Tutorial = 0.004524417017741649\n",
      "Доля пользователей из 247, которые прошли Tutorial = 0.004831978915001098\n",
      "\n",
      "Для события MainScreenAppear, p-value = 0.6730951807208486.\n",
      "H0 - статзначимость есть среди события MainScreenAppear групп 246 и 247\n",
      "Не отклоняем нулевую\n",
      "Доля пользователей из 246, которые прошли MainScreenAppear = 0.5352459502759153\n",
      "Доля пользователей из 247, которые прошли MainScreenAppear = 0.5539937037850502\n",
      "\n",
      "Для события OffersScreenAppear, p-value = 0.27702771700769824.\n",
      "H0 - статзначимость есть среди события OffersScreenAppear групп 246 и 247\n",
      "Не отклоняем нулевую\n",
      "Доля пользователей из 246, которые прошли OffersScreenAppear = 0.19680472319468345\n",
      "Доля пользователей из 247, которые прошли OffersScreenAppear = 0.1979061424701662\n",
      "\n",
      "Для события CartScreenAppear, p-value = 0.26299626637167794.\n",
      "H0 - статзначимость есть среди события CartScreenAppear групп 246 и 247\n",
      "Не отклоняем нулевую\n",
      "Доля пользователей из 246, которые прошли CartScreenAppear = 0.1495579422061354\n",
      "Доля пользователей из 247, которые прошли CartScreenAppear = 0.13785782268101618\n",
      "\n",
      "Для события PaymentScreenSuccessful, p-value = 0.13586258367273996.\n",
      "H0 - статзначимость есть среди события PaymentScreenSuccessful групп 246 и 247\n",
      "Не отклоняем нулевую\n",
      "Доля пользователей из 246, которые прошли PaymentScreenSuccessful = 0.11386696730552424\n",
      "Доля пользователей из 247, которые прошли PaymentScreenSuccessful = 0.10541035214876639\n",
      "\n"
     ]
    }
   ],
   "source": [
    "users_246 = df_copy[df_copy['group'] == 246]['device_id'].nunique()\n",
    "users_247 = df_copy[df_copy['group'] == 247]['device_id'].nunique()\n",
    "\n",
    "for event in df_copy['event'].unique():\n",
    "    event_users_246 = df_copy[(df_copy['group'] == 246) & (df_copy['event'] == event)]['device_id'].nunique()\n",
    "    event_users_247 = df_copy[(df_copy['group'] == 247) & (df_copy['event'] == event)]['device_id'].nunique()\n",
    "\n",
    "    stat, p = proportions_ztest([event_users_246, event_users_247], [users_246, users_247])\n",
    "\n",
    "    print(f\"Для события {event}, p-value = {p}.\")\n",
    "\n",
    "    print(f\"H0 - статзначимость есть среди события {event} групп 246 и 247\")\n",
    "    if p < alpha:\n",
    "        print('Отклоняем нулевую гепотезу')\n",
    "    else:\n",
    "        print('Не отклоняем нулевую')\n",
    "    print(f'Доля пользователей из 246, которые прошли {event} =',(df_copy[(df_copy['group'] == 246)]['event'] == event).mean())\n",
    "    print(f'Доля пользователей из 247, которые прошли {event} =',(df_copy[(df_copy['group'] == 247)]['event'] == event).mean())\n",
    "    print()"
   ]
  },
  {
   "cell_type": "markdown",
   "metadata": {
    "id": "ClDuQXoJsNz0"
   },
   "source": [
    "# Вывод\n",
    "Группировки по событиям разбиты корректно - подтверждение предыдущему выводу"
   ]
  },
  {
   "cell_type": "markdown",
   "metadata": {
    "id": "TzB9OGqCsNz1"
   },
   "source": [
    "### Аналогично поступить с группой с изменённым шрифтом. Сравнить результаты с каждой из контрольных групп в отдельности по каждому событию. Сравнить результаты с объединённой контрольной группой. Какие выводы из эксперимента можно сделать?"
   ]
  },
  {
   "cell_type": "code",
   "execution_count": 70,
   "metadata": {
    "id": "yVhWnn6QsNz2",
    "outputId": "f94db1e9-2e3c-412a-aef0-25f344c9d8a2"
   },
   "outputs": [
    {
     "name": "stdout",
     "output_type": "stream",
     "text": [
      "Для события Tutorial, p-value = 0.965048079100338.\n",
      "H0 - статзначимость есть среди события Tutorial групп 246 и 248\n",
      "Не отклоняем нулевую, статистически значимых различий между долями пользователей нет.\n",
      "Доля пользователей из 246, которые прошли Tutorial = 0.004524417017741649\n",
      "Доля пользователей из 248, которые прошли Tutorial = 0.004879562249675636\n",
      "\n",
      "Для события MainScreenAppear, p-value = 0.24380010740478963.\n",
      "H0 - статзначимость есть среди события MainScreenAppear групп 246 и 248\n",
      "Не отклоняем нулевую, статистически значимых различий между долями пользователей нет.\n",
      "Доля пользователей из 246, которые прошли MainScreenAppear = 0.5352459502759153\n",
      "Доля пользователей из 248, которые прошли MainScreenAppear = 0.5549021266993851\n",
      "\n",
      "Для события OffersScreenAppear, p-value = 0.21751867407994285.\n",
      "H0 - статзначимость есть среди события OffersScreenAppear групп 246 и 248\n",
      "Не отклоняем нулевую, статистически значимых различий между долями пользователей нет.\n",
      "Доля пользователей из 246, которые прошли OffersScreenAppear = 0.19680472319468345\n",
      "Доля пользователей из 248, которые прошли OffersScreenAppear = 0.19987871608281152\n",
      "\n",
      "Для события CartScreenAppear, p-value = 0.08317408116828569.\n",
      "H0 - статзначимость есть среди события CartScreenAppear групп 246 и 248\n",
      "Не отклоняем нулевую, статистически значимых различий между долями пользователей нет.\n",
      "Доля пользователей из 246, которые прошли CartScreenAppear = 0.1495579422061354\n",
      "Доля пользователей из 248, которые прошли CartScreenAppear = 0.13754442376036555\n",
      "\n",
      "Для события PaymentScreenSuccessful, p-value = 0.2239322340682175.\n",
      "H0 - статзначимость есть среди события PaymentScreenSuccessful групп 246 и 248\n",
      "Не отклоняем нулевую, статистически значимых различий между долями пользователей нет.\n",
      "Доля пользователей из 246, которые прошли PaymentScreenSuccessful = 0.11386696730552424\n",
      "Доля пользователей из 248, которые прошли PaymentScreenSuccessful = 0.10279517120776217\n",
      "\n"
     ]
    }
   ],
   "source": [
    "users_246 = df_copy[df_copy['group'] == 246]['device_id'].nunique()\n",
    "users_248 = df_copy[df_copy['group'] == 248]['device_id'].nunique()\n",
    "\n",
    "for event in df_copy['event'].unique():\n",
    "    event_users_246 = df_copy[(df_copy['group'] == 246) & (df_copy['event'] == event)]['device_id'].nunique()\n",
    "    event_users_248 = df_copy[(df_copy['group'] == 248) & (df_copy['event'] == event)]['device_id'].nunique()\n",
    "\n",
    "    stat, p = proportions_ztest([event_users_246, event_users_248], [users_246, users_248])\n",
    "\n",
    "    print(f\"Для события {event}, p-value = {p}.\")\n",
    "\n",
    "    print(f\"H0 - статзначимость есть среди события {event} групп 246 и 248\")\n",
    "    if p < alpha:\n",
    "        print('Отклоняем нулевую гепотезу, статистически значимые различия между долями пользователей есть')\n",
    "    else:\n",
    "        print('Не отклоняем нулевую, статистически значимых различий между долями пользователей нет.')\n",
    "    print(f'Доля пользователей из 246, которые прошли {event} =',(df_copy[(df_copy['group'] == 246)]['event'] == event).mean())\n",
    "    print(f'Доля пользователей из 248, которые прошли {event} =',(df_copy[(df_copy['group'] == 248)]['event'] == event).mean())\n",
    "    print()"
   ]
  },
  {
   "cell_type": "markdown",
   "metadata": {
    "id": "At1svvIMsNz3"
   },
   "source": [
    "# Вывод\n",
    "Как и прежде, между 246 и 248 нет статистически значимых различий"
   ]
  },
  {
   "cell_type": "code",
   "execution_count": 71,
   "metadata": {
    "id": "eV3jWq8psN0A",
    "outputId": "9a2e6a05-dd6c-4c6b-d9a8-120264e078bc"
   },
   "outputs": [
    {
     "name": "stdout",
     "output_type": "stream",
     "text": [
      "Для события Tutorial, p-value = 0.8142406312184222.\n",
      "H0 - статзначимость есть среди события Tutorial групп 247 и 248\n",
      "Не отклоняем нулевую, статистически значимых различий между долями пользователей нет.\n",
      "Доля пользователей из 247, которые прошли Tutorial = 0.004831978915001098\n",
      "Доля пользователей из 248, которые прошли Tutorial = 0.004879562249675636\n",
      "\n",
      "Для события MainScreenAppear, p-value = 0.45453362307563017.\n",
      "H0 - статзначимость есть среди события MainScreenAppear групп 247 и 248\n",
      "Не отклоняем нулевую, статистически значимых различий между долями пользователей нет.\n",
      "Доля пользователей из 247, которые прошли MainScreenAppear = 0.5539937037850502\n",
      "Доля пользователей из 248, которые прошли MainScreenAppear = 0.5549021266993851\n",
      "\n",
      "Для события OffersScreenAppear, p-value = 0.885074626949582.\n",
      "H0 - статзначимость есть среди события OffersScreenAppear групп 247 и 248\n",
      "Не отклоняем нулевую, статистически значимых различий между долями пользователей нет.\n",
      "Доля пользователей из 247, которые прошли OffersScreenAppear = 0.1979061424701662\n",
      "Доля пользователей из 248, которые прошли OffersScreenAppear = 0.19987871608281152\n",
      "\n",
      "Для события CartScreenAppear, p-value = 0.5396795929970241.\n",
      "H0 - статзначимость есть среди события CartScreenAppear групп 247 и 248\n",
      "Не отклоняем нулевую, статистически значимых различий между долями пользователей нет.\n",
      "Доля пользователей из 247, которые прошли CartScreenAppear = 0.13785782268101618\n",
      "Доля пользователей из 248, которые прошли CartScreenAppear = 0.13754442376036555\n",
      "\n",
      "Для события PaymentScreenSuccessful, p-value = 0.7800603242138476.\n",
      "H0 - статзначимость есть среди события PaymentScreenSuccessful групп 247 и 248\n",
      "Не отклоняем нулевую, статистически значимых различий между долями пользователей нет.\n",
      "Доля пользователей из 247, которые прошли PaymentScreenSuccessful = 0.10541035214876639\n",
      "Доля пользователей из 248, которые прошли PaymentScreenSuccessful = 0.10279517120776217\n",
      "\n"
     ]
    }
   ],
   "source": [
    "users_247 = df_copy[df_copy['group'] == 247]['device_id'].nunique()\n",
    "users_248 = df_copy[df_copy['group'] == 248]['device_id'].nunique()\n",
    "\n",
    "for event in df_copy['event'].unique():\n",
    "    event_users_247 = df_copy[(df_copy['group'] == 247) & (df_copy['event'] == event)]['device_id'].nunique()\n",
    "    event_users_248 = df_copy[(df_copy['group'] == 248) & (df_copy['event'] == event)]['device_id'].nunique()\n",
    "\n",
    "    stat, p = proportions_ztest([event_users_247, event_users_248], [users_247, users_248])\n",
    "\n",
    "    print(f\"Для события {event}, p-value = {p}.\")\n",
    "\n",
    "    print(f\"H0 - статзначимость есть среди события {event} групп 247 и 248\")\n",
    "    if p < alpha:\n",
    "        print('Отклоняем нулевую гепотезу, статистически значимые различия между долями пользователей есть')\n",
    "    else:\n",
    "        print('Не отклоняем нулевую, статистически значимых различий между долями пользователей нет.')\n",
    "    print(f'Доля пользователей из 247, которые прошли {event} =',(df_copy[(df_copy['group'] == 247)]['event'] == event).mean())\n",
    "    print(f'Доля пользователей из 248, которые прошли {event} =',(df_copy[(df_copy['group'] == 248)]['event'] == event).mean())\n",
    "    print()"
   ]
  },
  {
   "cell_type": "markdown",
   "metadata": {
    "id": "KQAiaiKJsN0B"
   },
   "source": [
    "# Вывод\n",
    "Между 247 и 248 нет статистически значимые различий"
   ]
  },
  {
   "cell_type": "code",
   "execution_count": 72,
   "metadata": {
    "id": "R7GsTG7usN0D",
    "outputId": "12361ff2-3210-4075-d303-8fafeff204ba"
   },
   "outputs": [
    {
     "name": "stdout",
     "output_type": "stream",
     "text": [
      "Для события Tutorial, p-value = 0.9110803298208449.\n",
      "H0 - статзначимость есть среди события Tutorial групп 247+246 и 248\n",
      "Не отклоняем нулевую, статистически значимых различий между долями пользователей нет.\n",
      "Доля пользователей из 246+247, которые прошли Tutorial = 0.004679198567502045\n",
      "Доля пользователей из 248, которые прошли Tutorial = 0.004879562249675636\n",
      "\n",
      "Для события MainScreenAppear, p-value = 0.26186402859555846.\n",
      "H0 - статзначимость есть среди события MainScreenAppear групп 247+246 и 248\n",
      "Не отклоняем нулевую, статистически значимых различий между долями пользователей нет.\n",
      "Доля пользователей из 246+247, которые прошли MainScreenAppear = 0.5446808197071632\n",
      "Доля пользователей из 248, которые прошли MainScreenAppear = 0.5549021266993851\n",
      "\n",
      "Для события OffersScreenAppear, p-value = 0.4280183471214126.\n",
      "H0 - статзначимость есть среди события OffersScreenAppear групп 247+246 и 248\n",
      "Не отклоняем нулевую, статистически значимых различий между долями пользователей нет.\n",
      "Доля пользователей из 246+247, которые прошли OffersScreenAppear = 0.197359016115602\n",
      "Доля пользователей из 248, которые прошли OffersScreenAppear = 0.19987871608281152\n",
      "\n",
      "Для события CartScreenAppear, p-value = 0.17619153820927536.\n",
      "H0 - статзначимость есть среди события CartScreenAppear групп 247+246 и 248\n",
      "Не отклоняем нулевую, статистически значимых различий между долями пользователей нет.\n",
      "Доля пользователей из 246+247, которые прошли CartScreenAppear = 0.14366981806391713\n",
      "Доля пользователей из 248, которые прошли CartScreenAppear = 0.13754442376036555\n",
      "\n",
      "Для события PaymentScreenSuccessful, p-value = 0.5908710902173983.\n",
      "H0 - статзначимость есть среди события PaymentScreenSuccessful групп 247+246 и 248\n",
      "Не отклоняем нулевую, статистически значимых различий между долями пользователей нет.\n",
      "Доля пользователей из 246+247, которые прошли PaymentScreenSuccessful = 0.10961114754581562\n",
      "Доля пользователей из 248, которые прошли PaymentScreenSuccessful = 0.10279517120776217\n",
      "\n"
     ]
    }
   ],
   "source": [
    "control_groups = df_copy[df_copy['group'].isin([246, 247])]\n",
    "group_248 = df_copy[df_copy['group'] == 248]\n",
    "\n",
    "control_group_users = control_groups['device_id'].nunique()\n",
    "users_248 = group_248['device_id'].nunique()\n",
    "\n",
    "for event in df_copy['event'].unique():\n",
    "    control_event_users = control_groups[control_groups['event'] == event]['device_id'].nunique()\n",
    "    event_users_248 = group_248[group_248['event'] == event]['device_id'].nunique()\n",
    "\n",
    "    stat, p = proportions_ztest([control_event_users, event_users_248], [control_group_users, users_248])\n",
    "\n",
    "    print(f\"Для события {event}, p-value = {p}.\")\n",
    "\n",
    "    print(f\"H0 - статзначимость есть среди события {event} групп 247+246 и 248\")\n",
    "    if p < alpha:\n",
    "        print('Отклоняем нулевую гепотезу, статистически значимые различия между долями пользователей есть')\n",
    "    else:\n",
    "        print('Не отклоняем нулевую, статистически значимых различий между долями пользователей нет.')\n",
    "    print(f'Доля пользователей из 246+247, которые прошли {event} =',(control_groups['event'] == event).mean())\n",
    "    print(f'Доля пользователей из 248, которые прошли {event} =',(group_248['event'] == event).mean())\n",
    "    print()"
   ]
  },
  {
   "cell_type": "markdown",
   "metadata": {
    "id": "9xpSJxmjsN0E"
   },
   "source": [
    "# Вывод\n",
    "На основании активности пользователей трёх групп можно сделать, можно сделать вывод, что эффективность конверсии группы 248 не имеет статзначимости во всех случаях при сравнении с группами 246 и 247"
   ]
  },
  {
   "cell_type": "markdown",
   "metadata": {
    "id": "g2Pv76bqsN0H"
   },
   "source": [
    "### Какой уровень значимости выбрал при проверке статистических гипотез выше? Посчитать, сколько проверок статистических гипотез вы сделали. При уровне значимости 0.1 каждый десятый раз можно получать ложный результат. Какой уровень значимости стоит применить?"
   ]
  },
  {
   "cell_type": "code",
   "execution_count": 73,
   "metadata": {
    "id": "XaenPWAbsN0J",
    "outputId": "952b4533-18fe-43c6-b2a9-30110660f460"
   },
   "outputs": [
    {
     "data": {
      "text/plain": [
       "0.0025"
      ]
     },
     "execution_count": 73,
     "metadata": {},
     "output_type": "execute_result"
    }
   ],
   "source": [
    "num_tests = len(df_copy['event'].unique()) * 4\n",
    "alpha = 0.05\n",
    "alpha_adjusted = alpha / num_tests\n",
    "alpha_adjusted"
   ]
  },
  {
   "cell_type": "code",
   "execution_count": 74,
   "metadata": {
    "id": "wa2Jo-3CsN0L",
    "outputId": "8cb55cd6-e109-40a1-94cc-05191b65c54b"
   },
   "outputs": [
    {
     "name": "stdout",
     "output_type": "stream",
     "text": [
      "Сравнение группы 248 с группой 246\n",
      "Для события Tutorial, p-value = 0.9650.\n",
      "Не получилось отклонить нулевую гипотезу, нет оснований считать группы разными\n",
      "Для события MainScreenAppear, p-value = 0.2438.\n",
      "Не получилось отклонить нулевую гипотезу, нет оснований считать группы разными\n",
      "Для события OffersScreenAppear, p-value = 0.2175.\n",
      "Не получилось отклонить нулевую гипотезу, нет оснований считать группы разными\n",
      "Для события CartScreenAppear, p-value = 0.0832.\n",
      "Не получилось отклонить нулевую гипотезу, нет оснований считать группы разными\n",
      "Для события PaymentScreenSuccessful, p-value = 0.2239.\n",
      "Не получилось отклонить нулевую гипотезу, нет оснований считать группы разными\n",
      "\n",
      "Сравнение группы 248 с группой 247\n",
      "Для события Tutorial, p-value = 0.8142.\n",
      "Не получилось отклонить нулевую гипотезу, нет оснований считать группы разными\n",
      "Для события MainScreenAppear, p-value = 0.4545.\n",
      "Не получилось отклонить нулевую гипотезу, нет оснований считать группы разными\n",
      "Для события OffersScreenAppear, p-value = 0.8851.\n",
      "Не получилось отклонить нулевую гипотезу, нет оснований считать группы разными\n",
      "Для события CartScreenAppear, p-value = 0.5397.\n",
      "Не получилось отклонить нулевую гипотезу, нет оснований считать группы разными\n",
      "Для события PaymentScreenSuccessful, p-value = 0.7801.\n",
      "Не получилось отклонить нулевую гипотезу, нет оснований считать группы разными\n",
      "\n",
      "Сравнение группы 248 с группой 246+247\n",
      "Для события Tutorial, p-value = 0.9111.\n",
      "Не получилось отклонить нулевую гипотезу, нет оснований считать группы разными\n",
      "Для события MainScreenAppear, p-value = 0.2619.\n",
      "Не получилось отклонить нулевую гипотезу, нет оснований считать группы разными\n",
      "Для события OffersScreenAppear, p-value = 0.4280.\n",
      "Не получилось отклонить нулевую гипотезу, нет оснований считать группы разными\n",
      "Для события CartScreenAppear, p-value = 0.1762.\n",
      "Не получилось отклонить нулевую гипотезу, нет оснований считать группы разными\n",
      "Для события PaymentScreenSuccessful, p-value = 0.5909.\n",
      "Не получилось отклонить нулевую гипотезу, нет оснований считать группы разными\n",
      "\n"
     ]
    }
   ],
   "source": [
    "num_tests = len(df_copy['event'].unique()) * 3\n",
    "alpha = 0.05\n",
    "alpha_adjusted = alpha / num_tests\n",
    "\n",
    "\n",
    "groups = [(group246, '246'), (group247, '247'), (control_groups, '246+247')]\n",
    "\n",
    "for group, group_name in groups:\n",
    "    print(f\"Сравнение группы 248 с группой {group_name}\")\n",
    "    for event in df_copy['event'].unique():\n",
    "        event_users_control = group[group['event'] == event]['device_id'].nunique()\n",
    "        event_users_248 = group248[group248['event'] == event]['device_id'].nunique()\n",
    "\n",
    "        total_users_control = group['device_id'].nunique()\n",
    "        total_users_248 = group248['device_id'].nunique()\n",
    "\n",
    "        stat, p = proportions_ztest([event_users_control, event_users_248], [total_users_control, total_users_248])\n",
    "\n",
    "        print(f\"Для события {event}, p-value = {p:.4f}.\")\n",
    "        if p < alpha_adjusted:\n",
    "            print('Отклоняем нулевую гипотезу: между группами есть статистически значимые различия')\n",
    "        else:\n",
    "            print('Не получилось отклонить нулевую гипотезу, нет оснований считать группы разными')\n",
    "    print()\n"
   ]
  },
  {
   "cell_type": "markdown",
   "metadata": {
    "id": "UR9_KDbwsN0M"
   },
   "source": [
    "# Вывод\n",
    "Я использовал уровень статзначимости = 0,05. Однако было проведено 20 тестов - это значит, что при вероятность получения хотя бы одного ложного положительного результата увеличивается. Поэтому я уменьшил уровень в 20 раз, но результаты не изменились."
   ]
  },
  {
   "cell_type": "markdown",
   "metadata": {
    "id": "S746o67HsN0N"
   },
   "source": [
    "# Общий вывод\n",
    "По итогу исследования, можно сказать, что эффекта от смены шрифта нет."
   ]
  }
 ],
 "metadata": {
  "ExecuteTimeLog": [
   {
    "duration": 45,
    "start_time": "2023-05-25T21:14:34.669Z"
   },
   {
    "duration": 407,
    "start_time": "2023-05-25T21:14:38.753Z"
   },
   {
    "duration": 648,
    "start_time": "2023-05-25T21:14:51.274Z"
   },
   {
    "duration": 16,
    "start_time": "2023-05-25T21:14:52.891Z"
   },
   {
    "duration": 237,
    "start_time": "2023-05-25T21:15:04.835Z"
   },
   {
    "duration": 313,
    "start_time": "2023-05-25T21:16:32.437Z"
   },
   {
    "duration": 8,
    "start_time": "2023-05-25T21:16:33.816Z"
   },
   {
    "duration": 352,
    "start_time": "2023-05-25T21:16:38.202Z"
   },
   {
    "duration": 8,
    "start_time": "2023-05-25T21:16:39.165Z"
   },
   {
    "duration": 1092,
    "start_time": "2023-05-25T21:16:50.493Z"
   },
   {
    "duration": 11,
    "start_time": "2023-05-25T21:16:51.756Z"
   },
   {
    "duration": 167,
    "start_time": "2023-05-25T21:17:01.789Z"
   },
   {
    "duration": 11,
    "start_time": "2023-05-25T21:17:02.463Z"
   },
   {
    "duration": 4,
    "start_time": "2023-05-25T21:18:13.282Z"
   },
   {
    "duration": 14,
    "start_time": "2023-05-25T21:18:23.411Z"
   },
   {
    "duration": 3,
    "start_time": "2023-05-25T21:23:04.695Z"
   },
   {
    "duration": 8,
    "start_time": "2023-05-25T21:23:09.403Z"
   },
   {
    "duration": 160,
    "start_time": "2023-05-25T21:23:13.640Z"
   },
   {
    "duration": 7,
    "start_time": "2023-05-25T21:23:13.804Z"
   },
   {
    "duration": 3,
    "start_time": "2023-05-25T21:23:15.441Z"
   },
   {
    "duration": 15,
    "start_time": "2023-05-25T21:23:28.894Z"
   },
   {
    "duration": 4,
    "start_time": "2023-05-25T21:23:58.417Z"
   },
   {
    "duration": 15,
    "start_time": "2023-05-25T21:24:00.083Z"
   },
   {
    "duration": 48,
    "start_time": "2023-05-25T21:24:26.439Z"
   },
   {
    "duration": 5,
    "start_time": "2023-05-25T21:26:40.138Z"
   },
   {
    "duration": 34,
    "start_time": "2023-05-25T21:26:45.823Z"
   },
   {
    "duration": 10,
    "start_time": "2023-05-25T21:26:51.367Z"
   },
   {
    "duration": 6,
    "start_time": "2023-05-25T21:28:26.083Z"
   },
   {
    "duration": 9,
    "start_time": "2023-05-25T21:29:28.964Z"
   },
   {
    "duration": 9,
    "start_time": "2023-05-25T21:30:16.775Z"
   },
   {
    "duration": 16,
    "start_time": "2023-05-25T21:30:28.439Z"
   },
   {
    "duration": 31,
    "start_time": "2023-05-25T21:31:51.770Z"
   },
   {
    "duration": 17,
    "start_time": "2023-05-25T21:32:10.867Z"
   },
   {
    "duration": 9,
    "start_time": "2023-05-25T21:32:37.675Z"
   },
   {
    "duration": 61,
    "start_time": "2023-05-25T21:32:42.985Z"
   },
   {
    "duration": 46,
    "start_time": "2023-05-25T21:32:47.994Z"
   },
   {
    "duration": 54,
    "start_time": "2023-05-25T21:32:59.484Z"
   },
   {
    "duration": 10,
    "start_time": "2023-05-25T21:34:41.856Z"
   },
   {
    "duration": 8,
    "start_time": "2023-05-25T21:34:51.456Z"
   },
   {
    "duration": 70,
    "start_time": "2023-05-25T21:35:01.098Z"
   },
   {
    "duration": 60,
    "start_time": "2023-05-25T21:36:11.172Z"
   },
   {
    "duration": 66,
    "start_time": "2023-05-25T21:36:15.340Z"
   },
   {
    "duration": 61,
    "start_time": "2023-05-25T21:36:33.975Z"
   },
   {
    "duration": 14,
    "start_time": "2023-05-25T21:36:48.305Z"
   },
   {
    "duration": 13,
    "start_time": "2023-05-25T21:49:19.051Z"
   },
   {
    "duration": 8,
    "start_time": "2023-05-25T21:51:06.095Z"
   },
   {
    "duration": 9,
    "start_time": "2023-05-25T21:51:35.573Z"
   },
   {
    "duration": 67,
    "start_time": "2023-05-25T21:51:39.838Z"
   },
   {
    "duration": 81,
    "start_time": "2023-05-25T21:52:06.577Z"
   },
   {
    "duration": 67,
    "start_time": "2023-05-25T21:52:13.623Z"
   },
   {
    "duration": 8,
    "start_time": "2023-05-25T21:52:19.006Z"
   },
   {
    "duration": 8,
    "start_time": "2023-05-25T21:53:15.061Z"
   },
   {
    "duration": 10,
    "start_time": "2023-05-25T21:56:17.610Z"
   },
   {
    "duration": 112,
    "start_time": "2023-05-25T21:57:13.977Z"
   },
   {
    "duration": 69,
    "start_time": "2023-05-25T21:57:26.461Z"
   },
   {
    "duration": 9,
    "start_time": "2023-05-25T21:57:34.790Z"
   },
   {
    "duration": 3,
    "start_time": "2023-05-26T08:21:16.394Z"
   },
   {
    "duration": 187,
    "start_time": "2023-05-26T08:21:17.268Z"
   },
   {
    "duration": 13,
    "start_time": "2023-05-26T08:21:20.036Z"
   },
   {
    "duration": 3,
    "start_time": "2023-05-26T08:21:22.711Z"
   },
   {
    "duration": 35,
    "start_time": "2023-05-26T08:21:23.436Z"
   },
   {
    "duration": 18,
    "start_time": "2023-05-26T08:21:24.499Z"
   },
   {
    "duration": 8,
    "start_time": "2023-05-26T08:21:25.675Z"
   },
   {
    "duration": 10,
    "start_time": "2023-05-26T08:21:26.199Z"
   },
   {
    "duration": 89,
    "start_time": "2023-05-26T08:21:27.668Z"
   },
   {
    "duration": 82,
    "start_time": "2023-05-26T08:21:28.007Z"
   },
   {
    "duration": 10,
    "start_time": "2023-05-26T08:21:28.565Z"
   },
   {
    "duration": 86,
    "start_time": "2023-05-26T08:21:29.708Z"
   },
   {
    "duration": 10,
    "start_time": "2023-05-26T08:21:30.789Z"
   },
   {
    "duration": 10,
    "start_time": "2023-05-26T08:23:28.127Z"
   },
   {
    "duration": 15,
    "start_time": "2023-05-26T08:23:41.458Z"
   },
   {
    "duration": 56,
    "start_time": "2023-05-26T08:23:44.199Z"
   },
   {
    "duration": 26,
    "start_time": "2023-05-26T08:24:11.374Z"
   },
   {
    "duration": 89,
    "start_time": "2023-05-26T08:24:56.213Z"
   },
   {
    "duration": 4,
    "start_time": "2023-05-26T08:25:00.120Z"
   },
   {
    "duration": 9,
    "start_time": "2023-05-26T08:27:40.213Z"
   },
   {
    "duration": 10,
    "start_time": "2023-05-26T08:29:41.388Z"
   },
   {
    "duration": 7,
    "start_time": "2023-05-26T08:29:53.610Z"
   },
   {
    "duration": 12,
    "start_time": "2023-05-26T08:30:02.046Z"
   },
   {
    "duration": 334,
    "start_time": "2023-05-26T08:31:44.132Z"
   },
   {
    "duration": 261,
    "start_time": "2023-05-26T08:32:09.073Z"
   },
   {
    "duration": 322,
    "start_time": "2023-05-26T08:32:13.823Z"
   },
   {
    "duration": 595,
    "start_time": "2023-05-26T08:32:30.126Z"
   },
   {
    "duration": 1196,
    "start_time": "2023-05-26T08:32:57.709Z"
   },
   {
    "duration": 1231,
    "start_time": "2023-05-26T08:33:28.338Z"
   },
   {
    "duration": 517,
    "start_time": "2023-05-26T08:34:21.903Z"
   },
   {
    "duration": 18,
    "start_time": "2023-05-26T08:34:54.612Z"
   },
   {
    "duration": 8,
    "start_time": "2023-05-26T08:35:53.989Z"
   },
   {
    "duration": 96,
    "start_time": "2023-05-26T08:36:17.910Z"
   },
   {
    "duration": 81,
    "start_time": "2023-05-26T08:36:29.201Z"
   },
   {
    "duration": 232,
    "start_time": "2023-05-26T08:36:37.481Z"
   },
   {
    "duration": 229,
    "start_time": "2023-05-26T08:36:45.275Z"
   },
   {
    "duration": 56,
    "start_time": "2023-05-26T08:37:07.397Z"
   },
   {
    "duration": 61,
    "start_time": "2023-05-26T08:37:13.994Z"
   },
   {
    "duration": 224,
    "start_time": "2023-05-26T08:37:18.843Z"
   },
   {
    "duration": 75,
    "start_time": "2023-05-26T08:37:24.419Z"
   },
   {
    "duration": 61,
    "start_time": "2023-05-26T10:56:42.056Z"
   },
   {
    "duration": 370,
    "start_time": "2023-05-26T10:56:57.114Z"
   },
   {
    "duration": 153,
    "start_time": "2023-05-26T10:57:10.858Z"
   },
   {
    "duration": 142,
    "start_time": "2023-05-26T10:57:46.433Z"
   },
   {
    "duration": 5,
    "start_time": "2023-05-26T10:58:42.610Z"
   },
   {
    "duration": 7,
    "start_time": "2023-05-26T10:58:51.527Z"
   },
   {
    "duration": 171,
    "start_time": "2023-05-26T10:58:56.486Z"
   },
   {
    "duration": 159,
    "start_time": "2023-05-26T10:59:27.359Z"
   },
   {
    "duration": 195,
    "start_time": "2023-05-26T10:59:42.006Z"
   },
   {
    "duration": 223,
    "start_time": "2023-05-26T11:00:00.295Z"
   },
   {
    "duration": 192,
    "start_time": "2023-05-26T11:00:20.606Z"
   },
   {
    "duration": 228,
    "start_time": "2023-05-26T11:00:23.805Z"
   },
   {
    "duration": 16,
    "start_time": "2023-05-26T11:11:40.180Z"
   },
   {
    "duration": 309,
    "start_time": "2023-05-26T11:12:15.761Z"
   },
   {
    "duration": 527,
    "start_time": "2023-05-26T11:13:08.609Z"
   },
   {
    "duration": 478,
    "start_time": "2023-05-26T11:13:19.095Z"
   },
   {
    "duration": 338,
    "start_time": "2023-05-26T11:15:21.574Z"
   },
   {
    "duration": 59,
    "start_time": "2023-05-26T11:18:06.797Z"
   },
   {
    "duration": 14,
    "start_time": "2023-05-26T11:18:11.519Z"
   },
   {
    "duration": 62,
    "start_time": "2023-05-26T11:18:24.601Z"
   },
   {
    "duration": 11,
    "start_time": "2023-05-26T11:18:25.407Z"
   },
   {
    "duration": 5,
    "start_time": "2023-05-26T11:19:59.625Z"
   },
   {
    "duration": 571,
    "start_time": "2023-05-26T11:20:11.314Z"
   },
   {
    "duration": 452,
    "start_time": "2023-05-26T11:20:25.190Z"
   },
   {
    "duration": 5,
    "start_time": "2023-05-26T11:20:43.724Z"
   },
   {
    "duration": 518,
    "start_time": "2023-05-26T11:20:56.233Z"
   },
   {
    "duration": 81,
    "start_time": "2023-05-26T11:21:35.675Z"
   },
   {
    "duration": 428,
    "start_time": "2023-05-26T11:21:40.853Z"
   },
   {
    "duration": 435,
    "start_time": "2023-05-26T11:21:47.384Z"
   },
   {
    "duration": 414,
    "start_time": "2023-05-26T11:21:54.231Z"
   },
   {
    "duration": 11,
    "start_time": "2023-05-26T11:22:46.565Z"
   },
   {
    "duration": 678,
    "start_time": "2023-05-26T11:25:26.025Z"
   },
   {
    "duration": 820,
    "start_time": "2023-05-26T11:25:34.306Z"
   },
   {
    "duration": 11,
    "start_time": "2023-05-26T11:26:23.137Z"
   },
   {
    "duration": 4,
    "start_time": "2023-05-26T11:26:34.597Z"
   },
   {
    "duration": 9,
    "start_time": "2023-05-26T11:26:51.778Z"
   },
   {
    "duration": 702,
    "start_time": "2023-05-26T11:26:58.155Z"
   },
   {
    "duration": 10,
    "start_time": "2023-05-26T11:27:16.277Z"
   },
   {
    "duration": 6,
    "start_time": "2023-05-26T11:27:53.976Z"
   },
   {
    "duration": 6,
    "start_time": "2023-05-26T11:29:08.045Z"
   },
   {
    "duration": 734,
    "start_time": "2023-05-26T11:29:19.223Z"
   },
   {
    "duration": 892,
    "start_time": "2023-05-26T11:29:36.067Z"
   },
   {
    "duration": 1104,
    "start_time": "2023-05-26T11:31:23.003Z"
   },
   {
    "duration": 1125,
    "start_time": "2023-05-26T11:31:27.593Z"
   },
   {
    "duration": 1322,
    "start_time": "2023-05-26T11:31:43.915Z"
   },
   {
    "duration": 1210,
    "start_time": "2023-05-26T11:32:28.939Z"
   },
   {
    "duration": 1086,
    "start_time": "2023-05-26T11:32:44.362Z"
   },
   {
    "duration": 12,
    "start_time": "2023-05-26T11:37:45.237Z"
   },
   {
    "duration": 17,
    "start_time": "2023-05-26T11:37:49.329Z"
   },
   {
    "duration": 302,
    "start_time": "2023-05-26T11:38:56.385Z"
   },
   {
    "duration": 8,
    "start_time": "2023-05-26T11:39:30.983Z"
   },
   {
    "duration": 11,
    "start_time": "2023-05-26T11:39:35.518Z"
   },
   {
    "duration": 9,
    "start_time": "2023-05-26T11:39:42.573Z"
   },
   {
    "duration": 36,
    "start_time": "2023-05-26T11:41:53.867Z"
   },
   {
    "duration": 17,
    "start_time": "2023-05-26T11:41:59.262Z"
   },
   {
    "duration": 6,
    "start_time": "2023-05-26T11:42:17.856Z"
   },
   {
    "duration": 4,
    "start_time": "2023-05-26T11:42:24.935Z"
   },
   {
    "duration": 19,
    "start_time": "2023-05-26T11:43:05.605Z"
   },
   {
    "duration": 554,
    "start_time": "2023-05-26T11:44:12.276Z"
   },
   {
    "duration": 16,
    "start_time": "2023-05-26T11:44:47.280Z"
   },
   {
    "duration": 14,
    "start_time": "2023-05-26T11:47:34.041Z"
   },
   {
    "duration": 15,
    "start_time": "2023-05-26T11:48:05.297Z"
   },
   {
    "duration": 13,
    "start_time": "2023-05-26T11:48:45.706Z"
   },
   {
    "duration": 14,
    "start_time": "2023-05-26T11:49:05.514Z"
   },
   {
    "duration": 14,
    "start_time": "2023-05-26T11:49:23.050Z"
   },
   {
    "duration": 107,
    "start_time": "2023-05-26T11:49:44.956Z"
   },
   {
    "duration": 12,
    "start_time": "2023-05-26T11:49:52.061Z"
   },
   {
    "duration": 11,
    "start_time": "2023-05-26T11:49:57.865Z"
   },
   {
    "duration": 15,
    "start_time": "2023-05-26T11:50:01.301Z"
   },
   {
    "duration": 7,
    "start_time": "2023-05-26T12:01:06.600Z"
   },
   {
    "duration": 9,
    "start_time": "2023-05-26T12:03:40.892Z"
   },
   {
    "duration": 12,
    "start_time": "2023-05-26T12:03:51.937Z"
   },
   {
    "duration": 9,
    "start_time": "2023-05-26T12:04:13.112Z"
   },
   {
    "duration": 3,
    "start_time": "2023-05-26T12:04:36.981Z"
   },
   {
    "duration": 7,
    "start_time": "2023-05-26T12:04:43.332Z"
   },
   {
    "duration": 4,
    "start_time": "2023-05-26T12:05:36.678Z"
   },
   {
    "duration": 7,
    "start_time": "2023-05-26T12:05:48.175Z"
   },
   {
    "duration": 4,
    "start_time": "2023-05-26T12:06:03.644Z"
   },
   {
    "duration": 7,
    "start_time": "2023-05-26T12:06:04.576Z"
   },
   {
    "duration": 8,
    "start_time": "2023-05-26T12:06:26.886Z"
   },
   {
    "duration": 4,
    "start_time": "2023-05-26T12:06:40.033Z"
   },
   {
    "duration": 5,
    "start_time": "2023-05-26T12:06:52.887Z"
   },
   {
    "duration": 9,
    "start_time": "2023-05-26T12:07:31.327Z"
   },
   {
    "duration": 10,
    "start_time": "2023-05-26T12:07:34.476Z"
   },
   {
    "duration": 10,
    "start_time": "2023-05-26T12:07:52.594Z"
   },
   {
    "duration": 10,
    "start_time": "2023-05-26T12:08:02.729Z"
   },
   {
    "duration": 20,
    "start_time": "2023-05-26T12:08:12.293Z"
   },
   {
    "duration": 22,
    "start_time": "2023-05-26T12:15:23.608Z"
   },
   {
    "duration": 28,
    "start_time": "2023-05-26T12:15:31.575Z"
   },
   {
    "duration": 25,
    "start_time": "2023-05-26T12:16:08.198Z"
   },
   {
    "duration": 26,
    "start_time": "2023-05-26T14:11:59.619Z"
   },
   {
    "duration": 6,
    "start_time": "2023-05-26T14:12:56.866Z"
   },
   {
    "duration": 9,
    "start_time": "2023-05-26T14:13:00.660Z"
   },
   {
    "duration": 6,
    "start_time": "2023-05-26T14:13:22.677Z"
   },
   {
    "duration": 8,
    "start_time": "2023-05-26T14:13:23.160Z"
   },
   {
    "duration": 11,
    "start_time": "2023-05-26T14:13:49.294Z"
   },
   {
    "duration": 8,
    "start_time": "2023-05-26T14:14:14.764Z"
   },
   {
    "duration": 4,
    "start_time": "2023-05-26T14:14:40.493Z"
   },
   {
    "duration": 8,
    "start_time": "2023-05-26T14:14:43.787Z"
   },
   {
    "duration": 11,
    "start_time": "2023-05-26T14:15:32.097Z"
   },
   {
    "duration": 12,
    "start_time": "2023-05-26T14:15:37.088Z"
   },
   {
    "duration": 6,
    "start_time": "2023-05-26T14:15:40.847Z"
   },
   {
    "duration": 8,
    "start_time": "2023-05-26T14:15:44.872Z"
   },
   {
    "duration": 4,
    "start_time": "2023-05-26T14:16:36.445Z"
   },
   {
    "duration": 9,
    "start_time": "2023-05-26T14:18:15.148Z"
   },
   {
    "duration": 4,
    "start_time": "2023-05-26T14:18:31.117Z"
   },
   {
    "duration": 7,
    "start_time": "2023-05-26T14:19:36.547Z"
   },
   {
    "duration": 9,
    "start_time": "2023-05-26T14:19:41.651Z"
   },
   {
    "duration": 6,
    "start_time": "2023-05-26T14:20:58.690Z"
   },
   {
    "duration": 11,
    "start_time": "2023-05-26T14:21:02.281Z"
   },
   {
    "duration": 6,
    "start_time": "2023-05-26T14:21:28.158Z"
   },
   {
    "duration": 10,
    "start_time": "2023-05-26T14:21:31.210Z"
   },
   {
    "duration": 6,
    "start_time": "2023-05-26T14:21:55.010Z"
   },
   {
    "duration": 7,
    "start_time": "2023-05-26T14:21:55.949Z"
   },
   {
    "duration": 11,
    "start_time": "2023-05-26T14:21:56.760Z"
   },
   {
    "duration": 3,
    "start_time": "2023-05-26T16:27:12.014Z"
   },
   {
    "duration": 255,
    "start_time": "2023-05-26T16:27:12.021Z"
   },
   {
    "duration": 10,
    "start_time": "2023-05-26T16:27:12.278Z"
   },
   {
    "duration": 33,
    "start_time": "2023-05-26T16:27:12.292Z"
   },
   {
    "duration": 36,
    "start_time": "2023-05-26T16:27:12.327Z"
   },
   {
    "duration": 32,
    "start_time": "2023-05-26T16:27:12.365Z"
   },
   {
    "duration": 38,
    "start_time": "2023-05-26T16:27:12.400Z"
   },
   {
    "duration": 101,
    "start_time": "2023-05-26T16:27:12.442Z"
   },
   {
    "duration": 120,
    "start_time": "2023-05-26T16:27:12.546Z"
   },
   {
    "duration": 75,
    "start_time": "2023-05-26T16:27:12.668Z"
   },
   {
    "duration": 11,
    "start_time": "2023-05-26T16:27:12.745Z"
   },
   {
    "duration": 94,
    "start_time": "2023-05-26T16:27:12.759Z"
   },
   {
    "duration": 13,
    "start_time": "2023-05-26T16:27:12.856Z"
   },
   {
    "duration": 43,
    "start_time": "2023-05-26T16:27:12.872Z"
   },
   {
    "duration": 4,
    "start_time": "2023-05-26T16:27:12.917Z"
   },
   {
    "duration": 25,
    "start_time": "2023-05-26T16:27:12.923Z"
   },
   {
    "duration": 9,
    "start_time": "2023-05-26T16:27:12.951Z"
   },
   {
    "duration": 1899,
    "start_time": "2023-05-26T16:27:12.962Z"
   },
   {
    "duration": 82,
    "start_time": "2023-05-26T16:27:14.863Z"
   },
   {
    "duration": 5,
    "start_time": "2023-05-26T16:27:14.948Z"
   },
   {
    "duration": 139,
    "start_time": "2023-05-26T16:27:14.955Z"
   },
   {
    "duration": 7,
    "start_time": "2023-05-26T16:27:15.096Z"
   },
   {
    "duration": 1178,
    "start_time": "2023-05-26T16:27:15.105Z"
   },
   {
    "duration": 7,
    "start_time": "2023-05-26T16:27:16.286Z"
   },
   {
    "duration": 43,
    "start_time": "2023-05-26T16:27:16.295Z"
   },
   {
    "duration": 12,
    "start_time": "2023-05-26T16:27:16.342Z"
   },
   {
    "duration": 6,
    "start_time": "2023-05-26T16:27:16.356Z"
   },
   {
    "duration": 12,
    "start_time": "2023-05-26T16:27:16.363Z"
   },
   {
    "duration": 4,
    "start_time": "2023-05-26T16:27:16.376Z"
   },
   {
    "duration": 10,
    "start_time": "2023-05-26T16:27:16.382Z"
   },
   {
    "duration": 14,
    "start_time": "2023-05-26T16:27:16.394Z"
   },
   {
    "duration": 35,
    "start_time": "2023-05-26T16:27:16.409Z"
   },
   {
    "duration": 8,
    "start_time": "2023-05-26T16:27:16.447Z"
   },
   {
    "duration": 22,
    "start_time": "2023-05-26T16:27:16.457Z"
   },
   {
    "duration": 26,
    "start_time": "2023-05-26T16:27:16.480Z"
   },
   {
    "duration": 7,
    "start_time": "2023-05-26T16:27:16.508Z"
   },
   {
    "duration": 4,
    "start_time": "2023-05-26T16:27:16.542Z"
   },
   {
    "duration": 14,
    "start_time": "2023-05-26T16:27:16.548Z"
   },
   {
    "duration": 9,
    "start_time": "2023-05-26T16:27:16.564Z"
   },
   {
    "duration": 12,
    "start_time": "2023-05-26T16:27:16.574Z"
   },
   {
    "duration": 7,
    "start_time": "2023-05-26T16:27:16.587Z"
   },
   {
    "duration": 12,
    "start_time": "2023-05-26T16:27:16.596Z"
   },
   {
    "duration": 31,
    "start_time": "2023-05-26T17:05:19.829Z"
   },
   {
    "duration": 56,
    "start_time": "2023-05-26T17:14:44.229Z"
   },
   {
    "duration": 47,
    "start_time": "2023-05-26T17:17:08.986Z"
   },
   {
    "duration": 7,
    "start_time": "2023-05-26T17:17:53.231Z"
   },
   {
    "duration": 15,
    "start_time": "2023-05-26T17:18:43.436Z"
   },
   {
    "duration": 9,
    "start_time": "2023-05-26T17:19:07.308Z"
   },
   {
    "duration": 3,
    "start_time": "2023-05-26T17:19:35.307Z"
   },
   {
    "duration": 4,
    "start_time": "2023-05-26T17:19:36.376Z"
   },
   {
    "duration": 10,
    "start_time": "2023-05-26T17:19:51.575Z"
   },
   {
    "duration": 11,
    "start_time": "2023-05-26T17:20:18.018Z"
   },
   {
    "duration": 51,
    "start_time": "2023-05-26T17:20:49.969Z"
   },
   {
    "duration": 9,
    "start_time": "2023-05-26T17:20:50.378Z"
   },
   {
    "duration": 3,
    "start_time": "2023-05-26T17:20:50.789Z"
   },
   {
    "duration": 10,
    "start_time": "2023-05-26T17:20:51.325Z"
   },
   {
    "duration": 48,
    "start_time": "2023-05-26T17:21:54.686Z"
   },
   {
    "duration": 6,
    "start_time": "2023-05-26T17:21:55.006Z"
   },
   {
    "duration": 4,
    "start_time": "2023-05-26T17:21:56.094Z"
   },
   {
    "duration": 9,
    "start_time": "2023-05-26T17:21:56.654Z"
   },
   {
    "duration": 9,
    "start_time": "2023-05-26T17:23:56.229Z"
   },
   {
    "duration": 8,
    "start_time": "2023-05-26T17:24:01.858Z"
   },
   {
    "duration": 8,
    "start_time": "2023-05-26T18:22:23.691Z"
   },
   {
    "duration": 8,
    "start_time": "2023-05-26T18:22:26.569Z"
   },
   {
    "duration": 7,
    "start_time": "2023-05-26T18:22:38.740Z"
   },
   {
    "duration": 8,
    "start_time": "2023-05-26T18:22:40.685Z"
   },
   {
    "duration": 8,
    "start_time": "2023-05-26T18:23:13.288Z"
   },
   {
    "duration": 7,
    "start_time": "2023-05-26T18:25:16.988Z"
   },
   {
    "duration": 8,
    "start_time": "2023-05-26T18:27:41.192Z"
   },
   {
    "duration": 9,
    "start_time": "2023-05-26T18:31:43.736Z"
   },
   {
    "duration": 9,
    "start_time": "2023-05-26T18:32:22.125Z"
   },
   {
    "duration": 11,
    "start_time": "2023-05-26T18:37:40.044Z"
   },
   {
    "duration": 31,
    "start_time": "2023-05-26T18:39:59.319Z"
   },
   {
    "duration": 34,
    "start_time": "2023-05-26T18:40:13.228Z"
   },
   {
    "duration": 8,
    "start_time": "2023-05-26T18:43:36.886Z"
   },
   {
    "duration": 13,
    "start_time": "2023-05-26T18:44:54.812Z"
   },
   {
    "duration": 14,
    "start_time": "2023-05-26T18:45:00.410Z"
   },
   {
    "duration": 23,
    "start_time": "2023-05-26T18:45:16.898Z"
   },
   {
    "duration": 10,
    "start_time": "2023-05-26T18:45:30.990Z"
   },
   {
    "duration": 17,
    "start_time": "2023-05-26T18:46:33.393Z"
   },
   {
    "duration": 14,
    "start_time": "2023-05-26T18:46:37.190Z"
   },
   {
    "duration": 1084,
    "start_time": "2023-05-27T10:04:45.752Z"
   },
   {
    "duration": 1056,
    "start_time": "2023-05-27T10:04:46.839Z"
   },
   {
    "duration": 14,
    "start_time": "2023-05-27T10:04:47.897Z"
   },
   {
    "duration": 3,
    "start_time": "2023-05-27T10:04:47.913Z"
   },
   {
    "duration": 21,
    "start_time": "2023-05-27T10:04:47.918Z"
   },
   {
    "duration": 23,
    "start_time": "2023-05-27T10:04:47.941Z"
   },
   {
    "duration": 18,
    "start_time": "2023-05-27T10:04:47.966Z"
   },
   {
    "duration": 11,
    "start_time": "2023-05-27T10:04:47.985Z"
   },
   {
    "duration": 112,
    "start_time": "2023-05-27T10:04:47.999Z"
   },
   {
    "duration": 81,
    "start_time": "2023-05-27T10:04:48.113Z"
   },
   {
    "duration": 14,
    "start_time": "2023-05-27T10:04:48.200Z"
   },
   {
    "duration": 106,
    "start_time": "2023-05-27T10:04:48.216Z"
   },
   {
    "duration": 9,
    "start_time": "2023-05-27T10:04:48.324Z"
   },
   {
    "duration": 55,
    "start_time": "2023-05-27T10:04:48.338Z"
   },
   {
    "duration": 4,
    "start_time": "2023-05-27T10:04:48.394Z"
   },
   {
    "duration": 22,
    "start_time": "2023-05-27T10:04:48.400Z"
   },
   {
    "duration": 8,
    "start_time": "2023-05-27T10:04:48.423Z"
   },
   {
    "duration": 1317,
    "start_time": "2023-05-27T10:04:48.432Z"
   },
   {
    "duration": 116,
    "start_time": "2023-05-27T10:04:49.751Z"
   },
   {
    "duration": 11,
    "start_time": "2023-05-27T10:04:49.871Z"
   },
   {
    "duration": 65,
    "start_time": "2023-05-27T10:04:49.884Z"
   },
   {
    "duration": 7,
    "start_time": "2023-05-27T10:04:49.951Z"
   },
   {
    "duration": 1369,
    "start_time": "2023-05-27T10:04:49.960Z"
   },
   {
    "duration": 14,
    "start_time": "2023-05-27T10:04:51.332Z"
   },
   {
    "duration": 75,
    "start_time": "2023-05-27T10:04:51.348Z"
   },
   {
    "duration": 11,
    "start_time": "2023-05-27T10:04:51.425Z"
   },
   {
    "duration": 12,
    "start_time": "2023-05-27T10:04:51.438Z"
   },
   {
    "duration": 20,
    "start_time": "2023-05-27T10:04:51.452Z"
   },
   {
    "duration": 6,
    "start_time": "2023-05-27T10:04:51.479Z"
   },
   {
    "duration": 20,
    "start_time": "2023-05-27T10:04:51.487Z"
   },
   {
    "duration": 18,
    "start_time": "2023-05-27T10:04:51.511Z"
   },
   {
    "duration": 3,
    "start_time": "2023-05-27T10:04:51.531Z"
   },
   {
    "duration": 26,
    "start_time": "2023-05-27T10:04:51.536Z"
   },
   {
    "duration": 26,
    "start_time": "2023-05-27T10:04:51.564Z"
   },
   {
    "duration": 26,
    "start_time": "2023-05-27T10:04:51.591Z"
   },
   {
    "duration": 7,
    "start_time": "2023-05-27T10:04:51.619Z"
   },
   {
    "duration": 21,
    "start_time": "2023-05-27T10:04:51.627Z"
   },
   {
    "duration": 27,
    "start_time": "2023-05-27T10:04:51.651Z"
   },
   {
    "duration": 16,
    "start_time": "2023-05-27T10:04:51.684Z"
   },
   {
    "duration": 20,
    "start_time": "2023-05-27T10:04:51.702Z"
   },
   {
    "duration": 12,
    "start_time": "2023-05-27T10:04:51.727Z"
   },
   {
    "duration": 84,
    "start_time": "2023-05-27T10:04:51.741Z"
   },
   {
    "duration": 6,
    "start_time": "2023-05-27T10:04:51.827Z"
   },
   {
    "duration": 36,
    "start_time": "2023-05-27T10:04:51.835Z"
   },
   {
    "duration": 18,
    "start_time": "2023-05-27T10:04:51.873Z"
   },
   {
    "duration": 22,
    "start_time": "2023-05-27T10:04:51.893Z"
   },
   {
    "duration": 49,
    "start_time": "2023-05-27T10:04:51.917Z"
   },
   {
    "duration": 23,
    "start_time": "2023-05-27T10:04:51.967Z"
   },
   {
    "duration": 24,
    "start_time": "2023-05-27T10:04:51.993Z"
   },
   {
    "duration": 21,
    "start_time": "2023-05-27T10:05:15.318Z"
   },
   {
    "duration": 8,
    "start_time": "2023-05-27T10:10:44.813Z"
   },
   {
    "duration": 14,
    "start_time": "2023-05-27T10:10:49.616Z"
   },
   {
    "duration": 5,
    "start_time": "2023-05-27T10:11:01.800Z"
   },
   {
    "duration": 12,
    "start_time": "2023-05-27T10:13:07.152Z"
   },
   {
    "duration": 4,
    "start_time": "2023-05-27T10:13:08.584Z"
   },
   {
    "duration": 75,
    "start_time": "2023-05-27T10:13:37.027Z"
   },
   {
    "duration": 27,
    "start_time": "2023-05-27T10:13:40.685Z"
   },
   {
    "duration": 30,
    "start_time": "2023-05-27T10:13:44.249Z"
   },
   {
    "duration": 21,
    "start_time": "2023-05-27T10:13:44.998Z"
   },
   {
    "duration": 9,
    "start_time": "2023-05-27T10:13:45.808Z"
   },
   {
    "duration": 30,
    "start_time": "2023-05-27T10:13:47.596Z"
   },
   {
    "duration": 28,
    "start_time": "2023-05-27T10:13:58.054Z"
   },
   {
    "duration": 8,
    "start_time": "2023-05-27T10:14:12.817Z"
   },
   {
    "duration": 28,
    "start_time": "2023-05-27T10:14:13.953Z"
   },
   {
    "duration": 7,
    "start_time": "2023-05-27T10:14:19.199Z"
   },
   {
    "duration": 14,
    "start_time": "2023-05-27T10:14:20.407Z"
   },
   {
    "duration": 5,
    "start_time": "2023-05-27T10:14:31.148Z"
   },
   {
    "duration": 16,
    "start_time": "2023-05-27T10:15:07.590Z"
   },
   {
    "duration": 10,
    "start_time": "2023-05-27T10:15:51.452Z"
   },
   {
    "duration": 1044,
    "start_time": "2023-05-27T10:16:41.699Z"
   },
   {
    "duration": 108,
    "start_time": "2023-05-27T10:17:15.635Z"
   },
   {
    "duration": 7,
    "start_time": "2023-05-27T10:17:46.434Z"
   },
   {
    "duration": 26,
    "start_time": "2023-05-27T10:19:33.394Z"
   },
   {
    "duration": 74,
    "start_time": "2023-05-27T10:21:09.748Z"
   },
   {
    "duration": 53,
    "start_time": "2023-05-27T10:21:20.699Z"
   },
   {
    "duration": 7,
    "start_time": "2023-05-27T10:22:53.716Z"
   },
   {
    "duration": 6,
    "start_time": "2023-05-27T10:26:36.023Z"
   },
   {
    "duration": 15,
    "start_time": "2023-05-27T10:26:55.900Z"
   },
   {
    "duration": 15,
    "start_time": "2023-05-27T10:26:56.534Z"
   },
   {
    "duration": 80,
    "start_time": "2023-05-27T10:26:56.928Z"
   },
   {
    "duration": 59,
    "start_time": "2023-05-27T10:27:01.284Z"
   },
   {
    "duration": 6,
    "start_time": "2023-05-27T10:28:23.307Z"
   },
   {
    "duration": 6,
    "start_time": "2023-05-27T10:28:50.318Z"
   },
   {
    "duration": 5,
    "start_time": "2023-05-27T10:29:32.891Z"
   },
   {
    "duration": 8,
    "start_time": "2023-05-27T10:29:58.821Z"
   },
   {
    "duration": 6,
    "start_time": "2023-05-27T10:30:16.120Z"
   },
   {
    "duration": 5,
    "start_time": "2023-05-27T10:30:16.329Z"
   },
   {
    "duration": 5,
    "start_time": "2023-05-27T10:30:16.690Z"
   },
   {
    "duration": 6,
    "start_time": "2023-05-27T10:31:45.572Z"
   },
   {
    "duration": 8,
    "start_time": "2023-05-27T10:32:30.481Z"
   },
   {
    "duration": 11,
    "start_time": "2023-05-27T10:32:46.966Z"
   },
   {
    "duration": 7,
    "start_time": "2023-05-27T10:33:07.789Z"
   },
   {
    "duration": 7,
    "start_time": "2023-05-27T10:33:25.777Z"
   },
   {
    "duration": 9,
    "start_time": "2023-05-27T10:34:01.139Z"
   },
   {
    "duration": 16,
    "start_time": "2023-05-27T10:37:47.625Z"
   },
   {
    "duration": 21,
    "start_time": "2023-05-27T10:37:53.543Z"
   },
   {
    "duration": 879,
    "start_time": "2023-05-27T10:39:18.785Z"
   },
   {
    "duration": 802,
    "start_time": "2023-05-27T10:40:20.139Z"
   },
   {
    "duration": 1037,
    "start_time": "2023-05-27T10:42:08.377Z"
   },
   {
    "duration": 103,
    "start_time": "2023-05-27T10:42:28.907Z"
   },
   {
    "duration": 95,
    "start_time": "2023-05-27T10:44:35.207Z"
   },
   {
    "duration": 10,
    "start_time": "2023-05-27T10:45:15.303Z"
   },
   {
    "duration": 28,
    "start_time": "2023-05-27T10:45:23.246Z"
   },
   {
    "duration": 27,
    "start_time": "2023-05-27T10:45:42.905Z"
   },
   {
    "duration": 12,
    "start_time": "2023-05-27T10:45:58.839Z"
   },
   {
    "duration": 14,
    "start_time": "2023-05-27T10:46:01.941Z"
   },
   {
    "duration": 11,
    "start_time": "2023-05-27T10:47:39.493Z"
   },
   {
    "duration": 830,
    "start_time": "2023-05-27T10:48:51.906Z"
   },
   {
    "duration": 9,
    "start_time": "2023-05-27T10:49:45.310Z"
   },
   {
    "duration": 214,
    "start_time": "2023-05-27T10:51:30.712Z"
   },
   {
    "duration": 217,
    "start_time": "2023-05-27T10:51:58.805Z"
   },
   {
    "duration": 214,
    "start_time": "2023-05-27T10:52:03.352Z"
   },
   {
    "duration": 309,
    "start_time": "2023-05-27T10:52:24.051Z"
   },
   {
    "duration": 207,
    "start_time": "2023-05-27T10:52:34.936Z"
   },
   {
    "duration": 271,
    "start_time": "2023-05-27T10:52:48.420Z"
   },
   {
    "duration": 217,
    "start_time": "2023-05-27T10:53:17.008Z"
   },
   {
    "duration": 23,
    "start_time": "2023-05-27T10:54:31.848Z"
   },
   {
    "duration": 8,
    "start_time": "2023-05-27T10:54:42.588Z"
   },
   {
    "duration": 4,
    "start_time": "2023-05-27T10:54:49.910Z"
   },
   {
    "duration": 4,
    "start_time": "2023-05-27T10:55:11.948Z"
   },
   {
    "duration": 5,
    "start_time": "2023-05-27T10:55:26.815Z"
   },
   {
    "duration": 2,
    "start_time": "2023-05-27T10:56:29.038Z"
   },
   {
    "duration": 232,
    "start_time": "2023-05-27T11:02:03.419Z"
   },
   {
    "duration": 254,
    "start_time": "2023-05-27T11:02:12.547Z"
   },
   {
    "duration": 12,
    "start_time": "2023-05-27T11:04:52.338Z"
   },
   {
    "duration": 72,
    "start_time": "2023-05-27T11:28:44.075Z"
   },
   {
    "duration": 66,
    "start_time": "2023-05-27T11:29:02.869Z"
   },
   {
    "duration": 63,
    "start_time": "2023-05-27T11:29:09.282Z"
   },
   {
    "duration": 75,
    "start_time": "2023-05-27T11:29:18.305Z"
   },
   {
    "duration": 1107,
    "start_time": "2023-05-27T11:29:21.504Z"
   },
   {
    "duration": 114,
    "start_time": "2023-05-27T11:29:27.780Z"
   },
   {
    "duration": 9,
    "start_time": "2023-05-27T11:35:37.220Z"
   },
   {
    "duration": 16,
    "start_time": "2023-05-27T11:35:40.580Z"
   },
   {
    "duration": 26,
    "start_time": "2023-05-27T11:36:05.292Z"
   },
   {
    "duration": 33,
    "start_time": "2023-05-27T11:37:17.341Z"
   },
   {
    "duration": 52,
    "start_time": "2023-05-27T11:37:31.655Z"
   },
   {
    "duration": 28,
    "start_time": "2023-05-27T11:37:53.624Z"
   },
   {
    "duration": 40,
    "start_time": "2023-05-27T11:38:53.969Z"
   },
   {
    "duration": 29,
    "start_time": "2023-05-27T11:39:25.226Z"
   },
   {
    "duration": 29,
    "start_time": "2023-05-27T11:39:34.605Z"
   },
   {
    "duration": 25,
    "start_time": "2023-05-27T11:39:43.686Z"
   },
   {
    "duration": 8,
    "start_time": "2023-05-27T11:39:47.452Z"
   },
   {
    "duration": 24,
    "start_time": "2023-05-27T11:40:21.607Z"
   },
   {
    "duration": 15,
    "start_time": "2023-05-27T11:40:22.276Z"
   },
   {
    "duration": 25,
    "start_time": "2023-05-27T11:40:34.403Z"
   },
   {
    "duration": 8,
    "start_time": "2023-05-27T11:40:35.245Z"
   },
   {
    "duration": 16,
    "start_time": "2023-05-27T11:41:57.520Z"
   },
   {
    "duration": 59,
    "start_time": "2023-05-27T11:42:31.416Z"
   },
   {
    "duration": 78,
    "start_time": "2023-05-27T11:43:01.855Z"
   },
   {
    "duration": 48,
    "start_time": "2023-05-27T11:43:42.165Z"
   },
   {
    "duration": 55,
    "start_time": "2023-05-27T11:47:54.299Z"
   },
   {
    "duration": 40,
    "start_time": "2023-05-27T11:48:21.907Z"
   },
   {
    "duration": 48,
    "start_time": "2023-05-27T11:49:44.506Z"
   },
   {
    "duration": 105,
    "start_time": "2023-05-27T11:49:47.917Z"
   },
   {
    "duration": 119,
    "start_time": "2023-05-27T11:50:06.356Z"
   },
   {
    "duration": 121,
    "start_time": "2023-05-27T11:50:13.199Z"
   },
   {
    "duration": 119,
    "start_time": "2023-05-27T12:18:01.720Z"
   },
   {
    "duration": 191,
    "start_time": "2023-05-27T12:22:25.349Z"
   },
   {
    "duration": 27,
    "start_time": "2023-05-27T13:05:29.454Z"
   },
   {
    "duration": 253,
    "start_time": "2023-05-27T13:07:13.691Z"
   },
   {
    "duration": 278,
    "start_time": "2023-05-27T13:08:14.215Z"
   },
   {
    "duration": 235,
    "start_time": "2023-05-27T13:08:23.051Z"
   },
   {
    "duration": 280,
    "start_time": "2023-05-27T13:08:38.797Z"
   },
   {
    "duration": 340,
    "start_time": "2023-05-27T13:14:57.795Z"
   },
   {
    "duration": 289,
    "start_time": "2023-05-27T13:15:40.224Z"
   },
   {
    "duration": 290,
    "start_time": "2023-05-27T16:47:08.223Z"
   },
   {
    "duration": 5,
    "start_time": "2023-05-27T16:48:10.105Z"
   },
   {
    "duration": 122,
    "start_time": "2023-05-27T16:49:45.410Z"
   },
   {
    "duration": 30,
    "start_time": "2023-05-27T16:55:08.034Z"
   },
   {
    "duration": 21,
    "start_time": "2023-05-27T16:55:18.335Z"
   },
   {
    "duration": 43,
    "start_time": "2023-05-27T16:55:21.252Z"
   },
   {
    "duration": 29,
    "start_time": "2023-05-27T16:55:37.326Z"
   },
   {
    "duration": 50,
    "start_time": "2023-05-27T16:57:44.202Z"
   },
   {
    "duration": 398,
    "start_time": "2023-05-27T16:59:09.919Z"
   },
   {
    "duration": 25,
    "start_time": "2023-05-27T17:24:23.212Z"
   },
   {
    "duration": 4,
    "start_time": "2023-05-27T17:24:54.149Z"
   },
   {
    "duration": 4,
    "start_time": "2023-05-27T17:24:58.315Z"
   },
   {
    "duration": 339,
    "start_time": "2023-05-27T17:25:23.109Z"
   },
   {
    "duration": 25,
    "start_time": "2023-05-27T17:26:09.100Z"
   },
   {
    "duration": 121,
    "start_time": "2023-05-28T17:31:43.767Z"
   },
   {
    "duration": 0,
    "start_time": "2023-05-28T17:31:43.893Z"
   },
   {
    "duration": 1,
    "start_time": "2023-05-28T17:31:43.894Z"
   },
   {
    "duration": 0,
    "start_time": "2023-05-28T17:31:43.896Z"
   },
   {
    "duration": 0,
    "start_time": "2023-05-28T17:31:43.897Z"
   },
   {
    "duration": 0,
    "start_time": "2023-05-28T17:31:43.899Z"
   },
   {
    "duration": 0,
    "start_time": "2023-05-28T17:31:43.900Z"
   },
   {
    "duration": 0,
    "start_time": "2023-05-28T17:31:43.901Z"
   },
   {
    "duration": 0,
    "start_time": "2023-05-28T17:31:43.903Z"
   },
   {
    "duration": 0,
    "start_time": "2023-05-28T17:31:43.905Z"
   },
   {
    "duration": 0,
    "start_time": "2023-05-28T17:31:43.906Z"
   },
   {
    "duration": 0,
    "start_time": "2023-05-28T17:31:43.907Z"
   },
   {
    "duration": 0,
    "start_time": "2023-05-28T17:31:43.909Z"
   },
   {
    "duration": 0,
    "start_time": "2023-05-28T17:31:43.910Z"
   },
   {
    "duration": 0,
    "start_time": "2023-05-28T17:31:43.910Z"
   },
   {
    "duration": 0,
    "start_time": "2023-05-28T17:31:43.911Z"
   },
   {
    "duration": 0,
    "start_time": "2023-05-28T17:31:43.912Z"
   },
   {
    "duration": 0,
    "start_time": "2023-05-28T17:31:43.913Z"
   },
   {
    "duration": 0,
    "start_time": "2023-05-28T17:31:43.914Z"
   },
   {
    "duration": 0,
    "start_time": "2023-05-28T17:31:43.915Z"
   },
   {
    "duration": 0,
    "start_time": "2023-05-28T17:31:43.915Z"
   },
   {
    "duration": 0,
    "start_time": "2023-05-28T17:31:43.916Z"
   },
   {
    "duration": 0,
    "start_time": "2023-05-28T17:31:43.918Z"
   },
   {
    "duration": 0,
    "start_time": "2023-05-28T17:31:43.919Z"
   },
   {
    "duration": 0,
    "start_time": "2023-05-28T17:31:43.920Z"
   },
   {
    "duration": 0,
    "start_time": "2023-05-28T17:31:43.921Z"
   },
   {
    "duration": 0,
    "start_time": "2023-05-28T17:31:43.921Z"
   },
   {
    "duration": 0,
    "start_time": "2023-05-28T17:31:43.922Z"
   },
   {
    "duration": 0,
    "start_time": "2023-05-28T17:31:43.923Z"
   },
   {
    "duration": 0,
    "start_time": "2023-05-28T17:31:43.924Z"
   },
   {
    "duration": 0,
    "start_time": "2023-05-28T17:31:43.926Z"
   },
   {
    "duration": 0,
    "start_time": "2023-05-28T17:31:43.956Z"
   },
   {
    "duration": 0,
    "start_time": "2023-05-28T17:31:43.958Z"
   },
   {
    "duration": 0,
    "start_time": "2023-05-28T17:31:43.960Z"
   },
   {
    "duration": 0,
    "start_time": "2023-05-28T17:31:43.960Z"
   },
   {
    "duration": 0,
    "start_time": "2023-05-28T17:31:43.962Z"
   },
   {
    "duration": 0,
    "start_time": "2023-05-28T17:31:43.963Z"
   },
   {
    "duration": 0,
    "start_time": "2023-05-28T17:31:43.964Z"
   },
   {
    "duration": 0,
    "start_time": "2023-05-28T17:31:43.965Z"
   },
   {
    "duration": 0,
    "start_time": "2023-05-28T17:31:43.966Z"
   },
   {
    "duration": 0,
    "start_time": "2023-05-28T17:31:43.968Z"
   },
   {
    "duration": 0,
    "start_time": "2023-05-28T17:31:43.969Z"
   },
   {
    "duration": 0,
    "start_time": "2023-05-28T17:31:43.970Z"
   },
   {
    "duration": 0,
    "start_time": "2023-05-28T17:31:43.971Z"
   },
   {
    "duration": 0,
    "start_time": "2023-05-28T17:31:43.973Z"
   },
   {
    "duration": 0,
    "start_time": "2023-05-28T17:31:43.974Z"
   },
   {
    "duration": 0,
    "start_time": "2023-05-28T17:31:43.975Z"
   },
   {
    "duration": 0,
    "start_time": "2023-05-28T17:31:43.976Z"
   },
   {
    "duration": 0,
    "start_time": "2023-05-28T17:31:43.977Z"
   },
   {
    "duration": 0,
    "start_time": "2023-05-28T17:31:43.978Z"
   },
   {
    "duration": 0,
    "start_time": "2023-05-28T17:31:43.979Z"
   },
   {
    "duration": 0,
    "start_time": "2023-05-28T17:31:43.980Z"
   },
   {
    "duration": 0,
    "start_time": "2023-05-28T17:31:43.981Z"
   },
   {
    "duration": 0,
    "start_time": "2023-05-28T17:31:43.982Z"
   },
   {
    "duration": 0,
    "start_time": "2023-05-28T17:31:43.983Z"
   },
   {
    "duration": 0,
    "start_time": "2023-05-28T17:31:43.984Z"
   },
   {
    "duration": 0,
    "start_time": "2023-05-28T17:31:43.985Z"
   },
   {
    "duration": 0,
    "start_time": "2023-05-28T17:31:43.986Z"
   },
   {
    "duration": 43,
    "start_time": "2023-05-28T17:33:26.759Z"
   },
   {
    "duration": 0,
    "start_time": "2023-05-28T17:33:26.805Z"
   },
   {
    "duration": 0,
    "start_time": "2023-05-28T17:33:26.806Z"
   },
   {
    "duration": 0,
    "start_time": "2023-05-28T17:33:26.807Z"
   },
   {
    "duration": 0,
    "start_time": "2023-05-28T17:33:26.809Z"
   },
   {
    "duration": 0,
    "start_time": "2023-05-28T17:33:26.810Z"
   },
   {
    "duration": 0,
    "start_time": "2023-05-28T17:33:26.811Z"
   },
   {
    "duration": 0,
    "start_time": "2023-05-28T17:33:26.812Z"
   },
   {
    "duration": 0,
    "start_time": "2023-05-28T17:33:26.813Z"
   },
   {
    "duration": 0,
    "start_time": "2023-05-28T17:33:26.815Z"
   },
   {
    "duration": 0,
    "start_time": "2023-05-28T17:33:26.816Z"
   },
   {
    "duration": 0,
    "start_time": "2023-05-28T17:33:26.817Z"
   },
   {
    "duration": 0,
    "start_time": "2023-05-28T17:33:26.857Z"
   },
   {
    "duration": 0,
    "start_time": "2023-05-28T17:33:26.858Z"
   },
   {
    "duration": 0,
    "start_time": "2023-05-28T17:33:26.860Z"
   },
   {
    "duration": 0,
    "start_time": "2023-05-28T17:33:26.861Z"
   },
   {
    "duration": 0,
    "start_time": "2023-05-28T17:33:26.862Z"
   },
   {
    "duration": 0,
    "start_time": "2023-05-28T17:33:26.862Z"
   },
   {
    "duration": 0,
    "start_time": "2023-05-28T17:33:26.863Z"
   },
   {
    "duration": 0,
    "start_time": "2023-05-28T17:33:26.865Z"
   },
   {
    "duration": 0,
    "start_time": "2023-05-28T17:33:26.865Z"
   },
   {
    "duration": 0,
    "start_time": "2023-05-28T17:33:26.866Z"
   },
   {
    "duration": 0,
    "start_time": "2023-05-28T17:33:26.867Z"
   },
   {
    "duration": 0,
    "start_time": "2023-05-28T17:33:26.869Z"
   },
   {
    "duration": 0,
    "start_time": "2023-05-28T17:33:26.870Z"
   },
   {
    "duration": 0,
    "start_time": "2023-05-28T17:33:26.871Z"
   },
   {
    "duration": 0,
    "start_time": "2023-05-28T17:33:26.872Z"
   },
   {
    "duration": 0,
    "start_time": "2023-05-28T17:33:26.873Z"
   },
   {
    "duration": 0,
    "start_time": "2023-05-28T17:33:26.873Z"
   },
   {
    "duration": 0,
    "start_time": "2023-05-28T17:33:26.874Z"
   },
   {
    "duration": 0,
    "start_time": "2023-05-28T17:33:26.876Z"
   },
   {
    "duration": 0,
    "start_time": "2023-05-28T17:33:26.877Z"
   },
   {
    "duration": 0,
    "start_time": "2023-05-28T17:33:26.877Z"
   },
   {
    "duration": 0,
    "start_time": "2023-05-28T17:33:26.878Z"
   },
   {
    "duration": 0,
    "start_time": "2023-05-28T17:33:26.879Z"
   },
   {
    "duration": 0,
    "start_time": "2023-05-28T17:33:26.880Z"
   },
   {
    "duration": 0,
    "start_time": "2023-05-28T17:33:26.881Z"
   },
   {
    "duration": 0,
    "start_time": "2023-05-28T17:33:26.883Z"
   },
   {
    "duration": 0,
    "start_time": "2023-05-28T17:33:26.883Z"
   },
   {
    "duration": 0,
    "start_time": "2023-05-28T17:33:26.884Z"
   },
   {
    "duration": 0,
    "start_time": "2023-05-28T17:33:26.885Z"
   },
   {
    "duration": 0,
    "start_time": "2023-05-28T17:33:26.886Z"
   },
   {
    "duration": 75,
    "start_time": "2023-05-28T17:33:26.890Z"
   },
   {
    "duration": 0,
    "start_time": "2023-05-28T17:33:26.967Z"
   },
   {
    "duration": 0,
    "start_time": "2023-05-28T17:33:26.969Z"
   },
   {
    "duration": 0,
    "start_time": "2023-05-28T17:33:26.970Z"
   },
   {
    "duration": 0,
    "start_time": "2023-05-28T17:33:26.971Z"
   },
   {
    "duration": 0,
    "start_time": "2023-05-28T17:33:26.973Z"
   },
   {
    "duration": 0,
    "start_time": "2023-05-28T17:33:26.974Z"
   },
   {
    "duration": 0,
    "start_time": "2023-05-28T17:33:26.976Z"
   },
   {
    "duration": 0,
    "start_time": "2023-05-28T17:33:26.976Z"
   },
   {
    "duration": 0,
    "start_time": "2023-05-28T17:33:26.977Z"
   },
   {
    "duration": 0,
    "start_time": "2023-05-28T17:33:26.979Z"
   },
   {
    "duration": 0,
    "start_time": "2023-05-28T17:33:26.980Z"
   },
   {
    "duration": 0,
    "start_time": "2023-05-28T17:33:26.981Z"
   },
   {
    "duration": 0,
    "start_time": "2023-05-28T17:33:26.982Z"
   },
   {
    "duration": 0,
    "start_time": "2023-05-28T17:33:26.984Z"
   },
   {
    "duration": 639,
    "start_time": "2023-05-28T17:33:36.409Z"
   },
   {
    "duration": 111,
    "start_time": "2023-05-28T17:34:27.060Z"
   },
   {
    "duration": 160,
    "start_time": "2023-05-28T17:34:30.512Z"
   },
   {
    "duration": 11,
    "start_time": "2023-05-28T17:34:30.674Z"
   },
   {
    "duration": 29,
    "start_time": "2023-05-28T17:34:30.686Z"
   },
   {
    "duration": 44,
    "start_time": "2023-05-28T17:34:30.717Z"
   },
   {
    "duration": 18,
    "start_time": "2023-05-28T17:34:30.762Z"
   },
   {
    "duration": 27,
    "start_time": "2023-05-28T17:34:30.782Z"
   },
   {
    "duration": 27,
    "start_time": "2023-05-28T17:34:30.811Z"
   },
   {
    "duration": 79,
    "start_time": "2023-05-28T17:34:30.839Z"
   },
   {
    "duration": 69,
    "start_time": "2023-05-28T17:34:30.919Z"
   },
   {
    "duration": 9,
    "start_time": "2023-05-28T17:34:30.990Z"
   },
   {
    "duration": 99,
    "start_time": "2023-05-28T17:34:31.000Z"
   },
   {
    "duration": 8,
    "start_time": "2023-05-28T17:34:31.101Z"
   },
   {
    "duration": 87,
    "start_time": "2023-05-28T17:34:31.111Z"
   },
   {
    "duration": 6,
    "start_time": "2023-05-28T17:34:31.201Z"
   },
   {
    "duration": 23,
    "start_time": "2023-05-28T17:34:31.209Z"
   },
   {
    "duration": 15,
    "start_time": "2023-05-28T17:34:31.234Z"
   },
   {
    "duration": 1130,
    "start_time": "2023-05-28T17:34:31.251Z"
   },
   {
    "duration": 77,
    "start_time": "2023-05-28T17:34:32.383Z"
   },
   {
    "duration": 6,
    "start_time": "2023-05-28T17:34:32.461Z"
   },
   {
    "duration": 52,
    "start_time": "2023-05-28T17:34:32.469Z"
   },
   {
    "duration": 6,
    "start_time": "2023-05-28T17:34:32.523Z"
   },
   {
    "duration": 1060,
    "start_time": "2023-05-28T17:34:32.531Z"
   },
   {
    "duration": 7,
    "start_time": "2023-05-28T17:34:33.593Z"
   },
   {
    "duration": 30,
    "start_time": "2023-05-28T17:34:33.601Z"
   },
   {
    "duration": 33,
    "start_time": "2023-05-28T17:34:33.633Z"
   },
   {
    "duration": 7,
    "start_time": "2023-05-28T17:34:33.668Z"
   },
   {
    "duration": 9,
    "start_time": "2023-05-28T17:34:33.676Z"
   },
   {
    "duration": 3,
    "start_time": "2023-05-28T17:34:33.689Z"
   },
   {
    "duration": 10,
    "start_time": "2023-05-28T17:34:33.693Z"
   },
   {
    "duration": 16,
    "start_time": "2023-05-28T17:34:33.704Z"
   },
   {
    "duration": 4,
    "start_time": "2023-05-28T17:34:33.721Z"
   },
   {
    "duration": 33,
    "start_time": "2023-05-28T17:34:33.726Z"
   },
   {
    "duration": 22,
    "start_time": "2023-05-28T17:34:33.761Z"
   },
   {
    "duration": 23,
    "start_time": "2023-05-28T17:34:33.785Z"
   },
   {
    "duration": 6,
    "start_time": "2023-05-28T17:34:33.810Z"
   },
   {
    "duration": 13,
    "start_time": "2023-05-28T17:34:33.818Z"
   },
   {
    "duration": 26,
    "start_time": "2023-05-28T17:34:33.833Z"
   },
   {
    "duration": 8,
    "start_time": "2023-05-28T17:34:33.860Z"
   },
   {
    "duration": 8,
    "start_time": "2023-05-28T17:34:33.869Z"
   },
   {
    "duration": 8,
    "start_time": "2023-05-28T17:34:33.878Z"
   },
   {
    "duration": 70,
    "start_time": "2023-05-28T17:34:33.888Z"
   },
   {
    "duration": 6,
    "start_time": "2023-05-28T17:34:33.960Z"
   },
   {
    "duration": 5,
    "start_time": "2023-05-28T17:34:33.968Z"
   },
   {
    "duration": 9,
    "start_time": "2023-05-28T17:34:33.974Z"
   },
   {
    "duration": 8,
    "start_time": "2023-05-28T17:34:33.985Z"
   },
   {
    "duration": 40,
    "start_time": "2023-05-28T17:34:33.994Z"
   },
   {
    "duration": 4,
    "start_time": "2023-05-28T17:34:34.055Z"
   },
   {
    "duration": 477,
    "start_time": "2023-05-28T17:34:34.060Z"
   },
   {
    "duration": 27,
    "start_time": "2023-05-28T17:34:34.538Z"
   },
   {
    "duration": 33,
    "start_time": "2023-05-28T17:34:34.566Z"
   },
   {
    "duration": 29,
    "start_time": "2023-05-28T17:34:34.600Z"
   },
   {
    "duration": 313,
    "start_time": "2023-05-28T17:34:34.630Z"
   },
   {
    "duration": 269,
    "start_time": "2023-05-28T17:34:34.957Z"
   },
   {
    "duration": 29,
    "start_time": "2023-05-28T17:34:35.228Z"
   },
   {
    "duration": 3,
    "start_time": "2023-05-28T17:34:35.258Z"
   },
   {
    "duration": 6,
    "start_time": "2023-05-28T17:34:35.263Z"
   },
   {
    "duration": 266,
    "start_time": "2023-05-28T17:34:35.271Z"
   },
   {
    "duration": 4010,
    "start_time": "2023-05-30T13:12:23.069Z"
   },
   {
    "duration": 2666,
    "start_time": "2023-05-30T13:12:27.090Z"
   },
   {
    "duration": 57,
    "start_time": "2023-05-30T13:12:29.763Z"
   },
   {
    "duration": 189,
    "start_time": "2023-05-30T13:12:29.831Z"
   },
   {
    "duration": 251,
    "start_time": "2023-05-30T13:12:30.045Z"
   },
   {
    "duration": 225,
    "start_time": "2023-05-30T13:12:30.312Z"
   },
   {
    "duration": 207,
    "start_time": "2023-05-30T13:12:30.546Z"
   },
   {
    "duration": 224,
    "start_time": "2023-05-30T13:12:30.772Z"
   },
   {
    "duration": 319,
    "start_time": "2023-05-30T13:12:31.013Z"
   },
   {
    "duration": 300,
    "start_time": "2023-05-30T13:12:31.340Z"
   },
   {
    "duration": 60,
    "start_time": "2023-05-30T13:12:31.648Z"
   },
   {
    "duration": 338,
    "start_time": "2023-05-30T13:12:31.710Z"
   },
   {
    "duration": 180,
    "start_time": "2023-05-30T13:12:32.064Z"
   },
   {
    "duration": 258,
    "start_time": "2023-05-30T13:12:32.258Z"
   },
   {
    "duration": 107,
    "start_time": "2023-05-30T13:12:32.533Z"
   },
   {
    "duration": 215,
    "start_time": "2023-05-30T13:12:32.647Z"
   },
   {
    "duration": 170,
    "start_time": "2023-05-30T13:12:32.870Z"
   },
   {
    "duration": 3402,
    "start_time": "2023-05-30T13:12:33.062Z"
   },
   {
    "duration": 167,
    "start_time": "2023-05-30T13:12:36.470Z"
   },
   {
    "duration": 26,
    "start_time": "2023-05-30T13:12:36.644Z"
   },
   {
    "duration": 405,
    "start_time": "2023-05-30T13:12:36.678Z"
   },
   {
    "duration": 18,
    "start_time": "2023-05-30T13:12:37.092Z"
   },
   {
    "duration": 2821,
    "start_time": "2023-05-30T13:12:37.117Z"
   },
   {
    "duration": 26,
    "start_time": "2023-05-30T13:12:39.947Z"
   },
   {
    "duration": 286,
    "start_time": "2023-05-30T13:12:39.983Z"
   },
   {
    "duration": 145,
    "start_time": "2023-05-30T13:12:40.283Z"
   },
   {
    "duration": 187,
    "start_time": "2023-05-30T13:12:40.446Z"
   },
   {
    "duration": 199,
    "start_time": "2023-05-30T13:12:40.646Z"
   },
   {
    "duration": 222,
    "start_time": "2023-05-30T13:12:40.858Z"
   },
   {
    "duration": 220,
    "start_time": "2023-05-30T13:12:41.088Z"
   },
   {
    "duration": 216,
    "start_time": "2023-05-30T13:12:41.325Z"
   },
   {
    "duration": 203,
    "start_time": "2023-05-30T13:12:41.560Z"
   },
   {
    "duration": 196,
    "start_time": "2023-05-30T13:12:41.776Z"
   },
   {
    "duration": 237,
    "start_time": "2023-05-30T13:12:41.988Z"
   },
   {
    "duration": 202,
    "start_time": "2023-05-30T13:12:42.241Z"
   },
   {
    "duration": 202,
    "start_time": "2023-05-30T13:12:42.453Z"
   },
   {
    "duration": 194,
    "start_time": "2023-05-30T13:12:42.662Z"
   },
   {
    "duration": 182,
    "start_time": "2023-05-30T13:12:42.864Z"
   },
   {
    "duration": 182,
    "start_time": "2023-05-30T13:12:43.054Z"
   },
   {
    "duration": 183,
    "start_time": "2023-05-30T13:12:43.244Z"
   },
   {
    "duration": 201,
    "start_time": "2023-05-30T13:12:43.439Z"
   },
   {
    "duration": 263,
    "start_time": "2023-05-30T13:12:43.649Z"
   },
   {
    "duration": 78,
    "start_time": "2023-05-30T13:12:43.914Z"
   },
   {
    "duration": 193,
    "start_time": "2023-05-30T13:12:43.995Z"
   },
   {
    "duration": 197,
    "start_time": "2023-05-30T13:12:44.191Z"
   },
   {
    "duration": 224,
    "start_time": "2023-05-30T13:12:44.400Z"
   },
   {
    "duration": 257,
    "start_time": "2023-05-30T13:12:44.643Z"
   },
   {
    "duration": 78,
    "start_time": "2023-05-30T13:12:44.902Z"
   },
   {
    "duration": 367,
    "start_time": "2023-05-30T13:12:44.982Z"
   },
   {
    "duration": 66,
    "start_time": "2023-05-30T13:12:45.356Z"
   },
   {
    "duration": 243,
    "start_time": "2023-05-30T13:12:45.429Z"
   },
   {
    "duration": 168,
    "start_time": "2023-05-30T13:12:45.688Z"
   },
   {
    "duration": 1036,
    "start_time": "2023-05-30T13:12:45.864Z"
   },
   {
    "duration": 694,
    "start_time": "2023-05-30T13:12:46.906Z"
   },
   {
    "duration": 49,
    "start_time": "2023-05-30T13:12:47.607Z"
   },
   {
    "duration": 127,
    "start_time": "2023-05-30T13:12:47.668Z"
   },
   {
    "duration": 171,
    "start_time": "2023-05-30T13:12:47.805Z"
   },
   {
    "duration": 1075,
    "start_time": "2023-05-30T13:12:47.982Z"
   },
   {
    "duration": 75,
    "start_time": "2023-05-30T13:15:58.921Z"
   },
   {
    "duration": 43,
    "start_time": "2023-05-30T13:16:07.045Z"
   },
   {
    "duration": 48,
    "start_time": "2023-05-30T13:16:45.117Z"
   },
   {
    "duration": 289,
    "start_time": "2023-05-30T13:18:08.313Z"
   },
   {
    "duration": 43,
    "start_time": "2023-05-30T13:18:10.941Z"
   },
   {
    "duration": 65,
    "start_time": "2023-05-30T13:19:12.597Z"
   },
   {
    "duration": 54,
    "start_time": "2023-05-30T13:19:19.178Z"
   },
   {
    "duration": 56,
    "start_time": "2023-05-30T13:19:31.968Z"
   },
   {
    "duration": 246,
    "start_time": "2023-05-30T13:19:55.890Z"
   },
   {
    "duration": 426,
    "start_time": "2023-05-30T13:20:01.496Z"
   },
   {
    "duration": 98,
    "start_time": "2023-05-30T13:21:07.542Z"
   },
   {
    "duration": 148,
    "start_time": "2023-05-30T13:21:20.556Z"
   },
   {
    "duration": 76,
    "start_time": "2023-05-30T13:21:51.675Z"
   },
   {
    "duration": 441,
    "start_time": "2023-05-30T13:22:13.938Z"
   },
   {
    "duration": 230,
    "start_time": "2023-05-30T13:22:24.962Z"
   },
   {
    "duration": 295,
    "start_time": "2023-05-30T13:22:37.671Z"
   },
   {
    "duration": 18,
    "start_time": "2023-05-30T13:24:10.001Z"
   },
   {
    "duration": 35,
    "start_time": "2023-05-30T13:24:23.481Z"
   },
   {
    "duration": 6,
    "start_time": "2023-05-30T13:24:44.878Z"
   },
   {
    "duration": 55,
    "start_time": "2023-05-30T13:24:52.141Z"
   },
   {
    "duration": 98,
    "start_time": "2023-05-30T13:25:11.192Z"
   },
   {
    "duration": 5089,
    "start_time": "2023-05-30T13:28:13.823Z"
   },
   {
    "duration": 95,
    "start_time": "2023-05-30T13:28:21.941Z"
   },
   {
    "duration": 26,
    "start_time": "2023-05-30T13:30:21.069Z"
   },
   {
    "duration": 54,
    "start_time": "2023-05-30T13:30:28.829Z"
   },
   {
    "duration": 65,
    "start_time": "2023-05-30T13:30:56.029Z"
   },
   {
    "duration": 11,
    "start_time": "2023-05-30T13:31:08.189Z"
   },
   {
    "duration": 72,
    "start_time": "2023-05-30T13:31:15.614Z"
   },
   {
    "duration": 13,
    "start_time": "2023-05-30T13:31:16.451Z"
   },
   {
    "duration": 24,
    "start_time": "2023-05-30T13:31:28.018Z"
   },
   {
    "duration": 27,
    "start_time": "2023-05-30T13:31:30.293Z"
   },
   {
    "duration": 17,
    "start_time": "2023-05-30T13:31:47.235Z"
   },
   {
    "duration": 151,
    "start_time": "2023-05-30T13:32:34.121Z"
   },
   {
    "duration": 25,
    "start_time": "2023-05-30T13:32:42.637Z"
   },
   {
    "duration": 155,
    "start_time": "2023-05-30T13:33:30.593Z"
   },
   {
    "duration": 25,
    "start_time": "2023-05-30T13:33:41.615Z"
   },
   {
    "duration": 41,
    "start_time": "2023-05-30T13:33:52.089Z"
   },
   {
    "duration": 27,
    "start_time": "2023-05-30T13:34:02.105Z"
   },
   {
    "duration": 29,
    "start_time": "2023-05-30T13:34:09.150Z"
   },
   {
    "duration": 11,
    "start_time": "2023-05-30T13:34:37.917Z"
   },
   {
    "duration": 3969,
    "start_time": "2023-05-30T13:34:53.678Z"
   },
   {
    "duration": 50,
    "start_time": "2023-05-30T13:37:16.882Z"
   },
   {
    "duration": 48,
    "start_time": "2023-05-30T13:37:52.325Z"
   },
   {
    "duration": 13,
    "start_time": "2023-05-30T13:38:43.547Z"
   },
   {
    "duration": 1700,
    "start_time": "2023-05-30T13:39:00.393Z"
   },
   {
    "duration": 87,
    "start_time": "2023-05-30T13:39:33.578Z"
   },
   {
    "duration": 16,
    "start_time": "2023-05-30T13:39:34.029Z"
   },
   {
    "duration": 74,
    "start_time": "2023-05-30T13:40:08.920Z"
   },
   {
    "duration": 7,
    "start_time": "2023-05-30T13:40:33.769Z"
   },
   {
    "duration": 639,
    "start_time": "2023-05-30T13:40:50.378Z"
   },
   {
    "duration": 1435,
    "start_time": "2023-05-30T13:40:55.867Z"
   },
   {
    "duration": 1600,
    "start_time": "2023-05-30T13:44:33.068Z"
   },
   {
    "duration": 1445,
    "start_time": "2023-05-30T13:44:50.586Z"
   },
   {
    "duration": 1330,
    "start_time": "2023-05-30T13:46:28.315Z"
   },
   {
    "duration": 1744,
    "start_time": "2023-05-30T13:47:08.925Z"
   },
   {
    "duration": 1486,
    "start_time": "2023-05-30T13:47:27.856Z"
   },
   {
    "duration": 1679,
    "start_time": "2023-05-30T13:48:40.972Z"
   },
   {
    "duration": 1906,
    "start_time": "2023-05-30T13:48:50.475Z"
   },
   {
    "duration": 1638,
    "start_time": "2023-05-30T13:49:06.049Z"
   },
   {
    "duration": 1999,
    "start_time": "2023-05-30T13:50:29.693Z"
   },
   {
    "duration": 2258,
    "start_time": "2023-05-30T13:51:29.981Z"
   },
   {
    "duration": 118,
    "start_time": "2023-05-30T13:53:55.942Z"
   },
   {
    "duration": 1978,
    "start_time": "2023-05-30T13:55:11.380Z"
   },
   {
    "duration": 4,
    "start_time": "2023-05-30T13:58:16.626Z"
   },
   {
    "duration": 1965,
    "start_time": "2023-05-30T14:00:45.411Z"
   },
   {
    "duration": 1976,
    "start_time": "2023-05-30T14:00:56.204Z"
   },
   {
    "duration": 1935,
    "start_time": "2023-05-30T14:01:59.474Z"
   },
   {
    "duration": 22,
    "start_time": "2023-05-30T14:03:29.587Z"
   },
   {
    "duration": 48,
    "start_time": "2023-05-30T14:03:31.184Z"
   },
   {
    "duration": 11,
    "start_time": "2023-05-30T14:03:33.376Z"
   },
   {
    "duration": 52,
    "start_time": "2023-05-30T14:04:55.533Z"
   },
   {
    "duration": 29,
    "start_time": "2023-05-30T14:05:13.745Z"
   },
   {
    "duration": 18,
    "start_time": "2023-05-30T14:05:31.574Z"
   },
   {
    "duration": 29,
    "start_time": "2023-05-30T14:05:57.670Z"
   },
   {
    "duration": 47,
    "start_time": "2023-05-30T14:06:15.403Z"
   },
   {
    "duration": 75,
    "start_time": "2023-05-30T14:07:21.313Z"
   },
   {
    "duration": 18,
    "start_time": "2023-05-30T14:08:05.578Z"
   },
   {
    "duration": 99,
    "start_time": "2023-05-30T14:08:06.711Z"
   },
   {
    "duration": 38,
    "start_time": "2023-05-30T14:08:14.590Z"
   },
   {
    "duration": 8,
    "start_time": "2023-05-30T14:08:14.990Z"
   },
   {
    "duration": 9,
    "start_time": "2023-05-30T14:08:15.386Z"
   },
   {
    "duration": 27,
    "start_time": "2023-05-30T14:08:15.801Z"
   },
   {
    "duration": 19,
    "start_time": "2023-05-30T14:08:16.205Z"
   },
   {
    "duration": 10,
    "start_time": "2023-05-30T14:08:16.610Z"
   },
   {
    "duration": 56,
    "start_time": "2023-05-30T14:08:17.290Z"
   },
   {
    "duration": 51,
    "start_time": "2023-05-30T14:10:27.629Z"
   },
   {
    "duration": 14,
    "start_time": "2023-05-30T14:10:29.042Z"
   },
   {
    "duration": 19,
    "start_time": "2023-05-30T14:10:29.637Z"
   },
   {
    "duration": 25,
    "start_time": "2023-05-30T14:10:30.158Z"
   },
   {
    "duration": 18,
    "start_time": "2023-05-30T14:10:30.875Z"
   },
   {
    "duration": 9,
    "start_time": "2023-05-30T14:10:32.786Z"
   },
   {
    "duration": 28,
    "start_time": "2023-05-30T14:11:05.421Z"
   },
   {
    "duration": 125,
    "start_time": "2023-05-30T14:12:47.691Z"
   },
   {
    "duration": 25,
    "start_time": "2023-05-30T14:12:48.098Z"
   },
   {
    "duration": 14,
    "start_time": "2023-05-30T14:12:48.728Z"
   },
   {
    "duration": 32,
    "start_time": "2023-05-30T14:12:49.491Z"
   },
   {
    "duration": 34,
    "start_time": "2023-05-30T14:12:50.818Z"
   },
   {
    "duration": 4780,
    "start_time": "2023-05-30T14:14:32.538Z"
   },
   {
    "duration": 81,
    "start_time": "2023-05-30T14:14:49.815Z"
   },
   {
    "duration": 21,
    "start_time": "2023-05-30T14:14:50.341Z"
   },
   {
    "duration": 11,
    "start_time": "2023-05-30T14:14:51.817Z"
   },
   {
    "duration": 19,
    "start_time": "2023-05-30T14:14:52.245Z"
   },
   {
    "duration": 9,
    "start_time": "2023-05-30T14:14:53.184Z"
   },
   {
    "duration": 0,
    "start_time": "2023-05-30T14:16:23.986Z"
   },
   {
    "duration": 0,
    "start_time": "2023-05-30T14:16:23.988Z"
   },
   {
    "duration": 157,
    "start_time": "2023-05-30T14:16:25.500Z"
   },
   {
    "duration": 8,
    "start_time": "2023-05-30T14:16:25.877Z"
   },
   {
    "duration": 32,
    "start_time": "2023-05-30T14:16:27.900Z"
   },
   {
    "duration": 21,
    "start_time": "2023-05-30T14:16:41.649Z"
   },
   {
    "duration": 20,
    "start_time": "2023-05-30T14:16:42.021Z"
   },
   {
    "duration": 109,
    "start_time": "2023-05-30T14:18:45.543Z"
   },
   {
    "duration": 20,
    "start_time": "2023-05-30T14:18:45.715Z"
   },
   {
    "duration": 5,
    "start_time": "2023-05-30T14:18:45.891Z"
   },
   {
    "duration": 5394,
    "start_time": "2023-05-30T14:18:46.499Z"
   },
   {
    "duration": 81,
    "start_time": "2023-05-30T14:19:23.815Z"
   },
   {
    "duration": 13,
    "start_time": "2023-05-30T14:19:24.008Z"
   },
   {
    "duration": 48,
    "start_time": "2023-05-30T14:19:24.180Z"
   },
   {
    "duration": 34,
    "start_time": "2023-05-30T14:19:24.646Z"
   },
   {
    "duration": 33,
    "start_time": "2023-05-30T14:19:27.331Z"
   },
   {
    "duration": 96,
    "start_time": "2023-05-30T14:19:57.176Z"
   },
   {
    "duration": 27,
    "start_time": "2023-05-30T14:22:17.215Z"
   },
   {
    "duration": 52,
    "start_time": "2023-05-30T14:22:34.292Z"
   },
   {
    "duration": 92,
    "start_time": "2023-05-30T14:22:54.524Z"
   },
   {
    "duration": 480,
    "start_time": "2023-05-30T14:25:15.745Z"
   },
   {
    "duration": 67,
    "start_time": "2023-05-30T14:25:21.160Z"
   },
   {
    "duration": 99,
    "start_time": "2023-05-30T14:25:54.761Z"
   },
   {
    "duration": 64,
    "start_time": "2023-05-30T14:27:00.365Z"
   },
   {
    "duration": 57,
    "start_time": "2023-05-30T14:27:18.457Z"
   },
   {
    "duration": 97,
    "start_time": "2023-05-30T14:27:38.165Z"
   },
   {
    "duration": 2471,
    "start_time": "2023-05-30T14:27:50.349Z"
   },
   {
    "duration": 68,
    "start_time": "2023-05-30T14:27:56.371Z"
   },
   {
    "duration": 117,
    "start_time": "2023-05-30T14:28:57.124Z"
   },
   {
    "duration": 128,
    "start_time": "2023-05-30T14:29:04.988Z"
   },
   {
    "duration": 769,
    "start_time": "2023-05-30T14:29:36.648Z"
   },
   {
    "duration": 610,
    "start_time": "2023-05-30T14:29:39.324Z"
   },
   {
    "duration": 722,
    "start_time": "2023-05-30T14:29:43.692Z"
   },
   {
    "duration": 74,
    "start_time": "2023-05-30T14:30:25.406Z"
   },
   {
    "duration": 91,
    "start_time": "2023-05-30T14:30:40.126Z"
   },
   {
    "duration": 594,
    "start_time": "2023-05-30T14:31:32.618Z"
   },
   {
    "duration": 578,
    "start_time": "2023-05-30T14:31:42.549Z"
   },
   {
    "duration": 599,
    "start_time": "2023-05-30T14:32:23.264Z"
   },
   {
    "duration": 2824,
    "start_time": "2023-05-30T14:32:31.980Z"
   },
   {
    "duration": 83,
    "start_time": "2023-05-30T14:32:47.303Z"
   },
   {
    "duration": 531,
    "start_time": "2023-05-30T14:33:42.251Z"
   },
   {
    "duration": 706,
    "start_time": "2023-05-30T14:34:55.368Z"
   },
   {
    "duration": 83,
    "start_time": "2023-05-30T14:36:02.980Z"
   },
   {
    "duration": 79,
    "start_time": "2023-05-30T14:36:17.275Z"
   },
   {
    "duration": 70,
    "start_time": "2023-05-30T14:36:23.364Z"
   },
   {
    "duration": 127,
    "start_time": "2023-05-30T14:36:41.193Z"
   },
   {
    "duration": 12,
    "start_time": "2023-05-30T14:37:00.979Z"
   },
   {
    "duration": 126,
    "start_time": "2023-05-30T14:37:32.368Z"
   },
   {
    "duration": 97,
    "start_time": "2023-05-30T14:38:22.029Z"
   },
   {
    "duration": 103,
    "start_time": "2023-05-30T14:38:41.078Z"
   },
   {
    "duration": 12,
    "start_time": "2023-05-30T14:38:48.684Z"
   },
   {
    "duration": 115,
    "start_time": "2023-05-30T14:38:54.685Z"
   },
   {
    "duration": 286,
    "start_time": "2023-05-30T14:38:59.981Z"
   },
   {
    "duration": 4,
    "start_time": "2023-05-30T14:40:29.864Z"
   },
   {
    "duration": 24,
    "start_time": "2023-05-30T14:40:34.124Z"
   },
   {
    "duration": 19,
    "start_time": "2023-05-30T14:40:52.961Z"
   },
   {
    "duration": 18,
    "start_time": "2023-05-30T14:41:48.142Z"
   },
   {
    "duration": 163,
    "start_time": "2023-05-30T14:53:40.737Z"
   },
   {
    "duration": 12,
    "start_time": "2023-05-30T14:53:44.196Z"
   },
   {
    "duration": 34,
    "start_time": "2023-05-30T14:53:45.958Z"
   },
   {
    "duration": 147,
    "start_time": "2023-05-30T14:59:38.645Z"
   },
   {
    "duration": 110,
    "start_time": "2023-05-30T14:59:46.162Z"
   },
   {
    "duration": 120,
    "start_time": "2023-05-30T14:59:58.405Z"
   },
   {
    "duration": 84,
    "start_time": "2023-05-30T15:02:40.512Z"
   },
   {
    "duration": 81,
    "start_time": "2023-05-30T15:02:53.879Z"
   },
   {
    "duration": 94,
    "start_time": "2023-05-30T15:03:01.701Z"
   },
   {
    "duration": 62,
    "start_time": "2023-05-30T16:07:53.524Z"
   },
   {
    "duration": 121,
    "start_time": "2023-05-30T16:08:19.457Z"
   },
   {
    "duration": 164,
    "start_time": "2023-05-30T16:08:24.121Z"
   },
   {
    "duration": 72,
    "start_time": "2023-05-30T16:08:26.762Z"
   },
   {
    "duration": 98,
    "start_time": "2023-05-30T16:09:12.925Z"
   },
   {
    "duration": 204,
    "start_time": "2023-05-30T16:09:51.953Z"
   },
   {
    "duration": 80,
    "start_time": "2023-05-30T16:10:27.465Z"
   },
   {
    "duration": 60,
    "start_time": "2023-05-30T16:10:32.651Z"
   },
   {
    "duration": 85,
    "start_time": "2023-05-30T16:34:43.550Z"
   },
   {
    "duration": 58,
    "start_time": "2023-05-30T16:34:52.634Z"
   },
   {
    "duration": 3,
    "start_time": "2023-05-30T16:36:29.559Z"
   },
   {
    "duration": 2,
    "start_time": "2023-05-30T16:36:37.140Z"
   },
   {
    "duration": 3,
    "start_time": "2023-05-30T16:36:42.828Z"
   },
   {
    "duration": 5,
    "start_time": "2023-05-30T16:36:50.409Z"
   },
   {
    "duration": 56,
    "start_time": "2023-05-30T16:37:53.155Z"
   },
   {
    "duration": 68,
    "start_time": "2023-05-30T16:39:32.340Z"
   },
   {
    "duration": 85,
    "start_time": "2023-05-30T16:43:22.535Z"
   },
   {
    "duration": 66,
    "start_time": "2023-05-30T16:44:03.823Z"
   },
   {
    "duration": 73,
    "start_time": "2023-05-30T16:44:23.592Z"
   },
   {
    "duration": 68,
    "start_time": "2023-05-30T16:44:58.849Z"
   },
   {
    "duration": 190,
    "start_time": "2023-05-30T16:46:34.488Z"
   },
   {
    "duration": 146,
    "start_time": "2023-05-30T16:46:53.047Z"
   },
   {
    "duration": 279,
    "start_time": "2023-05-30T16:48:14.710Z"
   },
   {
    "duration": 293,
    "start_time": "2023-05-30T16:48:46.738Z"
   },
   {
    "duration": 167,
    "start_time": "2023-05-30T16:49:20.021Z"
   },
   {
    "duration": 196,
    "start_time": "2023-05-30T16:49:32.721Z"
   },
   {
    "duration": 170,
    "start_time": "2023-05-30T16:49:50.771Z"
   },
   {
    "duration": 66,
    "start_time": "2023-05-30T16:50:21.999Z"
   },
   {
    "duration": 157,
    "start_time": "2023-05-30T16:50:24.561Z"
   },
   {
    "duration": 175,
    "start_time": "2023-05-30T16:51:29.568Z"
   },
   {
    "duration": 178,
    "start_time": "2023-05-30T16:52:26.186Z"
   },
   {
    "duration": 158,
    "start_time": "2023-05-30T16:53:54.967Z"
   },
   {
    "duration": 167,
    "start_time": "2023-05-30T16:54:07.547Z"
   },
   {
    "duration": 177,
    "start_time": "2023-05-30T17:00:29.234Z"
   },
   {
    "duration": 164,
    "start_time": "2023-05-30T17:01:29.202Z"
   },
   {
    "duration": 163,
    "start_time": "2023-05-30T17:01:41.294Z"
   },
   {
    "duration": 326,
    "start_time": "2023-05-30T17:03:01.962Z"
   },
   {
    "duration": 183,
    "start_time": "2023-05-30T17:03:13.635Z"
   },
   {
    "duration": 171,
    "start_time": "2023-05-30T17:03:22.586Z"
   },
   {
    "duration": 222,
    "start_time": "2023-05-30T17:03:31.886Z"
   },
   {
    "duration": 176,
    "start_time": "2023-05-30T17:04:29.067Z"
   },
   {
    "duration": 201,
    "start_time": "2023-05-30T17:04:34.034Z"
   },
   {
    "duration": 100,
    "start_time": "2023-05-30T17:04:42.366Z"
   },
   {
    "duration": 84,
    "start_time": "2023-05-30T17:04:47.362Z"
   },
   {
    "duration": 205,
    "start_time": "2023-05-30T17:06:00.178Z"
   },
   {
    "duration": 62,
    "start_time": "2023-05-30T17:06:34.292Z"
   },
   {
    "duration": 219,
    "start_time": "2023-05-30T17:06:41.858Z"
   },
   {
    "duration": 176,
    "start_time": "2023-05-30T17:06:52.337Z"
   },
   {
    "duration": 278,
    "start_time": "2023-05-30T17:07:48.358Z"
   },
   {
    "duration": 170,
    "start_time": "2023-05-30T17:07:58.649Z"
   },
   {
    "duration": 50,
    "start_time": "2023-05-30T17:08:38.992Z"
   },
   {
    "duration": 7,
    "start_time": "2023-05-30T17:08:39.619Z"
   },
   {
    "duration": 5,
    "start_time": "2023-05-30T17:08:40.683Z"
   },
   {
    "duration": 9,
    "start_time": "2023-05-30T17:08:41.345Z"
   },
   {
    "duration": 11,
    "start_time": "2023-05-30T17:08:42.050Z"
   },
   {
    "duration": 48,
    "start_time": "2023-05-30T17:09:08.095Z"
   },
   {
    "duration": 2,
    "start_time": "2023-05-30T17:09:08.560Z"
   },
   {
    "duration": 5,
    "start_time": "2023-05-30T17:09:09.095Z"
   },
   {
    "duration": 3,
    "start_time": "2023-05-30T17:09:09.844Z"
   },
   {
    "duration": 7,
    "start_time": "2023-05-30T17:09:10.395Z"
   },
   {
    "duration": 5,
    "start_time": "2023-05-30T17:41:03.513Z"
   },
   {
    "duration": 3,
    "start_time": "2023-05-30T17:41:05.053Z"
   },
   {
    "duration": 7,
    "start_time": "2023-05-30T17:41:05.213Z"
   },
   {
    "duration": 31,
    "start_time": "2023-05-30T17:46:04.859Z"
   },
   {
    "duration": 4,
    "start_time": "2023-05-30T17:57:54.514Z"
   },
   {
    "duration": 21,
    "start_time": "2023-05-30T18:06:26.849Z"
   },
   {
    "duration": 20,
    "start_time": "2023-05-30T18:07:15.340Z"
   },
   {
    "duration": 22,
    "start_time": "2023-05-30T18:07:26.544Z"
   },
   {
    "duration": 21,
    "start_time": "2023-05-30T18:07:35.542Z"
   },
   {
    "duration": 3,
    "start_time": "2023-05-30T18:09:43.200Z"
   },
   {
    "duration": 4,
    "start_time": "2023-05-30T18:09:52.484Z"
   },
   {
    "duration": 19,
    "start_time": "2023-05-30T18:19:35.553Z"
   },
   {
    "duration": 27,
    "start_time": "2023-05-30T18:19:36.090Z"
   },
   {
    "duration": 53,
    "start_time": "2023-05-30T18:20:07.246Z"
   },
   {
    "duration": 35,
    "start_time": "2023-05-30T18:20:19.975Z"
   },
   {
    "duration": 35,
    "start_time": "2023-05-30T18:21:05.243Z"
   },
   {
    "duration": 33,
    "start_time": "2023-05-30T18:21:22.558Z"
   },
   {
    "duration": 40,
    "start_time": "2023-05-30T18:21:31.263Z"
   },
   {
    "duration": 38,
    "start_time": "2023-05-30T18:21:36.730Z"
   },
   {
    "duration": 45,
    "start_time": "2023-05-30T18:21:49.594Z"
   },
   {
    "duration": 246,
    "start_time": "2023-05-30T18:22:24.968Z"
   },
   {
    "duration": 331,
    "start_time": "2023-05-30T18:33:33.398Z"
   },
   {
    "duration": 303,
    "start_time": "2023-05-30T18:33:39.382Z"
   },
   {
    "duration": 259,
    "start_time": "2023-05-30T18:35:29.926Z"
   },
   {
    "duration": 249,
    "start_time": "2023-05-30T19:09:04.528Z"
   },
   {
    "duration": 21,
    "start_time": "2023-05-30T19:12:14.232Z"
   },
   {
    "duration": 52,
    "start_time": "2023-05-30T19:19:07.557Z"
   },
   {
    "duration": 693,
    "start_time": "2023-05-30T19:19:18.093Z"
   },
   {
    "duration": 513,
    "start_time": "2023-05-30T19:19:37.071Z"
   },
   {
    "duration": 606,
    "start_time": "2023-05-30T19:19:38.786Z"
   },
   {
    "duration": 41,
    "start_time": "2023-05-30T19:19:39.394Z"
   },
   {
    "duration": 12,
    "start_time": "2023-05-30T19:19:39.437Z"
   },
   {
    "duration": 26,
    "start_time": "2023-05-30T19:19:39.451Z"
   },
   {
    "duration": 27,
    "start_time": "2023-05-30T19:19:39.479Z"
   },
   {
    "duration": 23,
    "start_time": "2023-05-30T19:19:39.510Z"
   },
   {
    "duration": 18,
    "start_time": "2023-05-30T19:19:39.534Z"
   },
   {
    "duration": 83,
    "start_time": "2023-05-30T19:19:39.554Z"
   },
   {
    "duration": 71,
    "start_time": "2023-05-30T19:19:39.639Z"
   },
   {
    "duration": 8,
    "start_time": "2023-05-30T19:19:39.718Z"
   },
   {
    "duration": 88,
    "start_time": "2023-05-30T19:19:40.248Z"
   },
   {
    "duration": 12,
    "start_time": "2023-05-30T19:19:40.338Z"
   },
   {
    "duration": 30,
    "start_time": "2023-05-30T19:19:40.524Z"
   },
   {
    "duration": 3,
    "start_time": "2023-05-30T19:19:40.573Z"
   },
   {
    "duration": 9,
    "start_time": "2023-05-30T19:19:40.725Z"
   },
   {
    "duration": 22,
    "start_time": "2023-05-30T19:19:40.834Z"
   },
   {
    "duration": 199,
    "start_time": "2023-05-30T19:19:40.889Z"
   },
   {
    "duration": 70,
    "start_time": "2023-05-30T19:19:41.090Z"
   },
   {
    "duration": 159,
    "start_time": "2023-05-30T19:19:41.162Z"
   },
   {
    "duration": 22,
    "start_time": "2023-05-30T19:19:41.324Z"
   },
   {
    "duration": 34,
    "start_time": "2023-05-30T19:19:41.348Z"
   },
   {
    "duration": 43,
    "start_time": "2023-05-30T19:19:41.384Z"
   },
   {
    "duration": 1146,
    "start_time": "2023-05-30T19:19:41.436Z"
   },
   {
    "duration": 73,
    "start_time": "2023-05-30T19:19:42.584Z"
   },
   {
    "duration": 3,
    "start_time": "2023-05-30T19:19:42.659Z"
   },
   {
    "duration": 73,
    "start_time": "2023-05-30T19:19:42.664Z"
   },
   {
    "duration": 6,
    "start_time": "2023-05-30T19:19:42.739Z"
   },
   {
    "duration": 1353,
    "start_time": "2023-05-30T19:19:42.746Z"
   },
   {
    "duration": 7,
    "start_time": "2023-05-30T19:19:44.107Z"
   },
   {
    "duration": 27,
    "start_time": "2023-05-30T19:19:44.120Z"
   },
   {
    "duration": 26,
    "start_time": "2023-05-30T19:19:44.148Z"
   },
   {
    "duration": 21,
    "start_time": "2023-05-30T19:19:44.175Z"
   },
   {
    "duration": 13,
    "start_time": "2023-05-30T19:19:44.199Z"
   },
   {
    "duration": 42,
    "start_time": "2023-05-30T19:19:44.213Z"
   },
   {
    "duration": 7,
    "start_time": "2023-05-30T19:19:44.258Z"
   },
   {
    "duration": 6,
    "start_time": "2023-05-30T19:19:44.266Z"
   },
   {
    "duration": 5,
    "start_time": "2023-05-30T19:19:44.322Z"
   },
   {
    "duration": 6,
    "start_time": "2023-05-30T19:19:44.355Z"
   },
   {
    "duration": 9,
    "start_time": "2023-05-30T19:19:44.418Z"
   },
   {
    "duration": 5,
    "start_time": "2023-05-30T19:19:44.471Z"
   },
   {
    "duration": 15,
    "start_time": "2023-05-30T19:19:45.231Z"
   },
   {
    "duration": 20,
    "start_time": "2023-05-30T19:19:47.235Z"
   },
   {
    "duration": 7,
    "start_time": "2023-05-30T19:19:47.289Z"
   },
   {
    "duration": 3,
    "start_time": "2023-05-30T19:19:47.374Z"
   },
   {
    "duration": 5,
    "start_time": "2023-05-30T19:19:47.450Z"
   },
   {
    "duration": 8,
    "start_time": "2023-05-30T19:19:47.526Z"
   },
   {
    "duration": 8,
    "start_time": "2023-05-30T19:19:47.543Z"
   },
   {
    "duration": 14,
    "start_time": "2023-05-30T19:19:47.620Z"
   },
   {
    "duration": 64,
    "start_time": "2023-05-30T19:19:47.798Z"
   },
   {
    "duration": 3,
    "start_time": "2023-05-30T19:19:47.867Z"
   },
   {
    "duration": 9,
    "start_time": "2023-05-30T19:19:48.707Z"
   },
   {
    "duration": 2,
    "start_time": "2023-05-30T19:19:49.125Z"
   },
   {
    "duration": 7,
    "start_time": "2023-05-30T19:19:50.027Z"
   },
   {
    "duration": 183,
    "start_time": "2023-05-30T19:19:53.020Z"
   },
   {
    "duration": 33,
    "start_time": "2023-05-30T19:20:00.418Z"
   },
   {
    "duration": 2,
    "start_time": "2023-05-30T19:20:03.437Z"
   },
   {
    "duration": 35,
    "start_time": "2023-05-30T19:20:04.098Z"
   },
   {
    "duration": 23,
    "start_time": "2023-05-30T19:20:13.090Z"
   },
   {
    "duration": 43,
    "start_time": "2023-05-30T19:20:13.368Z"
   },
   {
    "duration": 38,
    "start_time": "2023-05-30T19:20:14.450Z"
   },
   {
    "duration": 327,
    "start_time": "2023-05-30T19:20:15.405Z"
   },
   {
    "duration": 270,
    "start_time": "2023-05-30T19:20:18.222Z"
   },
   {
    "duration": 296,
    "start_time": "2023-05-30T19:20:19.420Z"
   },
   {
    "duration": 197,
    "start_time": "2023-05-30T19:20:24.629Z"
   },
   {
    "duration": 317,
    "start_time": "2023-05-30T19:20:29.330Z"
   },
   {
    "duration": 315,
    "start_time": "2023-05-30T19:22:47.496Z"
   },
   {
    "duration": 214,
    "start_time": "2023-05-30T19:23:06.943Z"
   },
   {
    "duration": 291,
    "start_time": "2023-05-30T19:23:13.859Z"
   },
   {
    "duration": 6,
    "start_time": "2023-05-30T19:23:20.622Z"
   },
   {
    "duration": 234,
    "start_time": "2023-05-30T19:24:02.283Z"
   },
   {
    "duration": 297,
    "start_time": "2023-05-30T19:25:25.844Z"
   },
   {
    "duration": 266,
    "start_time": "2023-05-30T19:26:46.354Z"
   },
   {
    "duration": 288,
    "start_time": "2023-05-30T19:26:47.326Z"
   },
   {
    "duration": 191,
    "start_time": "2023-05-30T19:26:47.983Z"
   },
   {
    "duration": 17,
    "start_time": "2023-05-30T19:27:30.526Z"
   },
   {
    "duration": 3,
    "start_time": "2023-05-30T19:27:31.725Z"
   },
   {
    "duration": 3,
    "start_time": "2023-05-30T19:27:32.225Z"
   },
   {
    "duration": 269,
    "start_time": "2023-05-30T19:27:37.674Z"
   },
   {
    "duration": 15,
    "start_time": "2023-05-30T19:30:12.532Z"
   },
   {
    "duration": 29,
    "start_time": "2023-05-30T19:30:15.901Z"
   },
   {
    "duration": 317,
    "start_time": "2023-05-30T19:34:00.464Z"
   },
   {
    "duration": 130,
    "start_time": "2023-05-30T19:35:03.728Z"
   },
   {
    "duration": 15,
    "start_time": "2023-05-30T19:35:05.864Z"
   },
   {
    "duration": 3,
    "start_time": "2023-05-30T19:35:07.788Z"
   },
   {
    "duration": 4,
    "start_time": "2023-05-30T19:35:08.592Z"
   },
   {
    "duration": 32,
    "start_time": "2023-05-30T19:35:10.701Z"
   },
   {
    "duration": 328,
    "start_time": "2023-05-30T19:40:14.173Z"
   },
   {
    "duration": 3,
    "start_time": "2023-05-30T19:41:05.991Z"
   },
   {
    "duration": 2890,
    "start_time": "2023-05-31T19:28:53.354Z"
   },
   {
    "duration": 1186,
    "start_time": "2023-05-31T19:28:56.246Z"
   },
   {
    "duration": 15,
    "start_time": "2023-05-31T19:28:57.433Z"
   },
   {
    "duration": 11,
    "start_time": "2023-05-31T19:28:57.452Z"
   },
   {
    "duration": 54,
    "start_time": "2023-05-31T19:28:57.466Z"
   },
   {
    "duration": 53,
    "start_time": "2023-05-31T19:28:57.522Z"
   },
   {
    "duration": 41,
    "start_time": "2023-05-31T19:28:57.577Z"
   },
   {
    "duration": 9,
    "start_time": "2023-05-31T19:28:57.620Z"
   },
   {
    "duration": 70,
    "start_time": "2023-05-31T19:28:57.631Z"
   },
   {
    "duration": 79,
    "start_time": "2023-05-31T19:28:57.703Z"
   },
   {
    "duration": 11,
    "start_time": "2023-05-31T19:28:57.783Z"
   },
   {
    "duration": 104,
    "start_time": "2023-05-31T19:28:57.800Z"
   },
   {
    "duration": 12,
    "start_time": "2023-05-31T19:28:57.906Z"
   },
   {
    "duration": 45,
    "start_time": "2023-05-31T19:28:57.919Z"
   },
   {
    "duration": 7,
    "start_time": "2023-05-31T19:28:57.966Z"
   },
   {
    "duration": 24,
    "start_time": "2023-05-31T19:28:57.976Z"
   },
   {
    "duration": 65,
    "start_time": "2023-05-31T19:28:58.002Z"
   },
   {
    "duration": 537,
    "start_time": "2023-05-31T19:28:58.076Z"
   },
   {
    "duration": 540,
    "start_time": "2023-05-31T19:28:58.614Z"
   },
   {
    "duration": 630,
    "start_time": "2023-05-31T19:28:59.161Z"
   },
   {
    "duration": 803,
    "start_time": "2023-05-31T19:28:59.803Z"
   },
   {
    "duration": 130,
    "start_time": "2023-05-31T19:29:00.607Z"
   },
   {
    "duration": 95,
    "start_time": "2023-05-31T19:29:00.739Z"
   },
   {
    "duration": 2458,
    "start_time": "2023-05-31T19:29:00.836Z"
   },
   {
    "duration": 70,
    "start_time": "2023-05-31T19:29:03.296Z"
   },
   {
    "duration": 12,
    "start_time": "2023-05-31T19:29:03.373Z"
   },
   {
    "duration": 55,
    "start_time": "2023-05-31T19:29:03.387Z"
   },
   {
    "duration": 16,
    "start_time": "2023-05-31T19:29:03.446Z"
   },
   {
    "duration": 1775,
    "start_time": "2023-05-31T19:29:03.471Z"
   },
   {
    "duration": 15,
    "start_time": "2023-05-31T19:29:05.255Z"
   },
   {
    "duration": 22,
    "start_time": "2023-05-31T19:29:05.274Z"
   },
   {
    "duration": 3320,
    "start_time": "2023-05-31T19:29:05.299Z"
   },
   {
    "duration": 16,
    "start_time": "2023-05-31T19:29:08.625Z"
   },
   {
    "duration": 17,
    "start_time": "2023-05-31T19:29:08.655Z"
   },
   {
    "duration": 35,
    "start_time": "2023-05-31T19:29:08.677Z"
   },
   {
    "duration": 6,
    "start_time": "2023-05-31T19:29:08.720Z"
   },
   {
    "duration": 4,
    "start_time": "2023-05-31T19:29:08.728Z"
   },
   {
    "duration": 30,
    "start_time": "2023-05-31T19:29:08.734Z"
   },
   {
    "duration": 12,
    "start_time": "2023-05-31T19:29:08.766Z"
   },
   {
    "duration": 8,
    "start_time": "2023-05-31T19:29:08.780Z"
   },
   {
    "duration": 5,
    "start_time": "2023-05-31T19:29:08.790Z"
   },
   {
    "duration": 21,
    "start_time": "2023-05-31T19:29:08.800Z"
   },
   {
    "duration": 16,
    "start_time": "2023-05-31T19:29:08.823Z"
   },
   {
    "duration": 4,
    "start_time": "2023-05-31T19:29:08.841Z"
   },
   {
    "duration": 20,
    "start_time": "2023-05-31T19:29:08.850Z"
   },
   {
    "duration": 10,
    "start_time": "2023-05-31T19:29:08.874Z"
   },
   {
    "duration": 4,
    "start_time": "2023-05-31T19:29:08.886Z"
   },
   {
    "duration": 8,
    "start_time": "2023-05-31T19:29:08.893Z"
   },
   {
    "duration": 13,
    "start_time": "2023-05-31T19:29:08.903Z"
   },
   {
    "duration": 71,
    "start_time": "2023-05-31T19:29:08.918Z"
   },
   {
    "duration": 3,
    "start_time": "2023-05-31T19:29:08.991Z"
   },
   {
    "duration": 13,
    "start_time": "2023-05-31T19:29:08.996Z"
   },
   {
    "duration": 18,
    "start_time": "2023-05-31T19:29:09.011Z"
   },
   {
    "duration": 10,
    "start_time": "2023-05-31T19:29:09.030Z"
   },
   {
    "duration": 292,
    "start_time": "2023-05-31T19:29:09.041Z"
   },
   {
    "duration": 43,
    "start_time": "2023-05-31T19:29:09.334Z"
   },
   {
    "duration": 3,
    "start_time": "2023-05-31T19:29:09.379Z"
   },
   {
    "duration": 42,
    "start_time": "2023-05-31T19:29:09.384Z"
   },
   {
    "duration": 25,
    "start_time": "2023-05-31T19:29:09.428Z"
   },
   {
    "duration": 44,
    "start_time": "2023-05-31T19:29:09.455Z"
   },
   {
    "duration": 43,
    "start_time": "2023-05-31T19:29:09.500Z"
   },
   {
    "duration": 417,
    "start_time": "2023-05-31T19:29:09.551Z"
   },
   {
    "duration": 385,
    "start_time": "2023-05-31T19:29:09.976Z"
   },
   {
    "duration": 370,
    "start_time": "2023-05-31T19:29:10.370Z"
   },
   {
    "duration": 267,
    "start_time": "2023-05-31T19:29:10.742Z"
   },
   {
    "duration": 3,
    "start_time": "2023-05-31T19:29:11.012Z"
   },
   {
    "duration": 26,
    "start_time": "2023-05-31T19:29:11.017Z"
   },
   {
    "duration": 3,
    "start_time": "2023-05-31T19:29:11.045Z"
   },
   {
    "duration": 19,
    "start_time": "2023-05-31T19:29:11.049Z"
   },
   {
    "duration": 34,
    "start_time": "2023-05-31T19:29:11.071Z"
   },
   {
    "duration": 133,
    "start_time": "2023-05-31T19:29:11.108Z"
   },
   {
    "duration": 0,
    "start_time": "2023-05-31T19:29:11.254Z"
   },
   {
    "duration": 2413,
    "start_time": "2023-05-31T20:37:31.323Z"
   },
   {
    "duration": 1080,
    "start_time": "2023-05-31T20:37:33.737Z"
   },
   {
    "duration": 14,
    "start_time": "2023-05-31T20:37:34.819Z"
   },
   {
    "duration": 3,
    "start_time": "2023-05-31T20:37:34.836Z"
   },
   {
    "duration": 72,
    "start_time": "2023-05-31T20:37:34.841Z"
   },
   {
    "duration": 43,
    "start_time": "2023-05-31T20:37:34.915Z"
   },
   {
    "duration": 18,
    "start_time": "2023-05-31T20:37:34.960Z"
   },
   {
    "duration": 9,
    "start_time": "2023-05-31T20:37:34.983Z"
   },
   {
    "duration": 71,
    "start_time": "2023-05-31T20:37:34.993Z"
   },
   {
    "duration": 67,
    "start_time": "2023-05-31T20:37:35.066Z"
   },
   {
    "duration": 6,
    "start_time": "2023-05-31T20:37:35.135Z"
   },
   {
    "duration": 88,
    "start_time": "2023-05-31T20:37:35.143Z"
   },
   {
    "duration": 8,
    "start_time": "2023-05-31T20:37:35.235Z"
   },
   {
    "duration": 28,
    "start_time": "2023-05-31T20:37:35.245Z"
   },
   {
    "duration": 4,
    "start_time": "2023-05-31T20:37:35.280Z"
   },
   {
    "duration": 12,
    "start_time": "2023-05-31T20:37:35.286Z"
   },
   {
    "duration": 28,
    "start_time": "2023-05-31T20:37:35.300Z"
   },
   {
    "duration": 459,
    "start_time": "2023-05-31T20:37:35.330Z"
   },
   {
    "duration": 67,
    "start_time": "2023-05-31T20:37:35.791Z"
   },
   {
    "duration": 316,
    "start_time": "2023-05-31T20:37:35.859Z"
   },
   {
    "duration": 30,
    "start_time": "2023-05-31T20:37:36.177Z"
   },
   {
    "duration": 63,
    "start_time": "2023-05-31T20:37:36.209Z"
   },
   {
    "duration": 36,
    "start_time": "2023-05-31T20:37:36.280Z"
   },
   {
    "duration": 1559,
    "start_time": "2023-05-31T20:37:36.318Z"
   },
   {
    "duration": 57,
    "start_time": "2023-05-31T20:37:37.887Z"
   },
   {
    "duration": 24,
    "start_time": "2023-05-31T20:37:37.946Z"
   },
   {
    "duration": 57,
    "start_time": "2023-05-31T20:37:37.979Z"
   },
   {
    "duration": 5,
    "start_time": "2023-05-31T20:37:38.038Z"
   },
   {
    "duration": 1521,
    "start_time": "2023-05-31T20:37:38.045Z"
   },
   {
    "duration": 7,
    "start_time": "2023-05-31T20:37:39.567Z"
   },
   {
    "duration": 13,
    "start_time": "2023-05-31T20:37:39.576Z"
   },
   {
    "duration": 2806,
    "start_time": "2023-05-31T20:37:39.591Z"
   },
   {
    "duration": 11,
    "start_time": "2023-05-31T20:37:42.399Z"
   },
   {
    "duration": 4,
    "start_time": "2023-05-31T20:37:42.412Z"
   },
   {
    "duration": 53,
    "start_time": "2023-05-31T20:37:42.417Z"
   },
   {
    "duration": 14,
    "start_time": "2023-05-31T20:37:42.472Z"
   },
   {
    "duration": 10,
    "start_time": "2023-05-31T20:37:42.487Z"
   },
   {
    "duration": 11,
    "start_time": "2023-05-31T20:37:42.501Z"
   },
   {
    "duration": 11,
    "start_time": "2023-05-31T20:37:42.514Z"
   },
   {
    "duration": 5,
    "start_time": "2023-05-31T20:37:42.530Z"
   },
   {
    "duration": 6,
    "start_time": "2023-05-31T20:37:42.536Z"
   },
   {
    "duration": 31,
    "start_time": "2023-05-31T20:37:42.544Z"
   },
   {
    "duration": 21,
    "start_time": "2023-05-31T20:37:42.577Z"
   },
   {
    "duration": 5,
    "start_time": "2023-05-31T20:37:42.599Z"
   },
   {
    "duration": 5,
    "start_time": "2023-05-31T20:37:42.606Z"
   },
   {
    "duration": 6,
    "start_time": "2023-05-31T20:37:42.613Z"
   },
   {
    "duration": 5,
    "start_time": "2023-05-31T20:37:42.620Z"
   },
   {
    "duration": 8,
    "start_time": "2023-05-31T20:37:42.626Z"
   },
   {
    "duration": 12,
    "start_time": "2023-05-31T20:37:42.650Z"
   },
   {
    "duration": 60,
    "start_time": "2023-05-31T20:37:42.664Z"
   },
   {
    "duration": 3,
    "start_time": "2023-05-31T20:37:42.726Z"
   },
   {
    "duration": 14,
    "start_time": "2023-05-31T20:37:42.730Z"
   },
   {
    "duration": 30,
    "start_time": "2023-05-31T20:37:42.746Z"
   },
   {
    "duration": 14,
    "start_time": "2023-05-31T20:37:42.781Z"
   },
   {
    "duration": 315,
    "start_time": "2023-05-31T20:37:42.798Z"
   },
   {
    "duration": 55,
    "start_time": "2023-05-31T20:37:43.114Z"
   },
   {
    "duration": 7,
    "start_time": "2023-05-31T20:37:43.175Z"
   },
   {
    "duration": 24,
    "start_time": "2023-05-31T20:37:43.186Z"
   },
   {
    "duration": 12,
    "start_time": "2023-05-31T20:37:49.975Z"
   },
   {
    "duration": 5,
    "start_time": "2023-05-31T20:38:02.531Z"
   },
   {
    "duration": 4,
    "start_time": "2023-05-31T20:38:09.536Z"
   },
   {
    "duration": 1440,
    "start_time": "2023-06-01T08:32:13.839Z"
   },
   {
    "duration": 691,
    "start_time": "2023-06-01T08:32:15.281Z"
   },
   {
    "duration": 12,
    "start_time": "2023-06-01T08:32:15.974Z"
   },
   {
    "duration": 3,
    "start_time": "2023-06-01T08:32:15.989Z"
   },
   {
    "duration": 18,
    "start_time": "2023-06-01T08:32:15.994Z"
   },
   {
    "duration": 27,
    "start_time": "2023-06-01T08:32:16.014Z"
   },
   {
    "duration": 12,
    "start_time": "2023-06-01T08:32:16.043Z"
   },
   {
    "duration": 9,
    "start_time": "2023-06-01T08:32:16.057Z"
   },
   {
    "duration": 122,
    "start_time": "2023-06-01T08:32:16.068Z"
   },
   {
    "duration": 78,
    "start_time": "2023-06-01T08:32:16.192Z"
   },
   {
    "duration": 8,
    "start_time": "2023-06-01T08:32:16.272Z"
   },
   {
    "duration": 78,
    "start_time": "2023-06-01T08:32:16.281Z"
   },
   {
    "duration": 9,
    "start_time": "2023-06-01T08:32:16.361Z"
   },
   {
    "duration": 47,
    "start_time": "2023-06-01T08:32:16.371Z"
   },
   {
    "duration": 5,
    "start_time": "2023-06-01T08:32:16.420Z"
   },
   {
    "duration": 23,
    "start_time": "2023-06-01T08:32:16.427Z"
   },
   {
    "duration": 43,
    "start_time": "2023-06-01T08:32:16.452Z"
   },
   {
    "duration": 17,
    "start_time": "2023-06-01T08:32:21.117Z"
   },
   {
    "duration": 29,
    "start_time": "2023-06-01T08:32:37.894Z"
   },
   {
    "duration": 5504,
    "start_time": "2023-06-01T08:33:32.367Z"
   },
   {
    "duration": 26,
    "start_time": "2023-06-01T08:33:54.752Z"
   },
   {
    "duration": 171,
    "start_time": "2023-06-01T08:33:58.314Z"
   },
   {
    "duration": 21,
    "start_time": "2023-06-01T08:34:11.046Z"
   },
   {
    "duration": 187,
    "start_time": "2023-06-01T08:34:31.976Z"
   },
   {
    "duration": 533,
    "start_time": "2023-06-01T08:34:41.850Z"
   },
   {
    "duration": 240,
    "start_time": "2023-06-01T08:35:05.577Z"
   },
   {
    "duration": 283,
    "start_time": "2023-06-01T08:35:55.881Z"
   },
   {
    "duration": 233,
    "start_time": "2023-06-01T08:36:21.949Z"
   },
   {
    "duration": 169,
    "start_time": "2023-06-01T08:36:28.722Z"
   },
   {
    "duration": 127,
    "start_time": "2023-06-01T08:37:20.669Z"
   },
   {
    "duration": 17,
    "start_time": "2023-06-01T08:37:40.951Z"
   },
   {
    "duration": 31,
    "start_time": "2023-06-01T08:37:42.616Z"
   },
   {
    "duration": 17,
    "start_time": "2023-06-01T08:37:43.169Z"
   },
   {
    "duration": 1060,
    "start_time": "2023-06-01T08:37:46.340Z"
   },
   {
    "duration": 52,
    "start_time": "2023-06-01T08:37:48.883Z"
   },
   {
    "duration": 4,
    "start_time": "2023-06-01T08:37:49.482Z"
   },
   {
    "duration": 46,
    "start_time": "2023-06-01T08:37:50.337Z"
   },
   {
    "duration": 6,
    "start_time": "2023-06-01T08:37:53.256Z"
   },
   {
    "duration": 1206,
    "start_time": "2023-06-01T08:37:54.107Z"
   },
   {
    "duration": 2,
    "start_time": "2023-06-01T08:38:00.771Z"
   },
   {
    "duration": 1228,
    "start_time": "2023-06-01T08:38:45.962Z"
   },
   {
    "duration": 384,
    "start_time": "2023-06-01T08:39:26.577Z"
   },
   {
    "duration": 1168,
    "start_time": "2023-06-01T08:42:32.870Z"
   },
   {
    "duration": 1321,
    "start_time": "2023-06-01T08:44:19.149Z"
   },
   {
    "duration": 1272,
    "start_time": "2023-06-01T08:45:46.296Z"
   },
   {
    "duration": 1314,
    "start_time": "2023-06-01T08:45:51.705Z"
   },
   {
    "duration": 1300,
    "start_time": "2023-06-01T08:46:26.638Z"
   },
   {
    "duration": 6,
    "start_time": "2023-06-01T08:48:36.456Z"
   },
   {
    "duration": 25,
    "start_time": "2023-06-01T08:48:36.925Z"
   },
   {
    "duration": 20,
    "start_time": "2023-06-01T08:48:38.912Z"
   },
   {
    "duration": 4,
    "start_time": "2023-06-01T08:48:43.817Z"
   },
   {
    "duration": 25,
    "start_time": "2023-06-01T08:48:44.383Z"
   },
   {
    "duration": 8,
    "start_time": "2023-06-01T08:48:46.772Z"
   },
   {
    "duration": 3,
    "start_time": "2023-06-01T08:48:47.254Z"
   },
   {
    "duration": 4,
    "start_time": "2023-06-01T08:48:47.670Z"
   },
   {
    "duration": 6,
    "start_time": "2023-06-01T08:48:47.978Z"
   },
   {
    "duration": 3,
    "start_time": "2023-06-01T08:48:48.196Z"
   },
   {
    "duration": 3,
    "start_time": "2023-06-01T08:48:48.578Z"
   },
   {
    "duration": 16,
    "start_time": "2023-06-01T08:48:49.997Z"
   },
   {
    "duration": 19,
    "start_time": "2023-06-01T08:48:54.651Z"
   },
   {
    "duration": 6,
    "start_time": "2023-06-01T08:48:56.932Z"
   },
   {
    "duration": 3,
    "start_time": "2023-06-01T08:48:57.757Z"
   },
   {
    "duration": 5,
    "start_time": "2023-06-01T08:48:58.313Z"
   },
   {
    "duration": 5,
    "start_time": "2023-06-01T08:48:59.010Z"
   },
   {
    "duration": 6,
    "start_time": "2023-06-01T08:49:16.119Z"
   },
   {
    "duration": 7,
    "start_time": "2023-06-01T08:49:18.987Z"
   },
   {
    "duration": 18,
    "start_time": "2023-06-01T08:49:53.669Z"
   },
   {
    "duration": 4,
    "start_time": "2023-06-01T08:50:06.865Z"
   },
   {
    "duration": 20,
    "start_time": "2023-06-01T08:50:13.675Z"
   },
   {
    "duration": 6,
    "start_time": "2023-06-01T08:50:13.772Z"
   },
   {
    "duration": 3,
    "start_time": "2023-06-01T08:50:14.350Z"
   },
   {
    "duration": 5,
    "start_time": "2023-06-01T08:50:14.561Z"
   },
   {
    "duration": 4,
    "start_time": "2023-06-01T08:50:14.848Z"
   },
   {
    "duration": 5,
    "start_time": "2023-06-01T08:50:15.341Z"
   },
   {
    "duration": 7,
    "start_time": "2023-06-01T08:50:17.594Z"
   },
   {
    "duration": 45,
    "start_time": "2023-06-01T08:50:43.769Z"
   },
   {
    "duration": 2,
    "start_time": "2023-06-01T08:50:45.579Z"
   },
   {
    "duration": 5,
    "start_time": "2023-06-01T08:50:45.960Z"
   },
   {
    "duration": 3,
    "start_time": "2023-06-01T08:50:46.367Z"
   },
   {
    "duration": 7,
    "start_time": "2023-06-01T08:50:46.852Z"
   },
   {
    "duration": 140,
    "start_time": "2023-06-01T09:08:10.467Z"
   },
   {
    "duration": 175,
    "start_time": "2023-06-01T09:08:49.522Z"
   },
   {
    "duration": 7,
    "start_time": "2023-06-01T09:11:28.191Z"
   },
   {
    "duration": 6,
    "start_time": "2023-06-01T09:11:37.730Z"
   },
   {
    "duration": 7,
    "start_time": "2023-06-01T09:11:49.707Z"
   },
   {
    "duration": 6,
    "start_time": "2023-06-01T09:11:51.873Z"
   },
   {
    "duration": 7,
    "start_time": "2023-06-01T09:11:52.793Z"
   },
   {
    "duration": 159,
    "start_time": "2023-06-01T09:14:09.220Z"
   },
   {
    "duration": 188,
    "start_time": "2023-06-01T09:14:56.708Z"
   },
   {
    "duration": 69,
    "start_time": "2023-06-01T10:59:36.086Z"
   },
   {
    "duration": 92,
    "start_time": "2023-06-01T11:00:00.542Z"
   },
   {
    "duration": 457,
    "start_time": "2023-06-01T11:00:12.953Z"
   },
   {
    "duration": 522,
    "start_time": "2023-06-01T11:01:17.637Z"
   },
   {
    "duration": 476,
    "start_time": "2023-06-01T11:02:40.665Z"
   },
   {
    "duration": 482,
    "start_time": "2023-06-01T11:06:45.781Z"
   },
   {
    "duration": 166,
    "start_time": "2023-06-01T11:06:47.169Z"
   },
   {
    "duration": 146,
    "start_time": "2023-06-01T11:08:40.463Z"
   },
   {
    "duration": 283,
    "start_time": "2023-06-01T11:09:27.208Z"
   },
   {
    "duration": 156,
    "start_time": "2023-06-01T11:11:38.191Z"
   },
   {
    "duration": 156,
    "start_time": "2023-06-01T11:11:56.162Z"
   },
   {
    "duration": 171,
    "start_time": "2023-06-01T11:12:22.490Z"
   },
   {
    "duration": 7,
    "start_time": "2023-06-01T11:18:23.944Z"
   },
   {
    "duration": 8,
    "start_time": "2023-06-01T11:18:27.688Z"
   },
   {
    "duration": 10,
    "start_time": "2023-06-01T11:19:17.617Z"
   },
   {
    "duration": 10,
    "start_time": "2023-06-01T11:19:19.260Z"
   },
   {
    "duration": 19,
    "start_time": "2023-06-01T11:19:38.268Z"
   },
   {
    "duration": 17,
    "start_time": "2023-06-01T11:19:51.162Z"
   },
   {
    "duration": 46,
    "start_time": "2023-06-01T11:20:00.713Z"
   },
   {
    "duration": 2,
    "start_time": "2023-06-01T11:20:01.681Z"
   },
   {
    "duration": 9,
    "start_time": "2023-06-01T11:20:02.295Z"
   },
   {
    "duration": 8,
    "start_time": "2023-06-01T11:20:05.056Z"
   },
   {
    "duration": 7,
    "start_time": "2023-06-01T11:28:05.456Z"
   },
   {
    "duration": 14,
    "start_time": "2023-06-01T11:52:56.966Z"
   },
   {
    "duration": 16,
    "start_time": "2023-06-01T11:53:19.117Z"
   },
   {
    "duration": 18,
    "start_time": "2023-06-01T11:53:44.706Z"
   },
   {
    "duration": 44,
    "start_time": "2023-06-01T11:53:47.391Z"
   },
   {
    "duration": 2,
    "start_time": "2023-06-01T11:53:47.858Z"
   },
   {
    "duration": 7,
    "start_time": "2023-06-01T11:53:48.588Z"
   },
   {
    "duration": 7,
    "start_time": "2023-06-01T11:53:51.220Z"
   },
   {
    "duration": 48,
    "start_time": "2023-06-01T11:54:08.058Z"
   },
   {
    "duration": 3,
    "start_time": "2023-06-01T11:54:08.410Z"
   },
   {
    "duration": 10,
    "start_time": "2023-06-01T11:54:08.874Z"
   },
   {
    "duration": 6,
    "start_time": "2023-06-01T11:54:09.578Z"
   },
   {
    "duration": 7,
    "start_time": "2023-06-01T11:54:10.159Z"
   },
   {
    "duration": 28,
    "start_time": "2023-06-01T11:55:10.183Z"
   },
   {
    "duration": 45,
    "start_time": "2023-06-01T11:56:10.416Z"
   },
   {
    "duration": 30,
    "start_time": "2023-06-01T11:56:22.025Z"
   },
   {
    "duration": 35,
    "start_time": "2023-06-01T11:56:40.822Z"
   },
   {
    "duration": 35,
    "start_time": "2023-06-01T11:57:06.454Z"
   },
   {
    "duration": 33,
    "start_time": "2023-06-01T11:57:10.809Z"
   },
   {
    "duration": 35,
    "start_time": "2023-06-01T11:57:17.878Z"
   },
   {
    "duration": 22,
    "start_time": "2023-06-01T12:05:12.204Z"
   },
   {
    "duration": 26,
    "start_time": "2023-06-01T12:05:40.053Z"
   },
   {
    "duration": 3,
    "start_time": "2023-06-01T12:05:44.192Z"
   },
   {
    "duration": 23,
    "start_time": "2023-06-01T12:05:45.820Z"
   },
   {
    "duration": 44,
    "start_time": "2023-06-01T12:10:17.958Z"
   },
   {
    "duration": 39,
    "start_time": "2023-06-01T12:10:42.154Z"
   },
   {
    "duration": 26,
    "start_time": "2023-06-01T12:13:16.686Z"
   },
   {
    "duration": 18,
    "start_time": "2023-06-01T12:13:24.088Z"
   },
   {
    "duration": 27,
    "start_time": "2023-06-01T12:14:36.180Z"
   },
   {
    "duration": 21,
    "start_time": "2023-06-01T12:15:00.808Z"
   },
   {
    "duration": 20,
    "start_time": "2023-06-01T12:16:10.260Z"
   },
   {
    "duration": 23,
    "start_time": "2023-06-01T12:16:18.325Z"
   },
   {
    "duration": 25,
    "start_time": "2023-06-01T12:16:25.022Z"
   },
   {
    "duration": 22,
    "start_time": "2023-06-01T12:16:34.075Z"
   },
   {
    "duration": 23,
    "start_time": "2023-06-01T12:16:55.884Z"
   },
   {
    "duration": 18,
    "start_time": "2023-06-01T12:17:06.247Z"
   },
   {
    "duration": 27,
    "start_time": "2023-06-01T12:17:15.533Z"
   },
   {
    "duration": 19,
    "start_time": "2023-06-01T12:17:31.677Z"
   },
   {
    "duration": 22,
    "start_time": "2023-06-01T12:18:34.654Z"
   },
   {
    "duration": 24,
    "start_time": "2023-06-01T12:18:40.261Z"
   },
   {
    "duration": 1287,
    "start_time": "2023-06-01T12:18:48.691Z"
   },
   {
    "duration": 21,
    "start_time": "2023-06-01T12:18:52.786Z"
   },
   {
    "duration": 25,
    "start_time": "2023-06-01T12:19:01.853Z"
   },
   {
    "duration": 25,
    "start_time": "2023-06-01T12:19:04.005Z"
   },
   {
    "duration": 22,
    "start_time": "2023-06-01T12:19:20.180Z"
   },
   {
    "duration": 21,
    "start_time": "2023-06-01T12:20:13.680Z"
   },
   {
    "duration": 40,
    "start_time": "2023-06-01T12:30:08.124Z"
   },
   {
    "duration": 3,
    "start_time": "2023-06-01T12:30:12.992Z"
   },
   {
    "duration": 3,
    "start_time": "2023-06-01T12:30:18.190Z"
   },
   {
    "duration": 29,
    "start_time": "2023-06-01T12:36:05.065Z"
   },
   {
    "duration": 5,
    "start_time": "2023-06-01T12:36:05.933Z"
   },
   {
    "duration": 1229,
    "start_time": "2023-06-01T12:36:25.060Z"
   },
   {
    "duration": 1210,
    "start_time": "2023-06-01T12:36:32.953Z"
   },
   {
    "duration": 70,
    "start_time": "2023-06-01T12:37:02.083Z"
   },
   {
    "duration": 22,
    "start_time": "2023-06-01T12:37:18.420Z"
   },
   {
    "duration": 3,
    "start_time": "2023-06-01T12:37:19.971Z"
   },
   {
    "duration": 30,
    "start_time": "2023-06-01T12:37:38.297Z"
   },
   {
    "duration": 24,
    "start_time": "2023-06-01T12:38:23.985Z"
   },
   {
    "duration": 5,
    "start_time": "2023-06-01T12:38:25.476Z"
   },
   {
    "duration": 4,
    "start_time": "2023-06-01T12:38:30.228Z"
   },
   {
    "duration": 22,
    "start_time": "2023-06-01T12:38:36.045Z"
   },
   {
    "duration": 6,
    "start_time": "2023-06-01T12:38:36.987Z"
   },
   {
    "duration": 24,
    "start_time": "2023-06-01T12:38:58.267Z"
   },
   {
    "duration": 5,
    "start_time": "2023-06-01T12:38:59.118Z"
   },
   {
    "duration": 36,
    "start_time": "2023-06-01T12:39:05.865Z"
   },
   {
    "duration": 4,
    "start_time": "2023-06-01T12:39:06.444Z"
   },
   {
    "duration": 32,
    "start_time": "2023-06-01T12:39:13.580Z"
   },
   {
    "duration": 25,
    "start_time": "2023-06-01T12:39:44.652Z"
   },
   {
    "duration": 4,
    "start_time": "2023-06-01T12:39:45.335Z"
   },
   {
    "duration": 40,
    "start_time": "2023-06-01T12:40:13.895Z"
   },
   {
    "duration": 4,
    "start_time": "2023-06-01T12:40:17.459Z"
   },
   {
    "duration": 4,
    "start_time": "2023-06-01T12:40:23.890Z"
   },
   {
    "duration": 4,
    "start_time": "2023-06-01T12:40:33.688Z"
   },
   {
    "duration": 984,
    "start_time": "2023-06-01T12:40:58.953Z"
   },
   {
    "duration": 39,
    "start_time": "2023-06-01T12:41:04.542Z"
   },
   {
    "duration": 4,
    "start_time": "2023-06-01T12:41:06.844Z"
   },
   {
    "duration": 39,
    "start_time": "2023-06-01T12:41:42.038Z"
   },
   {
    "duration": 3,
    "start_time": "2023-06-01T12:41:47.204Z"
   },
   {
    "duration": 4,
    "start_time": "2023-06-01T12:41:52.219Z"
   },
   {
    "duration": 42,
    "start_time": "2023-06-01T12:41:58.474Z"
   },
   {
    "duration": 26,
    "start_time": "2023-06-01T13:03:44.948Z"
   },
   {
    "duration": 35,
    "start_time": "2023-06-01T13:04:01.880Z"
   },
   {
    "duration": 9,
    "start_time": "2023-06-01T13:04:26.872Z"
   },
   {
    "duration": 11,
    "start_time": "2023-06-01T13:04:28.087Z"
   },
   {
    "duration": 21,
    "start_time": "2023-06-01T13:04:49.367Z"
   },
   {
    "duration": 39,
    "start_time": "2023-06-01T13:04:49.913Z"
   },
   {
    "duration": 35,
    "start_time": "2023-06-01T13:04:52.631Z"
   },
   {
    "duration": 245,
    "start_time": "2023-06-01T13:04:53.900Z"
   },
   {
    "duration": 240,
    "start_time": "2023-06-01T13:04:56.401Z"
   },
   {
    "duration": 238,
    "start_time": "2023-06-01T13:04:57.006Z"
   },
   {
    "duration": 165,
    "start_time": "2023-06-01T13:04:57.621Z"
   },
   {
    "duration": 16,
    "start_time": "2023-06-01T13:04:59.306Z"
   },
   {
    "duration": 16,
    "start_time": "2023-06-01T13:05:00.199Z"
   },
   {
    "duration": 23,
    "start_time": "2023-06-01T13:05:01.995Z"
   },
   {
    "duration": 274,
    "start_time": "2023-06-01T13:06:33.356Z"
   },
   {
    "duration": 251,
    "start_time": "2023-06-01T13:16:43.237Z"
   },
   {
    "duration": 321,
    "start_time": "2023-06-01T13:17:25.354Z"
   },
   {
    "duration": 291,
    "start_time": "2023-06-01T13:17:36.968Z"
   },
   {
    "duration": 183,
    "start_time": "2023-06-01T13:17:47.374Z"
   }
  ],
  "colab": {
   "provenance": []
  },
  "kernelspec": {
   "display_name": "Python 3 (ipykernel)",
   "language": "python",
   "name": "python3"
  },
  "language_info": {
   "codemirror_mode": {
    "name": "ipython",
    "version": 3
   },
   "file_extension": ".py",
   "mimetype": "text/x-python",
   "name": "python",
   "nbconvert_exporter": "python",
   "pygments_lexer": "ipython3",
   "version": "3.9.13"
  },
  "toc": {
   "base_numbering": 1,
   "nav_menu": {},
   "number_sections": true,
   "sideBar": true,
   "skip_h1_title": true,
   "title_cell": "Table of Contents",
   "title_sidebar": "Contents",
   "toc_cell": false,
   "toc_position": {},
   "toc_section_display": true,
   "toc_window_display": false
  }
 },
 "nbformat": 4,
 "nbformat_minor": 1
}
