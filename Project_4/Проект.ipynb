{
 "cells": [
  {
   "cell_type": "markdown",
   "id": "fd797969",
   "metadata": {},
   "source": [
    "## Задачи\n",
    "- Посчитать, сколько книг вышло после 1 января 2000 года\n",
    "- Для каждой книги посчитать количество обзоров и среднюю оценку\n",
    "- Определить издательство, которое выпустило наибольшее число книг толще 50 страниц — так брошюры будут исключены из анализа\n",
    "- Определить автора с самой высокой средней оценкой книг — учитывайте только книги с 50 и более оценками\n",
    "- Посчитать среднее количество обзоров от пользователей, которые поставили больше 48 оценок."
   ]
  },
  {
   "cell_type": "markdown",
   "id": "5f1600a4",
   "metadata": {},
   "source": [
    "## Компания решила быть на волне и купила крупный сервис для чтения книг по подписке. Моя первая задача как аналитика — проанализировать базу данных."
   ]
  },
  {
   "cell_type": "code",
   "execution_count": 1,
   "id": "9ab0e22f",
   "metadata": {},
   "outputs": [
    {
     "data": {
      "text/html": [
       "<div>\n",
       "<style scoped>\n",
       "    .dataframe tbody tr th:only-of-type {\n",
       "        vertical-align: middle;\n",
       "    }\n",
       "\n",
       "    .dataframe tbody tr th {\n",
       "        vertical-align: top;\n",
       "    }\n",
       "\n",
       "    .dataframe thead th {\n",
       "        text-align: right;\n",
       "    }\n",
       "</style>\n",
       "<table border=\"1\" class=\"dataframe\">\n",
       "  <thead>\n",
       "    <tr style=\"text-align: right;\">\n",
       "      <th></th>\n",
       "      <th>book_id</th>\n",
       "      <th>author_id</th>\n",
       "      <th>title</th>\n",
       "      <th>num_pages</th>\n",
       "      <th>publication_date</th>\n",
       "      <th>publisher_id</th>\n",
       "    </tr>\n",
       "  </thead>\n",
       "  <tbody>\n",
       "    <tr>\n",
       "      <th>0</th>\n",
       "      <td>1</td>\n",
       "      <td>546</td>\n",
       "      <td>'Salem's Lot</td>\n",
       "      <td>594</td>\n",
       "      <td>2005-11-01</td>\n",
       "      <td>93</td>\n",
       "    </tr>\n",
       "    <tr>\n",
       "      <th>1</th>\n",
       "      <td>2</td>\n",
       "      <td>465</td>\n",
       "      <td>1 000 Places to See Before You Die</td>\n",
       "      <td>992</td>\n",
       "      <td>2003-05-22</td>\n",
       "      <td>336</td>\n",
       "    </tr>\n",
       "    <tr>\n",
       "      <th>2</th>\n",
       "      <td>3</td>\n",
       "      <td>407</td>\n",
       "      <td>13 Little Blue Envelopes (Little Blue Envelope...</td>\n",
       "      <td>322</td>\n",
       "      <td>2010-12-21</td>\n",
       "      <td>135</td>\n",
       "    </tr>\n",
       "    <tr>\n",
       "      <th>3</th>\n",
       "      <td>4</td>\n",
       "      <td>82</td>\n",
       "      <td>1491: New Revelations of the Americas Before C...</td>\n",
       "      <td>541</td>\n",
       "      <td>2006-10-10</td>\n",
       "      <td>309</td>\n",
       "    </tr>\n",
       "    <tr>\n",
       "      <th>4</th>\n",
       "      <td>5</td>\n",
       "      <td>125</td>\n",
       "      <td>1776</td>\n",
       "      <td>386</td>\n",
       "      <td>2006-07-04</td>\n",
       "      <td>268</td>\n",
       "    </tr>\n",
       "  </tbody>\n",
       "</table>\n",
       "</div>"
      ],
      "text/plain": [
       "   book_id  author_id                                              title  \\\n",
       "0        1        546                                       'Salem's Lot   \n",
       "1        2        465                 1 000 Places to See Before You Die   \n",
       "2        3        407  13 Little Blue Envelopes (Little Blue Envelope...   \n",
       "3        4         82  1491: New Revelations of the Americas Before C...   \n",
       "4        5        125                                               1776   \n",
       "\n",
       "   num_pages publication_date  publisher_id  \n",
       "0        594       2005-11-01            93  \n",
       "1        992       2003-05-22           336  \n",
       "2        322       2010-12-21           135  \n",
       "3        541       2006-10-10           309  \n",
       "4        386       2006-07-04           268  "
      ]
     },
     "execution_count": 1,
     "metadata": {},
     "output_type": "execute_result"
    }
   ],
   "source": [
    "import pandas as pd\n",
    "from sqlalchemy import text, create_engine\n",
    "\n",
    "db_config = {'user': '', \n",
    "'pwd': '', \n",
    "'host': '',\n",
    "'port': ,\n",
    "'db': ''} \n",
    "connection_string = 'postgresql://{user}:{pwd}@{host}:{port}/{db}'.format(**db_config)\n",
    "\n",
    "engine = create_engine(connection_string, connect_args={'sslmode':'require'})\n",
    "query = '''SELECT * FROM books LIMIT 5'''\n",
    "con=engine.connect()\n",
    "pd.io.sql.read_sql(sql=text(query), con = con)"
   ]
  },
  {
   "cell_type": "code",
   "execution_count": 2,
   "id": "7084b30c",
   "metadata": {},
   "outputs": [],
   "source": [
    "def vguh(x):\n",
    "    query = x\n",
    "    return pd.io.sql.read_sql(sql=text(query), con = con)"
   ]
  },
  {
   "cell_type": "markdown",
   "id": "34d333cf",
   "metadata": {},
   "source": [
    "## Количество книг вышло после 1 января 2000 года"
   ]
  },
  {
   "cell_type": "code",
   "execution_count": 3,
   "id": "a65bb72c",
   "metadata": {},
   "outputs": [
    {
     "name": "stdout",
     "output_type": "stream",
     "text": [
      "Вывод: \n",
      "Количество уникальных книг, вышедших после 1 января 2000 года = 819\n"
     ]
    }
   ],
   "source": [
    "print('Вывод: \\nКоличество уникальных книг, вышедших после 1 января 2000 года =',vguh('''SELECT COUNT(*)\n",
    "                                                                                 FROM books\n",
    "                                                                                 WHERE publication_date > \\'2000-01-01\\'''').values[0][0])"
   ]
  },
  {
   "cell_type": "markdown",
   "id": "a9447610",
   "metadata": {},
   "source": [
    "## Для каждой книги количество обзоров и среднюю оценку"
   ]
  },
  {
   "cell_type": "code",
   "execution_count": 4,
   "id": "1b78f516",
   "metadata": {},
   "outputs": [
    {
     "data": {
      "text/html": [
       "<div>\n",
       "<style scoped>\n",
       "    .dataframe tbody tr th:only-of-type {\n",
       "        vertical-align: middle;\n",
       "    }\n",
       "\n",
       "    .dataframe tbody tr th {\n",
       "        vertical-align: top;\n",
       "    }\n",
       "\n",
       "    .dataframe thead th {\n",
       "        text-align: right;\n",
       "    }\n",
       "</style>\n",
       "<table border=\"1\" class=\"dataframe\">\n",
       "  <thead>\n",
       "    <tr style=\"text-align: right;\">\n",
       "      <th></th>\n",
       "      <th>book_id</th>\n",
       "      <th>title</th>\n",
       "      <th>mean_rating</th>\n",
       "      <th>total_reviews</th>\n",
       "    </tr>\n",
       "  </thead>\n",
       "  <tbody>\n",
       "    <tr>\n",
       "      <th>0</th>\n",
       "      <td>652</td>\n",
       "      <td>The Body in the Library (Miss Marple  #3)</td>\n",
       "      <td>4.500000</td>\n",
       "      <td>2.0</td>\n",
       "    </tr>\n",
       "    <tr>\n",
       "      <th>1</th>\n",
       "      <td>273</td>\n",
       "      <td>Galápagos</td>\n",
       "      <td>4.500000</td>\n",
       "      <td>2.0</td>\n",
       "    </tr>\n",
       "    <tr>\n",
       "      <th>2</th>\n",
       "      <td>51</td>\n",
       "      <td>A Tree Grows in Brooklyn</td>\n",
       "      <td>4.250000</td>\n",
       "      <td>5.0</td>\n",
       "    </tr>\n",
       "    <tr>\n",
       "      <th>3</th>\n",
       "      <td>951</td>\n",
       "      <td>Undaunted Courage: The Pioneering First Missio...</td>\n",
       "      <td>4.000000</td>\n",
       "      <td>2.0</td>\n",
       "    </tr>\n",
       "    <tr>\n",
       "      <th>4</th>\n",
       "      <td>839</td>\n",
       "      <td>The Prophet</td>\n",
       "      <td>4.285714</td>\n",
       "      <td>4.0</td>\n",
       "    </tr>\n",
       "    <tr>\n",
       "      <th>...</th>\n",
       "      <td>...</td>\n",
       "      <td>...</td>\n",
       "      <td>...</td>\n",
       "      <td>...</td>\n",
       "    </tr>\n",
       "    <tr>\n",
       "      <th>995</th>\n",
       "      <td>64</td>\n",
       "      <td>Alice in Wonderland</td>\n",
       "      <td>4.230769</td>\n",
       "      <td>4.0</td>\n",
       "    </tr>\n",
       "    <tr>\n",
       "      <th>996</th>\n",
       "      <td>55</td>\n",
       "      <td>A Woman of Substance (Emma Harte Saga #1)</td>\n",
       "      <td>5.000000</td>\n",
       "      <td>2.0</td>\n",
       "    </tr>\n",
       "    <tr>\n",
       "      <th>997</th>\n",
       "      <td>148</td>\n",
       "      <td>Christine</td>\n",
       "      <td>3.428571</td>\n",
       "      <td>3.0</td>\n",
       "    </tr>\n",
       "    <tr>\n",
       "      <th>998</th>\n",
       "      <td>790</td>\n",
       "      <td>The Magicians' Guild (Black Magician Trilogy  #1)</td>\n",
       "      <td>3.500000</td>\n",
       "      <td>2.0</td>\n",
       "    </tr>\n",
       "    <tr>\n",
       "      <th>999</th>\n",
       "      <td>828</td>\n",
       "      <td>The Plot Against America</td>\n",
       "      <td>3.000000</td>\n",
       "      <td>2.0</td>\n",
       "    </tr>\n",
       "  </tbody>\n",
       "</table>\n",
       "<p>1000 rows × 4 columns</p>\n",
       "</div>"
      ],
      "text/plain": [
       "     book_id                                              title  mean_rating  \\\n",
       "0        652          The Body in the Library (Miss Marple  #3)     4.500000   \n",
       "1        273                                          Galápagos     4.500000   \n",
       "2         51                           A Tree Grows in Brooklyn     4.250000   \n",
       "3        951  Undaunted Courage: The Pioneering First Missio...     4.000000   \n",
       "4        839                                        The Prophet     4.285714   \n",
       "..       ...                                                ...          ...   \n",
       "995       64                                Alice in Wonderland     4.230769   \n",
       "996       55          A Woman of Substance (Emma Harte Saga #1)     5.000000   \n",
       "997      148                                          Christine     3.428571   \n",
       "998      790  The Magicians' Guild (Black Magician Trilogy  #1)     3.500000   \n",
       "999      828                           The Plot Against America     3.000000   \n",
       "\n",
       "     total_reviews  \n",
       "0              2.0  \n",
       "1              2.0  \n",
       "2              5.0  \n",
       "3              2.0  \n",
       "4              4.0  \n",
       "..             ...  \n",
       "995            4.0  \n",
       "996            2.0  \n",
       "997            3.0  \n",
       "998            2.0  \n",
       "999            2.0  \n",
       "\n",
       "[1000 rows x 4 columns]"
      ]
     },
     "execution_count": 4,
     "metadata": {},
     "output_type": "execute_result"
    }
   ],
   "source": [
    "vguh('''SELECT \n",
    "    b.book_id,\n",
    "    b.title,\n",
    "    r.mean_rating, \n",
    "    rev.total_reviews\n",
    "    FROM \n",
    "    books b\n",
    "    LEFT JOIN \n",
    "        (SELECT \n",
    "             book_id, \n",
    "             AVG(rating) as mean_rating \n",
    "         FROM \n",
    "             ratings \n",
    "         GROUP BY book_id\n",
    "        ) r \n",
    "    ON b.book_id = r.book_id\n",
    "    LEFT JOIN \n",
    "        (SELECT \n",
    "             book_id, \n",
    "             COUNT(review_id) as total_reviews \n",
    "         FROM \n",
    "             reviews \n",
    "         GROUP BY book_id\n",
    "        ) rev \n",
    "    ON b.book_id = rev.book_id''')"
   ]
  },
  {
   "cell_type": "code",
   "execution_count": 5,
   "id": "36855749",
   "metadata": {},
   "outputs": [
    {
     "data": {
      "text/html": [
       "<div>\n",
       "<style scoped>\n",
       "    .dataframe tbody tr th:only-of-type {\n",
       "        vertical-align: middle;\n",
       "    }\n",
       "\n",
       "    .dataframe tbody tr th {\n",
       "        vertical-align: top;\n",
       "    }\n",
       "\n",
       "    .dataframe thead th {\n",
       "        text-align: right;\n",
       "    }\n",
       "</style>\n",
       "<table border=\"1\" class=\"dataframe\">\n",
       "  <thead>\n",
       "    <tr style=\"text-align: right;\">\n",
       "      <th></th>\n",
       "      <th>book_id</th>\n",
       "      <th>title</th>\n",
       "      <th>mean_rating</th>\n",
       "      <th>total_reviews</th>\n",
       "    </tr>\n",
       "  </thead>\n",
       "  <tbody>\n",
       "    <tr>\n",
       "      <th>0</th>\n",
       "      <td>387</td>\n",
       "      <td>Leonardo's Notebooks</td>\n",
       "      <td>4.000000</td>\n",
       "      <td>None</td>\n",
       "    </tr>\n",
       "    <tr>\n",
       "      <th>1</th>\n",
       "      <td>191</td>\n",
       "      <td>Disney's Beauty and the Beast (A Little Golden...</td>\n",
       "      <td>4.000000</td>\n",
       "      <td>None</td>\n",
       "    </tr>\n",
       "    <tr>\n",
       "      <th>2</th>\n",
       "      <td>672</td>\n",
       "      <td>The Cat in the Hat and Other Dr. Seuss Favorites</td>\n",
       "      <td>5.000000</td>\n",
       "      <td>None</td>\n",
       "    </tr>\n",
       "    <tr>\n",
       "      <th>3</th>\n",
       "      <td>808</td>\n",
       "      <td>The Natural Way to Draw</td>\n",
       "      <td>3.000000</td>\n",
       "      <td>None</td>\n",
       "    </tr>\n",
       "    <tr>\n",
       "      <th>4</th>\n",
       "      <td>83</td>\n",
       "      <td>Anne Rice's The Vampire Lestat: A Graphic Novel</td>\n",
       "      <td>3.666667</td>\n",
       "      <td>None</td>\n",
       "    </tr>\n",
       "    <tr>\n",
       "      <th>5</th>\n",
       "      <td>221</td>\n",
       "      <td>Essential Tales and Poems</td>\n",
       "      <td>4.000000</td>\n",
       "      <td>None</td>\n",
       "    </tr>\n",
       "  </tbody>\n",
       "</table>\n",
       "</div>"
      ],
      "text/plain": [
       "   book_id                                              title  mean_rating  \\\n",
       "0      387                               Leonardo's Notebooks     4.000000   \n",
       "1      191  Disney's Beauty and the Beast (A Little Golden...     4.000000   \n",
       "2      672   The Cat in the Hat and Other Dr. Seuss Favorites     5.000000   \n",
       "3      808                            The Natural Way to Draw     3.000000   \n",
       "4       83    Anne Rice's The Vampire Lestat: A Graphic Novel     3.666667   \n",
       "5      221                          Essential Tales and Poems     4.000000   \n",
       "\n",
       "  total_reviews  \n",
       "0          None  \n",
       "1          None  \n",
       "2          None  \n",
       "3          None  \n",
       "4          None  \n",
       "5          None  "
      ]
     },
     "execution_count": 5,
     "metadata": {},
     "output_type": "execute_result"
    }
   ],
   "source": [
    "vguh('''SELECT \n",
    "    b.book_id,\n",
    "    b.title,\n",
    "    r.mean_rating, \n",
    "    rev.total_reviews\n",
    "    FROM \n",
    "    books b\n",
    "    LEFT JOIN \n",
    "        (SELECT \n",
    "             book_id, \n",
    "             AVG(rating) as mean_rating \n",
    "         FROM \n",
    "             ratings \n",
    "         GROUP BY book_id\n",
    "        ) r \n",
    "    ON b.book_id = r.book_id\n",
    "    LEFT JOIN \n",
    "        (SELECT \n",
    "             book_id, \n",
    "             COUNT(review_id) as total_reviews \n",
    "         FROM \n",
    "             reviews \n",
    "         GROUP BY book_id\n",
    "        ) rev \n",
    "    ON b.book_id = rev.book_id\n",
    "    WHERE rev.total_reviews IS NULL''')"
   ]
  },
  {
   "cell_type": "markdown",
   "id": "f7c4bfdf",
   "metadata": {},
   "source": [
    "### Вывод:\n",
    "- Выведена таблица, в которой собры id, названия книг, средние оценки, количество обзоров\n",
    "- Также выведена таблица с книгами на которые не было обзоров - их 6 "
   ]
  },
  {
   "cell_type": "markdown",
   "id": "3a28ca69",
   "metadata": {},
   "source": [
    "## Определить издательство, которое выпустило наибольшее число книг толще 50 страниц — так исключатся из анализа брошюры"
   ]
  },
  {
   "cell_type": "code",
   "execution_count": 6,
   "id": "8c43cd86",
   "metadata": {},
   "outputs": [],
   "source": [
    "top_publisher = vguh('''SELECT p_bs.publisher_id, p.publisher, p_bs.books\n",
    "        FROM publishers p\n",
    "        INNER JOIN\n",
    "            (SELECT publisher_id, COUNT(*) AS books \n",
    "            FROM books \n",
    "            WHERE num_pages > 50 \n",
    "            GROUP BY publisher_id\n",
    "            ORDER BY COUNT(*) DESC\n",
    "            LIMIT 1) as p_bs\n",
    "        ON p.publisher_id = p_bs.publisher_id\n",
    "        ''')"
   ]
  },
  {
   "cell_type": "code",
   "execution_count": 7,
   "id": "78e71c01",
   "metadata": {},
   "outputs": [
    {
     "name": "stdout",
     "output_type": "stream",
     "text": [
      "Вывод: \n",
      "Издательство с наибольшим количеством книг, страниц у которых больше 50.\n",
      "ID: 212 \n",
      "Название: Penguin Books \n",
      "Количество книг: 42\n"
     ]
    }
   ],
   "source": [
    "print('Вывод: \\nИздательство с наибольшим количеством книг, страниц у которых больше 50.\\nID:',top_publisher['publisher_id'][0],'\\nНазвание:',top_publisher['publisher'][0],'\\nКоличество книг:',top_publisher['books'][0])"
   ]
  },
  {
   "cell_type": "markdown",
   "id": "7c76ac13",
   "metadata": {},
   "source": [
    "## Автор с самой высокой средней оценкой книг — учитываются только книги с 50 и более оценками"
   ]
  },
  {
   "cell_type": "code",
   "execution_count": 8,
   "id": "16606ac7",
   "metadata": {},
   "outputs": [],
   "source": [
    "task_3 = vguh('''SELECT au.author_id, au.author, B.avg\n",
    "FROM authors AS au\n",
    "INNER JOIN\n",
    "    (SELECT author_id, avg\n",
    "    FROM (\n",
    "        SELECT author_id, AVG(t_p_b.avg) \n",
    "        FROM books AS b \n",
    "        RIGHT JOIN (\n",
    "            SELECT book_id, AVG(rating) \n",
    "            FROM ratings \n",
    "            GROUP BY book_id \n",
    "            HAVING COUNT(rating_id)>49\n",
    "            ) AS t_p_b \n",
    "        ON b.book_id = t_p_b.book_id \n",
    "        GROUP BY author_id \n",
    "        ) A \n",
    "    ORDER BY A.avg DESC\n",
    "    LIMIT 1\n",
    "    ) AS B\n",
    "ON au.author_id = B.author_id''')[['author','avg']]"
   ]
  },
  {
   "cell_type": "code",
   "execution_count": 9,
   "id": "d5c83315",
   "metadata": {
    "scrolled": true
   },
   "outputs": [
    {
     "name": "stdout",
     "output_type": "stream",
     "text": [
      "Вывод: \n",
      "Автор с самой высокой средней оценкой книг — учитываются только книги с 50 и более оценками\n",
      "Имя: J.K. Rowling/Mary GrandPré \n",
      "Средняя оценка: 4.283844038868471\n"
     ]
    }
   ],
   "source": [
    "print('Вывод: \\nАвтор с самой высокой средней оценкой книг — учитываются только книги с 50 и более оценками\\nИмя:', task_3.values[0][0],'\\nСредняя оценка:',task_3.values[0][1])"
   ]
  },
  {
   "cell_type": "markdown",
   "id": "3ada5957",
   "metadata": {},
   "source": [
    "## Среднее количество обзоров от пользователей, которые поставили больше 48 оценок"
   ]
  },
  {
   "cell_type": "code",
   "execution_count": 10,
   "id": "403fa622",
   "metadata": {},
   "outputs": [
    {
     "name": "stdout",
     "output_type": "stream",
     "text": [
      "Вывод: \n",
      "Среднее количество обзоров от пользователей, которые поставили больше 48 оценок = 24.0\n"
     ]
    }
   ],
   "source": [
    "print('Вывод: \\nСреднее количество обзоров от пользователей, которые поставили больше 48 оценок =',vguh('''SELECT AVG(count)\n",
    "        FROM (SELECT COUNT(text)\n",
    "        FROM reviews\n",
    "        WHERE username IN (SELECT username\n",
    "        FROM ratings\n",
    "        GROUP BY username\n",
    "        HAVING COUNT(rating_id) > 48)\n",
    "        GROUP BY username) AS A''').values[0][0])"
   ]
  },
  {
   "cell_type": "markdown",
   "id": "08adb18e",
   "metadata": {},
   "source": [
    "## Вывод:\n",
    "1. С 2000 года было выпущено 819 уникальных книг, что говорит о продолжающемся интересе к изданию книг и поддержании культуры чтения.\n",
    "2. Для каждой книги были вычислены количество обзоров и средний рейтинг. Это может помочь определить, какие книги наиболее популярны среди читателей, и какие из них получают наиболее высокие оценки.\n",
    "3. Издательство \"Penguin Books\" выпустило наибольшее количество книг (42), страниц которых больше 50. Это подчеркивает активность этого издательства и его преданность выпуску качественных, содержательных произведений.\n",
    "4. Автор с самой высокой средней оценкой - \"J.K. Rowling/Mary GrandPré\", учитывая только книги с 50 и более оценками. Средний рейтинг составляет примерно 4.28, что является довольно высоким показателем и говорит о высоком качестве ее работ.\n",
    "5. Пользователи, которые оставили более 48 оценок, в среднем пишут 24 обзора. Это показывает, что самые активные пользователи часто делятся своим мнением о прочитанных книгах, что может быть полезно для других читателей при выборе книг."
   ]
  }
 ],
 "metadata": {
  "kernelspec": {
   "display_name": "Python 3 (ipykernel)",
   "language": "python",
   "name": "python3"
  },
  "language_info": {
   "codemirror_mode": {
    "name": "ipython",
    "version": 3
   },
   "file_extension": ".py",
   "mimetype": "text/x-python",
   "name": "python",
   "nbconvert_exporter": "python",
   "pygments_lexer": "ipython3",
   "version": "3.9.13"
  }
 },
 "nbformat": 4,
 "nbformat_minor": 5
}
